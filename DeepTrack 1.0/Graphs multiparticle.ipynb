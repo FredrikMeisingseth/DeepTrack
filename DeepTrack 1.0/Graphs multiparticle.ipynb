{
 "cells": [
  {
   "cell_type": "markdown",
   "metadata": {},
   "source": [
    "# Notebook for benchmarking U-track against Deeptrack\n"
   ]
  },
  {
   "cell_type": "markdown",
   "metadata": {},
   "source": [
    "## 1. Initialization\n"
   ]
  },
  {
   "cell_type": "markdown",
   "metadata": {},
   "source": [
    "### 1a. Imports\n"
   ]
  },
  {
   "cell_type": "code",
   "execution_count": 1,
   "metadata": {},
   "outputs": [],
   "source": [
    "import deeptrack, imageGeneration, unet, benchmark\n",
    "from matplotlib import pyplot as plt\n",
    "import numpy as np"
   ]
  },
  {
   "cell_type": "code",
   "execution_count": 2,
   "metadata": {},
   "outputs": [
    {
     "name": "stdout",
     "output_type": "stream",
     "text": [
      "1 Physical GPUs, 1 Logical GPUs\n"
     ]
    }
   ],
   "source": [
    "#bugfix for fredrik REMOVE LATER\n",
    "import tensorflow as tf\n",
    "gpus = tf.config.experimental.list_physical_devices('GPU')\n",
    "if gpus:\n",
    "    try:\n",
    "        # Restrict TensorFlow to only use the fourth GPU\n",
    "        tf.config.experimental.set_visible_devices(gpus[0], 'GPU')\n",
    "\n",
    "        # Currently, memory growth needs to be the same across GPUs\n",
    "        for gpu in gpus:\n",
    "            tf.config.experimental.set_memory_growth(gpu, True)\n",
    "        logical_gpus = tf.config.experimental.list_logical_devices('GPU')\n",
    "        print(len(gpus), \"Physical GPUs,\", len(logical_gpus), \"Logical GPUs\")\n",
    "    except RuntimeError as e:\n",
    "        # Memory growth must be set before GPUs have been initialized\n",
    "        print(e)"
   ]
  },
  {
   "cell_type": "code",
   "execution_count": 3,
   "metadata": {},
   "outputs": [
    {
     "name": "stderr",
     "output_type": "stream",
     "text": [
      "Using TensorFlow backend.\n"
     ]
    }
   ],
   "source": [
    "#import networks\n",
    "unet_model = unet.create_unet(\"Network - uTrack.hdf5\")\n",
    "deeptrack_network = deeptrack.load(\"DeepTrack - Example 1a - Pretrained network.h5\")"
   ]
  },
  {
   "cell_type": "markdown",
   "metadata": {},
   "source": [
    "### 1b. Define image parameters function"
   ]
  },
  {
   "cell_type": "code",
   "execution_count": 4,
   "metadata": {},
   "outputs": [],
   "source": [
    "def get_image_parameters_multiple_particles(SNR, allow_overlap = True):\n",
    "    from numpy.random import uniform, randint, exponential\n",
    "    from numpy import ones, clip\n",
    "    from math import pi\n",
    "    \n",
    "    image_size = 256\n",
    "    \n",
    "    particle_number = randint(10, 20)\n",
    "    particle_radius_list = uniform(2, 8, particle_number)\n",
    "    (particle_center_x_list, particle_center_y_list) = imageGeneration.generate_particle_positions(particle_radius_list, image_size, allow_overlap = allow_overlap)\n",
    "\n",
    "    particle_bessel_orders_list = []\n",
    "    particle_intensities_list = []\n",
    "\n",
    "    for i in range(particle_number):\n",
    "        particle_bessel_orders_list.append([randint(1,3), ])\n",
    "        particle_intensities_list.append([uniform(0.1, 0.3, 1), ])\n",
    "\n",
    "    image_parameters = imageGeneration.get_image_parameters(\n",
    "        particle_center_x_list=lambda: particle_center_x_list,\n",
    "        particle_center_y_list=lambda: particle_center_y_list,\n",
    "        particle_radius_list=lambda: particle_radius_list, \n",
    "        particle_bessel_orders_list=lambda: particle_bessel_orders_list,\n",
    "        particle_intensities_list=lambda: particle_intensities_list,\n",
    "        image_size=lambda: image_size,\n",
    "        image_background_level=lambda: uniform(0.1, 0.3),\n",
    "        signal_to_noise_ratio=lambda: SNR,\n",
    "        gradient_intensity=lambda: uniform(0, 0.4),\n",
    "        gradient_direction=lambda: uniform(-pi, pi),\n",
    "        ellipsoidal_orientation=lambda: uniform(-pi, pi, particle_number),\n",
    "        ellipticity=lambda: 1)\n",
    "\n",
    "    return image_parameters"
   ]
  },
  {
   "cell_type": "markdown",
   "metadata": {},
   "source": [
    "### 2a. Calculate optimal parameters for SNR = 1 and SNR = 10"
   ]
  },
  {
   "cell_type": "markdown",
   "metadata": {},
   "source": [
    "#### Optimal cutoff"
   ]
  },
  {
   "cell_type": "code",
   "execution_count": 5,
   "metadata": {},
   "outputs": [
    {
     "name": "stdout",
     "output_type": "stream",
     "text": [
      "SNR = 1\n",
      "Time for optimization: 1841.3313190937042 s\n",
      "Optimal cutoff: [0.6737439]\n",
      "SNR = 10\n",
      "Time for optimization: 543.648051738739 s\n",
      "Optimal cutoff: [0.96515625]\n"
     ]
    }
   ],
   "source": [
    "import time\n",
    "from numpy import zeros\n",
    "\n",
    "#Define parameters\n",
    "SNRs = [1,10]\n",
    "optimal_cutoffs = zeros(len(SNRs))\n",
    "batch_size_for_optimization = 400\n",
    "image_size_x = 256\n",
    "image_size_y = 256\n",
    "scanning_box_size_x = 10\n",
    "scanning_box_size_y = 10\n",
    "number_of_extra_iterations = 2\n",
    "\n",
    "for i,SNR in enumerate(SNRs):\n",
    "    print(\"SNR = {}\".format(SNR))\n",
    "    \n",
    "    \n",
    "    # Find optimal cutoff by first generating a batch for the current SNR, then finding optimal cutoff on this batch\n",
    "    batch_for_finding_parameters = imageGeneration.get_batch(lambda: get_image_parameters_multiple_particles(SNR),\n",
    "                                                         batch_size = batch_size_for_optimization, suppress_warnings = True, verbose = False)\n",
    "\n",
    "    (batch_images, batch_labels, batch_predictions, batch_particle_attributes) = batch_for_finding_parameters\n",
    "    batch_predictions_unet = unet.predict(unet_model, batch_images)\n",
    "\n",
    "    t1 = time.time()\n",
    "    \n",
    "    optimal_cutoff = benchmark.get_optimal_parameters_unet(batch_predictions_unet,\n",
    "                                                           batch_particle_attributes,\n",
    "                                                           image_size_x, image_size_y,\n",
    "                                                           scanning_box_size_x, scanning_box_size_y,\n",
    "                                                           batch_size_for_optimization,\n",
    "                                                           number_of_extra_iterations)\n",
    "\n",
    "    t2 = time.time()\n",
    "    print(\"Time for optimization: {} s\".format(t2-t1))\n",
    "    print(\"Optimal cutoff: {}\".format(optimal_cutoff))\n",
    "    optimal_cutoffs[i] = optimal_cutoff"
   ]
  },
  {
   "cell_type": "markdown",
   "metadata": {},
   "source": [
    "#### Optimal parameters for deeptrack"
   ]
  },
  {
   "cell_type": "code",
   "execution_count": 8,
   "metadata": {},
   "outputs": [
    {
     "name": "stdout",
     "output_type": "stream",
     "text": [
      "SNR = 1\n",
      "Time for optimization: 11189.692596673965 s\n",
      "Optimal parameters: [ 6.26708984 11.59082031]\n",
      "\n",
      "SNR = 10\n",
      "Time for optimization: 15139.705665826797 s\n",
      "Optimal parameters: [7.225 9.75 ]\n",
      "\n"
     ]
    }
   ],
   "source": [
    "import time\n",
    "from numpy import zeros\n",
    "\n",
    "#Define parameters.\n",
    "#Since the optmization of deeptrack's parameters take alot more time than the optimization of cutoff for Utrack,\n",
    "#the batch size aught to be alot smaller. As visualized in the evaluation of the optimal parameters, this comparably\n",
    "#small batch suffices to arrive near the optimum.\n",
    "SNRs = [1,10]\n",
    "DT_first_parameter = zeros(len(SNRs))\n",
    "DT_second_parameter = zeros(len(SNRs))\n",
    "batch_size_for_optimization = 20\n",
    "image_size_x = 256\n",
    "image_size_y = 256\n",
    "scanning_box_size_x = 10\n",
    "scanning_box_size_y = 10\n",
    "number_of_extra_iterations = 2\n",
    "\n",
    "for i,SNR in enumerate(SNRs):\n",
    "    print(\"SNR = {}\".format(SNR))\n",
    "    \n",
    "    # Find optimal parameters by first generating a batch for the current SNR, then finding optimal cutoff on this batch\n",
    "    batch_for_finding_parameters = imageGeneration.get_batch(lambda: get_image_parameters_multiple_particles(SNR),\n",
    "                                                         batch_size = batch_size_for_optimization, suppress_warnings = True, verbose = False)\n",
    "    \n",
    "    (batch_images, batch_labels, batch_predictions, batch_particle_attributes) = batch_for_finding_parameters\n",
    "    \n",
    "    (number_frames_to_be_tracked,\n",
    "     frames, predicted_positions_wrt_frame,\n",
    "     predicted_positions_wrt_box, boxes_all) = benchmark.predict_batch_deeptrack(deeptrack_network,\n",
    "                                                                                 batch_images,\n",
    "                                                                                 box_half_size=20,\n",
    "                                                                                 box_scanning_step=4)\n",
    "\n",
    "\n",
    "    t1 = time.time()\n",
    "    optimal_parameters_deeptrack = benchmark.get_optimal_parameters_DT(predicted_positions_wrt_frame,\n",
    "                                                             batch_particle_attributes,\n",
    "                                                             image_size_x, image_size_y,\n",
    "                                                             scanning_box_size_x, scanning_box_size_y,\n",
    "                                                             sample_size=batch_size_for_optimization,\n",
    "                                                             number_of_iterations=number_of_extra_iterations,\n",
    "                                                             x0=[8, 8],\n",
    "                                                             verbose=False,\n",
    "                                                             FPR_weight=1)\n",
    "    \n",
    "    DT_first_parameter[i] = optimal_parameters_deeptrack[0]\n",
    "    DT_second_parameter[i] = optimal_parameters_deeptrack[1]\n",
    "    \n",
    "    t2 = time.time()\n",
    "    print(\"Time for optimization: {} s\".format(t2-t1))\n",
    "    print(\"Optimal parameters: {}\".format(optimal_parameters_deeptrack))\n",
    "    print()\n",
    "\n"
   ]
  },
  {
   "cell_type": "markdown",
   "metadata": {},
   "source": [
    "### 2b. Create linearly spaced vector of values spread between optimal values"
   ]
  },
  {
   "cell_type": "markdown",
   "metadata": {},
   "source": [
    "These values will be used as approximation of optimal parameters since the parameters are stipulated to relate about linearly to the value of SNR."
   ]
  },
  {
   "cell_type": "code",
   "execution_count": 9,
   "metadata": {},
   "outputs": [
    {
     "name": "stdout",
     "output_type": "stream",
     "text": [
      "[0.6737439  0.70612305 0.7385022  0.77088135 0.8032605  0.83563965\n",
      " 0.8680188  0.90039795 0.9327771  0.96515625]\n",
      "[6.26708984 6.37352431 6.47995877 6.58639323 6.69282769 6.79926215\n",
      " 6.90569661 7.01213108 7.11856554 7.225     ]\n",
      "[11.59082031 11.38628472 11.18174913 10.97721354 10.77267795 10.56814236\n",
      " 10.36360677 10.15907118  9.95453559  9.75      ]\n"
     ]
    }
   ],
   "source": [
    "cutoffs_extended = np.linspace(optimal_cutoffs[0],optimal_cutoffs[1],10)\n",
    "print(cutoffs_extended)\n",
    "DT_first_parameter_extended = np.linspace(DT_first_parameter[0],DT_first_parameter[1],10)\n",
    "print(DT_first_parameter_extended)\n",
    "DT_second_parameter_extended = np.linspace(DT_second_parameter[0],DT_second_parameter[1],10)\n",
    "print(DT_second_parameter_extended)"
   ]
  },
  {
   "cell_type": "markdown",
   "metadata": {},
   "source": [
    "### 2c. Evaluate optimality "
   ]
  },
  {
   "cell_type": "markdown",
   "metadata": {},
   "source": [
    "The optimality for deeptrack's parameters is done by fixing one of them and varying the other in a interval around the calculated optimum. This is note a proof of optimality but rather a visualization hopefully confirming that the calculated optimum is reasonable."
   ]
  },
  {
   "cell_type": "code",
   "execution_count": 14,
   "metadata": {},
   "outputs": [
    {
     "data": {
      "image/png": "[encoded data removed]",
      "text/plain": [
       "<Figure size 432x288 with 1 Axes>"
      ]
     },
     "metadata": {
      "needs_background": "light"
     },
     "output_type": "display_data"
    },
    {
     "data": {
      "image/png": "[encoded data removed]",
      "text/plain": [
       "<Figure size 432x288 with 1 Axes>"
      ]
     },
     "metadata": {
      "needs_background": "light"
     },
     "output_type": "display_data"
    }
   ],
   "source": [
    "import matplotlib.pyplot as plt\n",
    "\n",
    "# Define ranges and variables. Adapt these to the results from the optimizations\n",
    "params = [DT_first_parameter[1],DT_second_parameter[1]]\n",
    "diffs = np.linspace(params[0]-2,params[0]+2,30)\n",
    "distance = np.zeros(len(diffs))\n",
    "verbose = False\n",
    "SNR = 10\n",
    "batch_size_for_evaluation = 200\n",
    "scanning_box_size_x = 10\n",
    "scanning_box_size_y = 10\n",
    "scanning_box_step_x = scanning_box_size_x / 4\n",
    "scanning_box_step_y = scanning_box_size_y / 4\n",
    "\n",
    "# Generate batch\n",
    "(batch_images, batch_labels, batch_predictions, batch_particle_attributes) = imageGeneration.get_batch(lambda: get_image_parameters_multiple_particles(SNR),\n",
    "                                                     batch_size = batch_size_for_evaluation, suppress_warnings = True, verbose = False)\n",
    "    \n",
    "\n",
    "for i,diff in enumerate(diffs,0):\n",
    "    predicted_positions_DT = benchmark.get_predicted_positions_DT(diff,\n",
    "                                                                  params[1],\n",
    "                                                                  number_frames_to_be_tracked,\n",
    "                                                                  predicted_positions_wrt_frame,\n",
    "                                                                  verbose = False)\n",
    "    \n",
    "\n",
    "    P, N, TP, FP, TN, FN = benchmark.get_op_chars(predicted_positions_DT,\n",
    "                                        batch_particle_attributes,\n",
    "                                        image_size_x, image_size_y,\n",
    "                                        scanning_box_size_x, scanning_box_size_y,\n",
    "                                        scanning_box_step_x, scanning_box_step_y)\n",
    "\n",
    "    \n",
    "    dist = benchmark.distance_from_upper_left_corner_ROC((P, N, TP, FP, TN, FN),1)\n",
    "    distance[i] = dist\n",
    "    \n",
    "    if(verbose):print(dist)\n",
    "\n",
    "\n",
    "plt.plot(diffs,distance,label = \"distance\")\n",
    "plt.legend(loc=\"upper left\")\n",
    "plt.xlabel(\"Deeptrack's first parameter\")\n",
    "plt.ylabel(\"Distance from upper left corner in ROC-curve\")\n",
    "plt.show()\n",
    "\n",
    "\n",
    "\n",
    "\n",
    "##now vary second parameter\n",
    "diffs = np.linspace(params[1]-4,params[1]+4,30)\n",
    "distance = np.zeros(len(diffs))\n",
    "\n",
    "verbose = False\n",
    "\n",
    "for i,diff in enumerate(diffs,0):\n",
    "    predicted_positions_DT = benchmark.get_predicted_positions_DT(params[0],\n",
    "                                                                  diff,\n",
    "                                                                  number_frames_to_be_tracked,\n",
    "                                                                  predicted_positions_wrt_frame,\n",
    "                                                                  verbose = False)\n",
    "\n",
    "\n",
    "    P, N, TP, FP, TN, FN = benchmark.get_op_chars(predicted_positions_DT,\n",
    "                                        batch_particle_attributes,\n",
    "                                        image_size_x, image_size_y,\n",
    "                                        scanning_box_size_x, scanning_box_size_y,\n",
    "                                        scanning_box_step_x, scanning_box_step_y)\n",
    "\n",
    "    \n",
    "    dist = benchmark.distance_from_upper_left_corner_ROC((P, N, TP, FP, TN, FN),1)\n",
    "    distance[i] = dist\n",
    "    \n",
    "    if(verbose):print(dist)\n",
    "\n",
    "plt.plot(diffs,distance,label = \"distance\")\n",
    "plt.legend(loc=\"upper left\")\n",
    "plt.xlabel(\"Deeptrack's second parameter\")\n",
    "plt.ylabel(\"Distance from upper left corner in ROC-curve\")\n",
    "plt.show()"
   ]
  },
  {
   "cell_type": "code",
   "execution_count": null,
   "metadata": {},
   "outputs": [],
   "source": []
  },
  {
   "cell_type": "code",
   "execution_count": 11,
   "metadata": {},
   "outputs": [
    {
     "data": {
      "image/png": "[encoded data removed]",
      "text/plain": [
       "<Figure size 432x288 with 1 Axes>"
      ]
     },
     "metadata": {
      "needs_background": "light"
     },
     "output_type": "display_data"
    }
   ],
   "source": [
    "import matplotlib.pyplot as plt\n",
    "\n",
    "# Define ranges and variables. Adapt these to the results from the optimizations\n",
    "optimal_cutoff = optimal_cutoffs[0]\n",
    "cutoffs = np.linspace(0.5,0.8,30)\n",
    "distance = np.zeros(len(cutoffs))\n",
    "\n",
    "SNR = 1\n",
    "batch_size_for_evaluation = 100\n",
    "# Find optimal cutoff by first generating a batch for the current SNR, then finding optimal cutoff on this batch\n",
    "(batch_images,\n",
    " batch_labels,\n",
    " batch_predictions,\n",
    " batch_particle_attributes) = imageGeneration.get_batch(lambda: get_image_parameters_multiple_particles(SNR),\n",
    "                                                     batch_size = batch_size_for_evaluation, suppress_warnings = True, verbose = False)\n",
    "\n",
    "image_width = 256 \n",
    "image_height = 256\n",
    "scanning_box_size_x = 10\n",
    "scanning_box_size_y = 10\n",
    "scanning_box_step_x = scanning_box_size_x / 4\n",
    "scanning_box_step_y = scanning_box_size_y / 4\n",
    "\n",
    "verbose = False\n",
    "for i,cutoff in enumerate(cutoffs,0):\n",
    "    batch_predictions_unet = unet.predict(unet_model, batch_images)\n",
    "    \n",
    "    batch_predictions_unet = benchmark.get_predicted_positions_unet(batch_size_for_optimization,\n",
    "                                                                    batch_predictions_unet,\n",
    "                                                                    image_width, image_height,\n",
    "                                                                    cutoff_value=cutoff)\n",
    "    \n",
    "    P, N, TP, FP, TN, FN = benchmark.get_op_chars(batch_predictions_unet,\n",
    "                                        batch_particle_attributes,\n",
    "                                        image_width, image_height,\n",
    "                                        scanning_box_size_x, scanning_box_size_y,\n",
    "                                        scanning_box_step_x, scanning_box_step_y)\n",
    "\n",
    "    \n",
    "    dist = benchmark.distance_from_upper_left_corner_ROC((P, N, TP, FP, TN, FN),1)\n",
    "    distance[i] = dist\n",
    "    \n",
    "    if(verbose):print(dist)\n",
    "\n",
    "\n",
    "plt.plot(cutoffs,distance,label = \"distance\")\n",
    "plt.legend(loc=\"upper left\")\n",
    "plt.xlabel(\"deviation from optimal first parameter\")\n",
    "plt.ylabel(\"Distance from upper left corner in ROC-curve\")\n",
    "plt.show()"
   ]
  },
  {
   "cell_type": "code",
   "execution_count": null,
   "metadata": {},
   "outputs": [],
   "source": []
  },
  {
   "cell_type": "markdown",
   "metadata": {},
   "source": [
    "## 3. uTrack vs deeptrack"
   ]
  },
  {
   "cell_type": "code",
   "execution_count": 12,
   "metadata": {},
   "outputs": [
    {
     "name": "stdout",
     "output_type": "stream",
     "text": [
      "SNR: 1\n",
      "Optimal cutoff: 0.6737438964843754\n",
      "Optimal parameters: [6.267089843749996, 11.590820312499986]\n",
      "\n",
      "SNR: 2\n",
      "Optimal cutoff: 0.7061230468750004\n",
      "Optimal parameters: [6.373524305555551, 11.386284722222209]\n",
      "\n",
      "SNR: 3\n",
      "Optimal cutoff: 0.7385021972656254\n",
      "Optimal parameters: [6.479958767361107, 11.181749131944432]\n",
      "\n",
      "SNR: 4\n",
      "Optimal cutoff: 0.7708813476562504\n",
      "Optimal parameters: [6.586393229166663, 10.977213541666655]\n",
      "\n",
      "SNR: 5\n",
      "Optimal cutoff: 0.8032604980468754\n",
      "Optimal parameters: [6.692827690972218, 10.772677951388879]\n",
      "\n",
      "SNR: 6\n",
      "Optimal cutoff: 0.8356396484375004\n",
      "Optimal parameters: [6.799262152777775, 10.5681423611111]\n",
      "\n",
      "SNR: 7\n",
      "Optimal cutoff: 0.8680187988281255\n",
      "Optimal parameters: [6.905696614583331, 10.363606770833323]\n",
      "\n",
      "SNR: 8\n",
      "Optimal cutoff: 0.9003979492187505\n",
      "Optimal parameters: [7.012131076388886, 10.159071180555546]\n",
      "\n",
      "SNR: 9\n",
      "Optimal cutoff: 0.9327770996093755\n",
      "Optimal parameters: [7.118565538194442, 9.95453559027777]\n",
      "\n",
      "SNR: 10\n",
      "Optimal cutoff: 0.9651562500000005\n",
      "Optimal parameters: [7.224999999999998, 9.749999999999993]\n",
      "\n",
      "SNR: 20\n",
      "Optimal cutoff: 0.9651562500000005\n",
      "Optimal parameters: [7.224999999999998, 9.749999999999993]\n",
      "\n",
      "SNR: 30\n",
      "Optimal cutoff: 0.9651562500000005\n",
      "Optimal parameters: [7.224999999999998, 9.749999999999993]\n",
      "\n",
      "SNR: 40\n",
      "Optimal cutoff: 0.9651562500000005\n",
      "Optimal parameters: [7.224999999999998, 9.749999999999993]\n",
      "\n",
      "SNR: 50\n",
      "Optimal cutoff: 0.9651562500000005\n",
      "Optimal parameters: [7.224999999999998, 9.749999999999993]\n",
      "\n",
      "SNR: 60\n",
      "Optimal cutoff: 0.9651562500000005\n",
      "Optimal parameters: [7.224999999999998, 9.749999999999993]\n",
      "\n",
      "SNR: 70\n",
      "Optimal cutoff: 0.9651562500000005\n",
      "Optimal parameters: [7.224999999999998, 9.749999999999993]\n",
      "\n",
      "SNR: 80\n",
      "Optimal cutoff: 0.9651562500000005\n",
      "Optimal parameters: [7.224999999999998, 9.749999999999993]\n",
      "\n",
      "SNR: 90\n",
      "Optimal cutoff: 0.9651562500000005\n",
      "Optimal parameters: [7.224999999999998, 9.749999999999993]\n",
      "\n",
      "SNR: 100\n",
      "Optimal cutoff: 0.9651562500000005\n",
      "Optimal parameters: [7.224999999999998, 9.749999999999993]\n",
      "\n",
      "SNR: 200\n",
      "Optimal cutoff: 0.9651562500000005\n",
      "Optimal parameters: [7.224999999999998, 9.749999999999993]\n",
      "\n"
     ]
    },
    {
     "data": {
      "image/png": "[encoded data removed]",
      "text/plain": [
       "<Figure size 432x288 with 1 Axes>"
      ]
     },
     "metadata": {
      "needs_background": "light"
     },
     "output_type": "display_data"
    },
    {
     "data": {
      "image/png": "[encoded data removed]",
      "text/plain": [
       "<Figure size 432x288 with 1 Axes>"
      ]
     },
     "metadata": {
      "needs_background": "light"
     },
     "output_type": "display_data"
    },
    {
     "data": {
      "image/png": "[encoded data removed]",
      "text/plain": [
       "<Figure size 432x288 with 1 Axes>"
      ]
     },
     "metadata": {
      "needs_background": "light"
     },
     "output_type": "display_data"
    }
   ],
   "source": [
    "import time\n",
    "\n",
    "#Define intervalls.\n",
    "#For the parameters, the values for SNRs between 1 and 10 is a linear spread between the optimal paramters for \n",
    "#SNR = 1 and SNR = 10. For SNRs larger than 10, the optimal parameters for SNR = 10 is used.\n",
    "SNRs = [1,2,3,4,5,6,7,8,9,10,20,30,40,50,60,70,80,90,100,200]\n",
    "cutoffs = np.zeros(len(SNRs))\n",
    "cutoffs[0:10] = cutoffs_extended\n",
    "cutoffs[10:] = cutoffs[9]\n",
    "DT_first_parameter = np.zeros(len(SNRs))\n",
    "DT_first_parameter[0:10] = DT_first_parameter_extended\n",
    "DT_first_parameter[10:] = DT_first_parameter[9]\n",
    "DT_second_parameter = np.zeros(len(SNRs))\n",
    "DT_second_parameter[0:10] = DT_second_parameter_extended\n",
    "DT_second_parameter[10:] = DT_second_parameter[9]\n",
    "\n",
    "\n",
    "#Create empty result lists\n",
    "MAEs_deeptrack_multi = []\n",
    "Distance_upper_left_deeptrack = []\n",
    "Calculation_time_deeptrack = []\n",
    "MAEs_unet = []\n",
    "Distance_upper_left_unet = []\n",
    "Calculation_time_unet = []\n",
    "\n",
    "#Define testing batch size and scanning box parameters.\n",
    "batch_size_for_testing = 100\n",
    "image_size_x = 256 \n",
    "image_size_y = 256\n",
    "scanning_box_size_x = 10\n",
    "scanning_box_size_y = 10\n",
    "scanning_box_step_x = scanning_box_size_x / 4\n",
    "scanning_box_step_y = scanning_box_size_y / 4\n",
    "\n",
    "\n",
    "for i,SNR in enumerate(SNRs,0):\n",
    "    print(\"SNR: {}\".format(SNR))\n",
    "    \n",
    "    optimal_cutoff = cutoffs[i]\n",
    "    \n",
    "    print(\"Optimal cutoff: {}\".format(optimal_cutoff))\n",
    "    \n",
    "    optimal_parameters_deeptrack = [DT_first_parameter[i],DT_second_parameter[i]]\n",
    "    \n",
    "    print(\"Optimal parameters: {}\".format(optimal_parameters_deeptrack))\n",
    "    print()\n",
    "    \n",
    "    #Generate batch for testing\n",
    "    batch_for_testing = imageGeneration.get_batch(lambda: get_image_parameters_multiple_particles(SNR),\n",
    "                             batch_size = batch_size_for_testing, suppress_warnings = True, verbose = False)\n",
    "    \n",
    "    \n",
    "    (batch_images, batch_labels, batch_predictions, batch_particle_attributes) = batch_for_testing\n",
    "    \n",
    "    #Predict using Utrack and calculate MAE and distance to upper left corner in ROC curve.\n",
    "    t1 = time.time()\n",
    "    batch_predictions_unet = unet.predict(unet_model, batch_images)\n",
    "    t2 = time.time()\n",
    "    Calculation_time_unet.append((t2-t1)/batch_size_for_testing)\n",
    "    batch_predictions_unet_formatted = benchmark.get_predicted_positions_unet(batch_size_for_testing,\n",
    "                                                              batch_predictions_unet,\n",
    "                                                              image_size_x, image_size_y,\n",
    "                                                              cutoff_value=optimal_cutoff)\n",
    "    \n",
    "    (nr_real_particles,\n",
    "     nr_predictions,\n",
    "     nr_true_positives,\n",
    "     nr_false_positives,\n",
    "     true_positives,\n",
    "     false_positives,\n",
    "     true_positive_links,\n",
    "     MAE,\n",
    "     MSE) = benchmark.hits_and_misses(batch_size_for_testing,\n",
    "                                      batch_predictions_unet_formatted,\n",
    "                                      batch_particle_attributes,\n",
    "                                      long_return=True)\n",
    "        \n",
    "    \n",
    "    operating_characteristics_unet = benchmark.get_op_chars(batch_predictions_unet_formatted,\n",
    "                                            batch_particle_attributes,\n",
    "                                            image_size_x, image_size_y,\n",
    "                                            scanning_box_size_x, scanning_box_size_y,\n",
    "                                            scanning_box_step_x, scanning_box_step_y)\n",
    "\n",
    "    \n",
    "    dist_unet = benchmark.distance_from_upper_left_corner_ROC(operating_characteristics_unet,1)\n",
    "    \n",
    "    \n",
    "    MAEs_unet.append(MAE); Distance_upper_left_unet.append(dist_unet)\n",
    "    \n",
    "    \n",
    "    \n",
    "    \n",
    "    #Predict using deeptrack and calculate MAE and distance to upper left corner in ROC curve.\n",
    "    t3 = time.time()\n",
    "    (number_frames_to_be_tracked,\n",
    "     frames, predicted_positions_wrt_frame,\n",
    "     predicted_positions_wrt_box,\n",
    "     boxes_all) = benchmark.predict_batch_deeptrack(deeptrack_network, batch_images, box_half_size=30,box_scanning_step=10)\n",
    "    t4 = time.time()\n",
    "    Calculation_time_deeptrack.append((t4-t3)/batch_size_for_testing)\n",
    "    batch_predictions_deeptrack_formatted = benchmark.get_predicted_positions_DT(optimal_parameters_deeptrack[0],\n",
    "                                                                       optimal_parameters_deeptrack[1],\n",
    "                                                                       batch_size_for_testing,\n",
    "                                                                       predicted_positions_wrt_frame,\n",
    "                                                                       verbose=True)\n",
    "    \n",
    "    \n",
    "    (nr_real_particles,\n",
    "     nr_predictions,\n",
    "     nr_true_positives,\n",
    "     nr_false_positives,\n",
    "     true_positives,\n",
    "     false_positives,\n",
    "     true_positive_links,\n",
    "     MAE,\n",
    "     MSE) = benchmark.hits_and_misses(batch_size_for_testing,\n",
    "                                      batch_predictions_deeptrack_formatted,\n",
    "                                      batch_particle_attributes,\n",
    "                                      long_return=True)\n",
    "    \n",
    "    operating_characteristics_deeptrack = benchmark.get_op_chars(batch_predictions_deeptrack_formatted,\n",
    "                                            batch_particle_attributes,\n",
    "                                            image_size_x, image_size_y,\n",
    "                                            scanning_box_size_x, scanning_box_size_y,\n",
    "                                            scanning_box_step_x, scanning_box_step_y)\n",
    "\n",
    "    \n",
    "    dist_deeptrack = benchmark.distance_from_upper_left_corner_ROC(operating_characteristics_deeptrack,1)\n",
    "    \n",
    "    MAEs_deeptrack_multi.append(MAE); Distance_upper_left_deeptrack.append(dist_deeptrack)\n",
    "\n",
    "    \n",
    "plt.loglog(SNRs, MAEs_deeptrack_multi, 'go',label='deeptrack')\n",
    "plt.loglog(SNRs, MAEs_unet, 'ro',label='unet')\n",
    "plt.legend()\n",
    "plt.ylabel('MAE')\n",
    "plt.xlabel('SNR')\n",
    "plt.show()\n",
    "\n",
    "plt.plot(SNRs, Distance_upper_left_deeptrack, 'go',label='deeptrack')\n",
    "plt.plot(SNRs, Distance_upper_left_unet, 'ro',label='unet')\n",
    "plt.legend()\n",
    "plt.xscale('log')\n",
    "plt.ylabel('Distance upper left corner ROC')\n",
    "plt.xlabel('SNR')\n",
    "plt.show()\n",
    "\n",
    "plt.plot(SNRs, Calculation_time_deeptrack, 'go',label='deeptrack')\n",
    "plt.plot(SNRs, Calculation_time_unet, 'ro',label='unet')\n",
    "plt.legend()\n",
    "plt.xscale('log')\n",
    "plt.ylabel('Calculation time [s/image]')\n",
    "plt.xlabel('SNR')\n",
    "plt.show()"
   ]
  },
  {
   "cell_type": "code",
   "execution_count": null,
   "metadata": {},
   "outputs": [],
   "source": []
  },
  {
   "cell_type": "code",
   "execution_count": null,
   "metadata": {},
   "outputs": [],
   "source": []
  }
 ],
 "metadata": {
  "kernelspec": {
   "display_name": "Python 3",
   "language": "python",
   "name": "python3"
  },
  "language_info": {
   "codemirror_mode": {
    "name": "ipython",
    "version": 3
   },
   "file_extension": ".py",
   "mimetype": "text/x-python",
   "name": "python",
   "nbconvert_exporter": "python",
   "pygments_lexer": "ipython3",
   "version": "3.7.6"
  }
 },
 "nbformat": 4,
 "nbformat_minor": 4
}
