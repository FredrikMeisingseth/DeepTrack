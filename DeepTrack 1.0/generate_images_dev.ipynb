{
 "cells": [
  {
   "cell_type": "markdown",
   "metadata": {},
   "source": [
    "## Initialization"
   ]
  },
  {
   "cell_type": "code",
   "execution_count": 1,
   "metadata": {},
   "outputs": [],
   "source": [
    "import imageGeneration, deeptrack"
   ]
  },
  {
   "cell_type": "markdown",
   "metadata": {},
   "source": [
    "## Image generation\n",
    "Generates 1000 training images and 30 test images together with labels"
   ]
  },
  {
   "cell_type": "code",
   "execution_count": 2,
   "metadata": {},
   "outputs": [],
   "source": [
    "image_parameters_function = lambda : imageGeneration.get_image_parameters_optimized()\n",
    "\n",
    "### Define image generator\n",
    "image_generator = lambda : deeptrack.get_image_generator(image_parameters_function)\n",
    "\n",
    "### Choose how many images to generate\n",
    "number_of_training_images = 1000\n",
    "\n",
    "### Save the training images and the labels in the chosen paths\n",
    "for image_number, image, image_parameters in image_generator():\n",
    "    if image_number>=number_of_training_images:\n",
    "        break\n",
    "    \n",
    "    imageGeneration.save_image_and_target(image_number,image, image_parameters, 'data/particles/train/image','data/particles/train/label')\n",
    "    \n",
    "### Choose how many test images to generate\n",
    "number_of_test_images = 10\n",
    "\n",
    "### Save the test images and the labels in the chosen paths\n",
    "for image_number, image, image_parameters in image_generator():\n",
    "    if image_number>=number_of_test_images:\n",
    "        break\n",
    "    \n",
    "    imageGeneration.save_image_and_target(image_number,image, image_parameters, 'data/particles/test','data/particles/test/label')"
   ]
  },
  {
   "cell_type": "markdown",
   "metadata": {},
   "source": [
    "## Image generation\n",
    "Generates 1000 training images and 30 test images together with labels"
   ]
  },
  {
   "cell_type": "markdown",
   "metadata": {},
   "source": [
    "## Image generation\n",
    "Generates 1000 training images and 30 test images together with labels"
   ]
  },
  {
   "cell_type": "markdown",
   "metadata": {},
   "source": [
    "## Initialization"
   ]
  }
 ],
 "metadata": {
  "kernelspec": {
   "display_name": "Python 3",
   "language": "python",
   "name": "python3"
  },
  "language_info": {
   "codemirror_mode": {
    "name": "ipython",
    "version": 3
   },
   "file_extension": ".py",
   "mimetype": "text/x-python",
   "name": "python",
   "nbconvert_exporter": "python",
   "pygments_lexer": "ipython3",
   "version": "3.7.6"
  }
 },
 "nbformat": 4,
 "nbformat_minor": 4
}
