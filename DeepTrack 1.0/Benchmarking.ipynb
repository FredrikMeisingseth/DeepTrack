{
 "cells": [
  {
   "cell_type": "markdown",
   "metadata": {},
   "source": [
    "## Initialization"
   ]
  },
  {
   "cell_type": "code",
   "execution_count": 1,
   "metadata": {
    "scrolled": true
   },
   "outputs": [],
   "source": [
    "import unet, imageGeneration"
   ]
  },
  {
   "cell_type": "markdown",
   "metadata": {},
   "source": [
    "## Fit using generator"
   ]
  },
  {
   "cell_type": "code",
   "execution_count": 2,
   "metadata": {},
   "outputs": [
    {
     "name": "stdout",
     "output_type": "stream",
     "text": [
      "Time taken for batch generation of size 5: 1.8317668437957764 s.\n"
     ]
    },
    {
     "name": "stderr",
     "output_type": "stream",
     "text": [
      "Using TensorFlow backend.\n"
     ]
    },
    {
     "name": "stdout",
     "output_type": "stream",
     "text": [
      "Epoch 1/1\n",
      "5/5 [==============================] - 3s 540ms/step - loss: 22.6512 - particle_loss: 17.5374 - x_loss: 1.0244 - y_loss: 0.9620 - r_loss: 2.4667 - i_loss: 3.3037 - particle_binary_accuracy: 0.0754\n",
      "5/5 [==============================] - 0s 33ms/step\n",
      "[3.5851879119873047, 2.451382637023926, 0.36561399698257446, 0.35634925961494446, 0.3284204602241516, 0.4171085059642792, 0.9968658685684204]\n",
      "Filename is 2020-02-20 Training_1\\unet_particle.hdf5. \n",
      "Loss is 3.5852. Accuracy is 0.9969.\n",
      "5/5 [==============================] - 0s 6ms/step\n",
      "[3.453665256500244, 2.336733102798462, 0.3390553295612335, 0.3503316044807434, 0.35005369782447815, 0.38745585083961487, 0.9967864751815796]\n",
      "Filename is 2020-02-20 Training_2\\unet_particle.hdf5. \n",
      "Loss is 3.4537. Accuracy is 0.9968.\n",
      "5/5 [==============================] - 0s 6ms/step\n",
      "[2.163145065307617, 1.2544363737106323, 0.31000104546546936, 0.31705009937286377, 0.2338440716266632, 0.23906764388084412, 0.9920867681503296]\n",
      "Filename is 2020-02-24 Training_1\\unet_particle.hdf5. \n",
      "Loss is 2.1631. Accuracy is 0.9921.\n",
      "5/5 [==============================] - 0s 6ms/step\n",
      "[2.377204179763794, 1.4282490015029907, 0.32067903876304626, 0.3329761326313019, 0.2498321831226349, 0.22733983397483826, 0.9940887689590454]\n",
      "Filename is 2020-02-24 Training_2\\unet_particle.hdf5. \n",
      "Loss is 2.3772. Accuracy is 0.9941.\n",
      "5/5 [==============================] - 0s 6ms/step\n",
      "[2.09086537361145, 1.193817138671875, 0.30679580569267273, 0.3237461447715759, 0.2244095504283905, 0.2104836106300354, 0.994097888469696]\n",
      "Filename is 2020-02-25 Training_1\\unet_particle.hdf5. \n",
      "Loss is 2.0909. Accuracy is 0.9941.\n",
      "5/5 [==============================] - 0s 6ms/step\n",
      "[1.979501724243164, 1.1174180507659912, 0.3006604313850403, 0.30946269631385803, 0.2121165543794632, 0.19922034442424774, 0.9936310052871704]\n",
      "Filename is 2020-02-26 Training_1\\unet_particle.hdf5. \n",
      "Loss is 1.9795. Accuracy is 0.9936.\n",
      "5/5 [==============================] - 0s 6ms/step\n",
      "[2.7609009742736816, 1.7754532098770142, 0.3160111606121063, 0.3507165014743805, 0.27052515745162964, 0.24097399413585663, 0.9950622320175171]\n",
      "Filename is 2020-02-27 Training_1\\unet_particle.hdf5. \n",
      "Loss is 2.7609. Accuracy is 0.9951.\n"
     ]
    }
   ],
   "source": [
    "import glob, os\n",
    "\n",
    "(validation_image_batch, validation_label_batch) = imageGeneration.get_batch(batch_size = 5, use_gpu = True)\n",
    "\n",
    "model = unet.create_unet()\n",
    "model.fit(validation_image_batch, validation_label_batch)\n",
    "\n",
    "for filename in glob.iglob('C:\\School\\Årskurs 3\\Kandidat\\DeepTrack\\DeepTrack 1.0\\CoolNetwork' + '\\*\\*.hdf5', recursive=True):\n",
    "    model.load_weights(filename)\n",
    "    metrics = model.evaluate(validation_image_batch, validation_label_batch)\n",
    "    print(metrics)\n",
    "    filenameList = filename.split('\\\\')\n",
    "    print(\"Filename is %s. \\nLoss is %.4f. Accuracy is %.4f.\" % ('\\\\'.join(filenameList[len(filenameList)-2:len(filenameList)]), metrics[0], metrics[6]))        \n",
    "\n"
   ]
  },
  {
   "cell_type": "code",
   "execution_count": null,
   "metadata": {},
   "outputs": [],
   "source": [
    "batch = (validation_image_batch, validation_label_batch)\n"
   ]
  }
 ],
 "metadata": {
  "kernelspec": {
   "display_name": "Python 3",
   "language": "python",
   "name": "python3"
  },
  "language_info": {
   "codemirror_mode": {
    "name": "ipython",
    "version": 3
   },
   "file_extension": ".py",
   "mimetype": "text/x-python",
   "name": "python",
   "nbconvert_exporter": "python",
   "pygments_lexer": "ipython3",
   "version": "3.7.6"
  }
 },
 "nbformat": 4,
 "nbformat_minor": 4
}
