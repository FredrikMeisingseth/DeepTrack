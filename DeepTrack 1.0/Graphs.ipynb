{
 "cells": [
  {
   "cell_type": "markdown",
   "metadata": {},
   "source": [
    "# Notebook for drawing all necessary graphs"
   ]
  },
  {
   "cell_type": "markdown",
   "metadata": {},
   "source": [
    "## 1. Initialization"
   ]
  },
  {
   "cell_type": "markdown",
   "metadata": {},
   "source": [
    "### 1a. Imports"
   ]
  },
  {
   "cell_type": "code",
   "execution_count": 1,
   "metadata": {},
   "outputs": [],
   "source": [
    "import deeptrack, imageGeneration, unet, benchmark\n",
    "from matplotlib import pyplot as plt"
   ]
  },
  {
   "cell_type": "markdown",
   "metadata": {},
   "source": [
    "### 1b. Define image parameter functions"
   ]
  },
  {
   "cell_type": "code",
   "execution_count": 2,
   "metadata": {},
   "outputs": [],
   "source": [
    "from numpy.random import randint, uniform, choice, exponential\n",
    "from numpy import clip\n",
    "from math import pi\n",
    "\n",
    "def get_image_parameters_single_particle(SNR):\n",
    "    particle_number = choice([0] + [1]*5)\n",
    "    particle_radius_list = uniform(2, 8, particle_number)\n",
    "    image_size = 51\n",
    "    (particle_center_x_list, particle_center_y_list) = imageGeneration.generate_particle_positions(particle_radius_list, image_size)\n",
    "    image_parameters = {}\n",
    "    \n",
    "    particle_bessel_orders_list = []\n",
    "    particle_intensities_list = []\n",
    "    \n",
    "    for i in range(particle_number):\n",
    "        particle_bessel_orders_list.append([randint(1,3), ])\n",
    "        particle_intensities_list.append([uniform(0.1, 0.3, 1), ])\n",
    "    \n",
    "    \n",
    "    image_parameters = imageGeneration.get_image_parameters(\n",
    "        particle_center_x_list=lambda: particle_center_x_list,\n",
    "        particle_center_y_list=lambda: particle_center_y_list,\n",
    "        particle_radius_list=lambda: particle_radius_list,\n",
    "        particle_bessel_orders_list=lambda: particle_bessel_orders_list,\n",
    "        particle_intensities_list=lambda: particle_intensities_list,\n",
    "        image_size=lambda: image_size,\n",
    "        image_background_level=lambda: uniform(0.1, 0.3),\n",
    "        signal_to_noise_ratio= lambda: SNR,\n",
    "        gradient_intensity=lambda: uniform(0, 0.4),\n",
    "        gradient_direction=lambda: uniform(-pi, pi),\n",
    "        ellipsoidal_orientation=lambda: uniform(-pi, pi, particle_number),\n",
    "        ellipticity=lambda: 1)\n",
    "    \n",
    "    return image_parameters\n",
    "\n",
    "def get_image_parameters_multiple_particles(SNR, allow_overlap = True):\n",
    "    from numpy.random import uniform, randint, exponential\n",
    "    from numpy import ones, clip\n",
    "    from math import pi\n",
    "    \n",
    "    image_size = 256\n",
    "    \n",
    "    particle_number = randint(10, 20)\n",
    "    particle_radius_list = uniform(2, 8, particle_number)\n",
    "    (particle_center_x_list, particle_center_y_list) = imageGeneration.generate_particle_positions(particle_radius_list, image_size, allow_overlap = allow_overlap)\n",
    "\n",
    "    particle_bessel_orders_list = []\n",
    "    particle_intensities_list = []\n",
    "\n",
    "    for i in range(particle_number):\n",
    "        particle_bessel_orders_list.append([randint(1,3), ])\n",
    "        particle_intensities_list.append([uniform(0.1, 0.3, 1), ])\n",
    "\n",
    "    image_parameters = imageGeneration.get_image_parameters(\n",
    "        particle_center_x_list=lambda: particle_center_x_list,\n",
    "        particle_center_y_list=lambda: particle_center_y_list,\n",
    "        particle_radius_list=lambda: particle_radius_list, \n",
    "        particle_bessel_orders_list=lambda: particle_bessel_orders_list,\n",
    "        particle_intensities_list=lambda: particle_intensities_list,\n",
    "        image_size=lambda: image_size,\n",
    "        image_background_level=lambda: uniform(0.1, 0.3),\n",
    "        signal_to_noise_ratio=lambda: SNR,\n",
    "        gradient_intensity=lambda: uniform(0, 0.4),\n",
    "        gradient_direction=lambda: uniform(-pi, pi),\n",
    "        ellipsoidal_orientation=lambda: uniform(-pi, pi, particle_number),\n",
    "        ellipticity=lambda: 1)\n",
    "\n",
    "    return image_parameters"
   ]
  },
  {
   "cell_type": "markdown",
   "metadata": {},
   "source": [
    "## 2. uTrack vs DeepTrack\n"
   ]
  },
  {
   "cell_type": "markdown",
   "metadata": {},
   "source": [
    "### 2a. Single-particle"
   ]
  },
  {
   "cell_type": "markdown",
   "metadata": {},
   "source": [
    "#### I) MAE and hit percentage as function of SNR"
   ]
  },
  {
   "cell_type": "code",
   "execution_count": 10,
   "metadata": {
    "scrolled": true
   },
   "outputs": [
    {
     "name": "stdout",
     "output_type": "stream",
     "text": [
      "1\n",
      "[0.7603125]\n",
      "2\n",
      "[0.819375]\n",
      "3\n",
      "[0.895]\n",
      "4\n",
      "[0.8575]\n",
      "5\n",
      "[0.9]\n",
      "6\n",
      "[0.989375]\n",
      "7\n",
      "[0.84]\n",
      "8\n",
      "[0.82]\n",
      "9\n",
      "[0.95625]\n",
      "10\n",
      "[0.885]\n",
      "20\n",
      "[0.78]\n",
      "30\n",
      "[0.9]\n",
      "40\n",
      "[0.84]\n",
      "50\n",
      "[0.94]\n",
      "60\n",
      "[0.86]\n",
      "70\n",
      "[0.8]\n",
      "80\n",
      "[0.8]\n",
      "90\n",
      "[0.86]\n",
      "100\n",
      "[0.8]\n",
      "200\n",
      "[0.7825]\n"
     ]
    },
    {
     "data": {
      "image/png": "[encoded data removed]",
      "text/plain": [
       "<Figure size 432x288 with 1 Axes>"
      ]
     },
     "metadata": {
      "needs_background": "light"
     },
     "output_type": "display_data"
    },
    {
     "data": {
      "image/png": "[encoded data removed]",
      "text/plain": [
       "<Figure size 432x288 with 1 Axes>"
      ]
     },
     "metadata": {
      "needs_background": "light"
     },
     "output_type": "display_data"
    }
   ],
   "source": [
    "SNRs = [1,2,3,4,5,6,7,8,9,10,20,30,40,50,60,70,80,90,100,200]\n",
    "MAEs_deeptrack_single = []\n",
    "hit_percentages_deeptrack_single = []\n",
    "\n",
    "MAEs_deeptrack_multi = []\n",
    "hit_percentages_deeptrack_multi = []\n",
    "\n",
    "MAEs_unet = []\n",
    "hit_percentages_unet = []\n",
    "\n",
    "unet_model = unet.create_unet(\"Network - uTrack.hdf5\")\n",
    "deeptrack_network_single = deeptrack.load(\"Network - DeepTrack, single particle.h5\")\n",
    "deeptrack_network_multi = deeptrack.load(\"Network 2020-04-25-234703 C-16-32-64 D-32-32 training-8x16001-32x12001-128x8001-512x4001-1024x401.h5\")\n",
    "\n",
    "for SNR in SNRs:\n",
    "    print(SNR)\n",
    "    \n",
    "    # Find optimal cutoff by first generating a batch for the current SNR, then finding optimal cutoff on this batch\n",
    "    batch_for_finding_cutoff = imageGeneration.get_batch(lambda: get_image_parameters_single_particle(SNR), batch_size = 100, suppress_warnings = True, verbose = False)\n",
    "    (batch_images, batch_labels, batch_predictions, batch_particle_attributes) = batch_for_finding_cutoff\n",
    "    batch_predictions = unet.predict(unet_model, batch_images)\n",
    "    optimal_cutoff = benchmark.get_optimal_parameters_unet(batch_predictions,\n",
    "                                                           batch_particle_attributes,\n",
    "                                                           51, 51,\n",
    "                                                           100,\n",
    "                                                           2,\n",
    "                                                           0.8,\n",
    "                                                           1.0)\n",
    "    print(optimal_cutoff)\n",
    "\n",
    "    batch = imageGeneration.load_batch(batch_size = 1000, image_path = 'validation/single_particle/images/SNR %d' % SNR, \n",
    "                                       label_path = 'validation/single_particle/labels/SNR %d' % SNR,\n",
    "                                       prediction_path = 'validation/single_particle/predictions/SNR %d' % SNR, \n",
    "                                       particle_attributes_path = 'validation/single_particle/particle_attributes/SNR %d' % SNR,\n",
    "                                       verbose = False)\n",
    "    \n",
    "    (batch_images, batch_labels, batch_predictions, batch_particle_attributes) = batch\n",
    "    \n",
    "    MAE_unet, hit_percentage_unet = benchmark.unet_single_particle_MAE_and_hits(unet_model, batch_images, batch_particle_attributes, cutoff_value = optimal_cutoff)\n",
    "    MAEs_unet.append(MAE_unet); hit_percentages_unet.append(hit_percentage_unet)\n",
    "    \n",
    "    MAE_deeptrack_single, hit_percentage_deeptrack_single = benchmark.deeptrack_single_particle_MAE_and_hits(deeptrack_network_single, batch_images, batch_particle_attributes, radius_cutoff = 25 * 2 ** (1/2))\n",
    "    MAEs_deeptrack_single.append(MAE_deeptrack_single); hit_percentages_deeptrack_single.append(hit_percentage_deeptrack_single)\n",
    "    \n",
    "    MAE_deeptrack_multi, hit_percentage_deeptrack_multi = benchmark.deeptrack_single_particle_MAE_and_hits(deeptrack_network_multi, batch_images, batch_particle_attributes, radius_cutoff = 25 * 2 ** (1/2))\n",
    "    MAEs_deeptrack_multi.append(MAE_deeptrack_multi); hit_percentages_deeptrack_multi.append(hit_percentage_deeptrack_multi)\n",
    "\n",
    "plt.loglog(SNRs, MAEs_deeptrack_single, 'bo')\n",
    "plt.loglog(SNRs, MAEs_deeptrack_multi, 'go')\n",
    "plt.loglog(SNRs, MAEs_unet, 'ro')\n",
    "plt.axhline(5, color = 'black',ls = '--')\n",
    "plt.show()\n",
    "\n",
    "plt.plot(SNRs, hit_percentages_deeptrack_single, 'bo')\n",
    "plt.plot(SNRs, hit_percentages_deeptrack_multi, 'go')\n",
    "plt.plot(SNRs, hit_percentages_unet, 'ro')\n",
    "plt.xscale('log')\n",
    "plt.show()"
   ]
  },
  {
   "cell_type": "markdown",
   "metadata": {},
   "source": [
    "#### II) Prediction time as a function of batch_size"
   ]
  },
  {
   "cell_type": "code",
   "execution_count": null,
   "metadata": {},
   "outputs": [],
   "source": [
    "import time\n",
    "#### I) MAE as function of SNR\n",
    "template = [2,3,4,5,6,7,8,9,10]\n",
    "batch_sizes = [1]\n",
    "for power in range(3):\n",
    "    batch_sizes = batch_sizes + [x * 10**power for x in template]\n",
    "\n",
    "times_unet = []\n",
    "unet_model = unet.create_unet(\"Network - uTrack.hdf5\")\n",
    "\n",
    "times_deeptrack_single = []\n",
    "deeptrack_network_single = deeptrack.load(\"Network - DeepTrack, single particle.h5\")\n",
    "\n",
    "for batch_size in batch_sizes:\n",
    "    batch = imageGeneration.load_batch(batch_size = batch_size, image_path = 'validation/single_particle/images/SNR %d' % SNR, \n",
    "                                       label_path = 'validation/single_particle/labels/SNR %d' % SNR,\n",
    "                                       prediction_path = 'validation/single_particle/predictions/SNR %d' % SNR, \n",
    "                                       particle_attributes_path = 'validation/single_particle/particle_attributes/SNR %d' % SNR,\n",
    "                                       verbose = False)\n",
    "    \n",
    "    (batch_images, batch_labels, batch_predictions_after_cutoff, batch_particle_attributes) = batch\n",
    "    \n",
    "    time_unet = time.time()\n",
    "    unet.predict(unet_model, batch_images)\n",
    "    times_unet.append(time.time() - time_unet)\n",
    "    \n",
    "    time_deeptrack = time.time()\n",
    "    for i in range(batch_size):\n",
    "        deeptrack.predict(deeptrack_network_single, \n",
    "                          batch_images[i, :, :, 0]),\n",
    "                            times_deeptrack_single.append(time.time() - time_deeptrack)\n",
    "\n",
    "plt.loglog(batch_sizes, times_unet, 'ro')\n",
    "plt.loglog(batch_sizes, times_deeptrack_single, 'bo')\n",
    "import numpy as np\n",
    "print(\"Unet is %.4f faster than deeptrack\" % (np.polyfit(batch_sizes, times_deeptrack_single, 1)[0] / np.polyfit(batch_sizes, times_unet, 1)[0]))"
   ]
  },
  {
   "cell_type": "markdown",
   "metadata": {},
   "source": [
    "## 3. uTrack\n"
   ]
  },
  {
   "cell_type": "markdown",
   "metadata": {},
   "source": [
    "#### I) MAE(x,y), MAE(r) and MAE(I) as functions of SNR"
   ]
  },
  {
   "cell_type": "code",
   "execution_count": 9,
   "metadata": {},
   "outputs": [
    {
     "name": "stdout",
     "output_type": "stream",
     "text": [
      "1\n",
      "2\n",
      "3\n",
      "4\n",
      "5\n",
      "6\n",
      "7\n",
      "8\n",
      "9\n",
      "10\n",
      "20\n",
      "30\n",
      "40\n",
      "50\n",
      "60\n",
      "70\n",
      "80\n",
      "90\n",
      "100\n",
      "200\n"
     ]
    },
    {
     "data": {
      "image/png": "[encoded data removed]",
      "text/plain": [
       "<Figure size 432x288 with 1 Axes>"
      ]
     },
     "metadata": {
      "needs_background": "light"
     },
     "output_type": "display_data"
    },
    {
     "data": {
      "image/png": "[encoded data removed]",
      "text/plain": [
       "<Figure size 432x288 with 1 Axes>"
      ]
     },
     "metadata": {
      "needs_background": "light"
     },
     "output_type": "display_data"
    },
    {
     "data": {
      "image/png": "[encoded data removed]",
      "text/plain": [
       "<Figure size 432x288 with 1 Axes>"
      ]
     },
     "metadata": {
      "needs_background": "light"
     },
     "output_type": "display_data"
    }
   ],
   "source": [
    "import numpy as np\n",
    "\n",
    "SNRs = [1,2,3,4,5,6,7,8,9,10,20,30,40,50,60,70,80,90,100,200]\n",
    "MAEs_xy = []\n",
    "MAEs_r = []\n",
    "MAEs_I = []\n",
    "\n",
    "unet_model = unet.create_unet(\"Network - uTrack.hdf5\")\n",
    "\n",
    "for SNR in SNRs:\n",
    "    print(SNR)   \n",
    "    batch = imageGeneration.load_batch(batch_size = 1000, image_path = 'validation/multi_particle_no_overlap/images/SNR %d' % SNR, \n",
    "                                   label_path = 'validation/multi_particle_no_overlap/labels/SNR %d' % SNR,\n",
    "                                   prediction_path = 'validation/multi_particle_no_overlap/predictions/SNR %d' % SNR, \n",
    "                                   particle_attributes_path = 'validation/multi_particle_no_overlap/particle_attributes/SNR %d' % SNR,\n",
    "                                   verbose = False)\n",
    "    \n",
    "    (batch_images, batch_labels, batch_predictions, batch_particle_attributes) = batch\n",
    "    \n",
    "    batch_predictions = unet.predict(unet_model, batch_images)\n",
    "    \n",
    "    MAEs_xy.append(benchmark.get_MAE_xy_unet(batch_labels, batch_predictions))\n",
    "    MAEs_r.append(benchmark.get_MAE_r_unet(batch_labels, batch_predictions))\n",
    "    MAEs_I.append(benchmark.get_MAE_I_unet(batch_labels, batch_predictions))\n",
    "    \n",
    "plt.plot(SNRs, MAEs_xy, 'bo')\n",
    "plt.xscale('log')\n",
    "plt.show()\n",
    " \n",
    "plt.plot(SNRs, MAEs_r, 'ro')\n",
    "plt.xscale('log')\n",
    "plt.show()\n",
    "\n",
    "plt.plot(SNRs, MAEs_I, 'go')\n",
    "plt.xscale('log')\n",
    "plt.show()\n"
   ]
  },
  {
   "cell_type": "markdown",
   "metadata": {},
   "source": [
    "#### I) Precision, recall as functions of SNR "
   ]
  },
  {
   "cell_type": "code",
   "execution_count": null,
   "metadata": {},
   "outputs": [
    {
     "name": "stdout",
     "output_type": "stream",
     "text": [
      "1\n",
      "[0.8869043]\n",
      "2\n"
     ]
    }
   ],
   "source": [
    "import numpy as np\n",
    "SNRs = [1,2,3,4,5,6,7,8,9,10,20,30,40,50,60,70,80,90,100,200]\n",
    "precisions = []\n",
    "recalls = []\n",
    "\n",
    "unet_model = unet.create_unet(\"Network - uTrack.hdf5\")\n",
    "\n",
    "for SNR in SNRs:\n",
    "    print(SNR)\n",
    "    # Find optimal cutoff by first generating a batch for the current SNR, then finding optimal cutoff on this batch\n",
    "    batch_for_finding_cutoff = imageGeneration.get_batch(lambda: get_image_parameters_multiple_particles(SNR), batch_size = 200, suppress_warnings = True, verbose = False)\n",
    "    (batch_images, batch_labels, batch_predictions, batch_particle_attributes) = batch_for_finding_cutoff\n",
    "    batch_predictions = unet.predict(unet_model, batch_images)\n",
    "    optimal_cutoff = benchmark.get_optimal_parameters_unet(batch_predictions,\n",
    "                                                           batch_particle_attributes,\n",
    "                                                           256, 256,\n",
    "                                                           100,\n",
    "                                                           2,\n",
    "                                                           0.8,\n",
    "                                                           1.0)\n",
    "    print(optimal_cutoff)\n",
    "    \n",
    "    (batch_images, batch_labels, batch_predictions, batch_particle_attributes) = batch\n",
    "    \n",
    "    batch_predictions = unet.predict(unet_model, batch_images)\n",
    "    \n",
    "    batch_predictions_after_cutoff = imageGeneration.cutoff(batch_predictions, cutoff_value = optimal_cutoff, apply_sigmoid = True)\n",
    "    \n",
    "    P, N, TP, FP, TN, FN = benchmark.get_operating_characteristics(batch_labels, batch_predictions_after_cutoff)\n",
    "    \n",
    "    precisions.append(TP/(TP + FP))\n",
    "    recalls.append(TP / P)\n"
   ]
  },
  {
   "cell_type": "code",
   "execution_count": null,
   "metadata": {},
   "outputs": [],
   "source": []
  }
 ],
 "metadata": {
  "kernelspec": {
   "display_name": "Python 3",
   "language": "python",
   "name": "python3"
  },
  "language_info": {
   "codemirror_mode": {
    "name": "ipython",
    "version": 3
   },
   "file_extension": ".py",
   "mimetype": "text/x-python",
   "name": "python",
   "nbconvert_exporter": "python",
   "pygments_lexer": "ipython3",
   "version": "3.7.6"
  }
 },
 "nbformat": 4,
 "nbformat_minor": 4
}
