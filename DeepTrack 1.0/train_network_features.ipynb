{
 "cells": [
  {
   "cell_type": "markdown",
   "metadata": {},
   "source": [
    "## Initialization"
   ]
  },
  {
   "cell_type": "code",
   "execution_count": 1,
   "metadata": {},
   "outputs": [
    {
     "name": "stderr",
     "output_type": "stream",
     "text": [
      "Using TensorFlow backend.\n"
     ]
    }
   ],
   "source": [
    "import unet, imageGeneration"
   ]
  },
  {
   "cell_type": "markdown",
   "metadata": {},
   "source": [
    "## Fit on a batch"
   ]
  },
  {
   "cell_type": "code",
   "execution_count": 2,
   "metadata": {},
   "outputs": [
    {
     "name": "stderr",
     "output_type": "stream",
     "text": [
      "C:\\School\\Årskurs 3\\Kandidat\\DeepTrack\\DeepTrack 1.0\\unet.py:80: UserWarning: Update your `Model` call to the Keras 2 API: `Model(inputs=Tensor(\"in..., outputs=Tensor(\"co...)`\n",
      "  model = Model(input=input, output=output)\n"
     ]
    },
    {
     "name": "stdout",
     "output_type": "stream",
     "text": [
      "(32, 128, 128, 1)\n",
      "(32, 128, 128, 1)\n",
      "Epoch 1/100\n"
     ]
    },
    {
     "ename": "InvalidArgumentError",
     "evalue": " Incompatible shapes: [2621440] vs. [524288]\n\t [[node loss/conv2d_23_loss/loss/mul_1 (defined at c:\\users\\david tonderski\\appdata\\local\\programs\\python\\python37\\lib\\site-packages\\keras\\backend\\tensorflow_backend.py:3009) ]] [Op:__inference_keras_scratch_graph_5585]\n\nFunction call stack:\nkeras_scratch_graph\n",
     "output_type": "error",
     "traceback": [
      "\u001b[1;31m---------------------------------------------------------------------------\u001b[0m",
      "\u001b[1;31mInvalidArgumentError\u001b[0m                      Traceback (most recent call last)",
      "\u001b[1;32m<ipython-input-2-7997025b9a8b>\u001b[0m in \u001b[0;36m<module>\u001b[1;34m\u001b[0m\n\u001b[0;32m     10\u001b[0m \u001b[1;31m#print(model.summary())\u001b[0m\u001b[1;33m\u001b[0m\u001b[1;33m\u001b[0m\u001b[1;33m\u001b[0m\u001b[0m\n\u001b[0;32m     11\u001b[0m \u001b[1;33m\u001b[0m\u001b[0m\n\u001b[1;32m---> 12\u001b[1;33m \u001b[0mmodel\u001b[0m\u001b[1;33m.\u001b[0m\u001b[0mfit\u001b[0m\u001b[1;33m(\u001b[0m\u001b[0mxbatch\u001b[0m\u001b[1;33m,\u001b[0m\u001b[0mybatch\u001b[0m\u001b[1;33m,\u001b[0m \u001b[0mepochs\u001b[0m \u001b[1;33m=\u001b[0m \u001b[1;36m100\u001b[0m\u001b[1;33m)\u001b[0m\u001b[1;33m\u001b[0m\u001b[1;33m\u001b[0m\u001b[0m\n\u001b[0m\u001b[0;32m     13\u001b[0m \u001b[1;33m\u001b[0m\u001b[0m\n",
      "\u001b[1;32mc:\\users\\david tonderski\\appdata\\local\\programs\\python\\python37\\lib\\site-packages\\keras\\engine\\training.py\u001b[0m in \u001b[0;36mfit\u001b[1;34m(self, x, y, batch_size, epochs, verbose, callbacks, validation_split, validation_data, shuffle, class_weight, sample_weight, initial_epoch, steps_per_epoch, validation_steps, validation_freq, max_queue_size, workers, use_multiprocessing, **kwargs)\u001b[0m\n\u001b[0;32m   1237\u001b[0m                                         \u001b[0msteps_per_epoch\u001b[0m\u001b[1;33m=\u001b[0m\u001b[0msteps_per_epoch\u001b[0m\u001b[1;33m,\u001b[0m\u001b[1;33m\u001b[0m\u001b[1;33m\u001b[0m\u001b[0m\n\u001b[0;32m   1238\u001b[0m                                         \u001b[0mvalidation_steps\u001b[0m\u001b[1;33m=\u001b[0m\u001b[0mvalidation_steps\u001b[0m\u001b[1;33m,\u001b[0m\u001b[1;33m\u001b[0m\u001b[1;33m\u001b[0m\u001b[0m\n\u001b[1;32m-> 1239\u001b[1;33m                                         validation_freq=validation_freq)\n\u001b[0m\u001b[0;32m   1240\u001b[0m \u001b[1;33m\u001b[0m\u001b[0m\n\u001b[0;32m   1241\u001b[0m     def evaluate(self,\n",
      "\u001b[1;32mc:\\users\\david tonderski\\appdata\\local\\programs\\python\\python37\\lib\\site-packages\\keras\\engine\\training_arrays.py\u001b[0m in \u001b[0;36mfit_loop\u001b[1;34m(model, fit_function, fit_inputs, out_labels, batch_size, epochs, verbose, callbacks, val_function, val_inputs, shuffle, initial_epoch, steps_per_epoch, validation_steps, validation_freq)\u001b[0m\n\u001b[0;32m    194\u001b[0m                     \u001b[0mins_batch\u001b[0m\u001b[1;33m[\u001b[0m\u001b[0mi\u001b[0m\u001b[1;33m]\u001b[0m \u001b[1;33m=\u001b[0m \u001b[0mins_batch\u001b[0m\u001b[1;33m[\u001b[0m\u001b[0mi\u001b[0m\u001b[1;33m]\u001b[0m\u001b[1;33m.\u001b[0m\u001b[0mtoarray\u001b[0m\u001b[1;33m(\u001b[0m\u001b[1;33m)\u001b[0m\u001b[1;33m\u001b[0m\u001b[1;33m\u001b[0m\u001b[0m\n\u001b[0;32m    195\u001b[0m \u001b[1;33m\u001b[0m\u001b[0m\n\u001b[1;32m--> 196\u001b[1;33m                 \u001b[0mouts\u001b[0m \u001b[1;33m=\u001b[0m \u001b[0mfit_function\u001b[0m\u001b[1;33m(\u001b[0m\u001b[0mins_batch\u001b[0m\u001b[1;33m)\u001b[0m\u001b[1;33m\u001b[0m\u001b[1;33m\u001b[0m\u001b[0m\n\u001b[0m\u001b[0;32m    197\u001b[0m                 \u001b[0mouts\u001b[0m \u001b[1;33m=\u001b[0m \u001b[0mto_list\u001b[0m\u001b[1;33m(\u001b[0m\u001b[0mouts\u001b[0m\u001b[1;33m)\u001b[0m\u001b[1;33m\u001b[0m\u001b[1;33m\u001b[0m\u001b[0m\n\u001b[0;32m    198\u001b[0m                 \u001b[1;32mfor\u001b[0m \u001b[0ml\u001b[0m\u001b[1;33m,\u001b[0m \u001b[0mo\u001b[0m \u001b[1;32min\u001b[0m \u001b[0mzip\u001b[0m\u001b[1;33m(\u001b[0m\u001b[0mout_labels\u001b[0m\u001b[1;33m,\u001b[0m \u001b[0mouts\u001b[0m\u001b[1;33m)\u001b[0m\u001b[1;33m:\u001b[0m\u001b[1;33m\u001b[0m\u001b[1;33m\u001b[0m\u001b[0m\n",
      "\u001b[1;32mc:\\users\\david tonderski\\appdata\\local\\programs\\python\\python37\\lib\\site-packages\\tensorflow_core\\python\\keras\\backend.py\u001b[0m in \u001b[0;36m__call__\u001b[1;34m(self, inputs)\u001b[0m\n\u001b[0;32m   3725\u001b[0m         \u001b[0mvalue\u001b[0m \u001b[1;33m=\u001b[0m \u001b[0mmath_ops\u001b[0m\u001b[1;33m.\u001b[0m\u001b[0mcast\u001b[0m\u001b[1;33m(\u001b[0m\u001b[0mvalue\u001b[0m\u001b[1;33m,\u001b[0m \u001b[0mtensor\u001b[0m\u001b[1;33m.\u001b[0m\u001b[0mdtype\u001b[0m\u001b[1;33m)\u001b[0m\u001b[1;33m\u001b[0m\u001b[1;33m\u001b[0m\u001b[0m\n\u001b[0;32m   3726\u001b[0m       \u001b[0mconverted_inputs\u001b[0m\u001b[1;33m.\u001b[0m\u001b[0mappend\u001b[0m\u001b[1;33m(\u001b[0m\u001b[0mvalue\u001b[0m\u001b[1;33m)\u001b[0m\u001b[1;33m\u001b[0m\u001b[1;33m\u001b[0m\u001b[0m\n\u001b[1;32m-> 3727\u001b[1;33m     \u001b[0moutputs\u001b[0m \u001b[1;33m=\u001b[0m \u001b[0mself\u001b[0m\u001b[1;33m.\u001b[0m\u001b[0m_graph_fn\u001b[0m\u001b[1;33m(\u001b[0m\u001b[1;33m*\u001b[0m\u001b[0mconverted_inputs\u001b[0m\u001b[1;33m)\u001b[0m\u001b[1;33m\u001b[0m\u001b[1;33m\u001b[0m\u001b[0m\n\u001b[0m\u001b[0;32m   3728\u001b[0m \u001b[1;33m\u001b[0m\u001b[0m\n\u001b[0;32m   3729\u001b[0m     \u001b[1;31m# EagerTensor.numpy() will often make a copy to ensure memory safety.\u001b[0m\u001b[1;33m\u001b[0m\u001b[1;33m\u001b[0m\u001b[1;33m\u001b[0m\u001b[0m\n",
      "\u001b[1;32mc:\\users\\david tonderski\\appdata\\local\\programs\\python\\python37\\lib\\site-packages\\tensorflow_core\\python\\eager\\function.py\u001b[0m in \u001b[0;36m__call__\u001b[1;34m(self, *args, **kwargs)\u001b[0m\n\u001b[0;32m   1549\u001b[0m       \u001b[0mTypeError\u001b[0m\u001b[1;33m:\u001b[0m \u001b[0mFor\u001b[0m \u001b[0minvalid\u001b[0m \u001b[0mpositional\u001b[0m\u001b[1;33m/\u001b[0m\u001b[0mkeyword\u001b[0m \u001b[0margument\u001b[0m \u001b[0mcombinations\u001b[0m\u001b[1;33m.\u001b[0m\u001b[1;33m\u001b[0m\u001b[1;33m\u001b[0m\u001b[0m\n\u001b[0;32m   1550\u001b[0m     \"\"\"\n\u001b[1;32m-> 1551\u001b[1;33m     \u001b[1;32mreturn\u001b[0m \u001b[0mself\u001b[0m\u001b[1;33m.\u001b[0m\u001b[0m_call_impl\u001b[0m\u001b[1;33m(\u001b[0m\u001b[0margs\u001b[0m\u001b[1;33m,\u001b[0m \u001b[0mkwargs\u001b[0m\u001b[1;33m)\u001b[0m\u001b[1;33m\u001b[0m\u001b[1;33m\u001b[0m\u001b[0m\n\u001b[0m\u001b[0;32m   1552\u001b[0m \u001b[1;33m\u001b[0m\u001b[0m\n\u001b[0;32m   1553\u001b[0m   \u001b[1;32mdef\u001b[0m \u001b[0m_call_impl\u001b[0m\u001b[1;33m(\u001b[0m\u001b[0mself\u001b[0m\u001b[1;33m,\u001b[0m \u001b[0margs\u001b[0m\u001b[1;33m,\u001b[0m \u001b[0mkwargs\u001b[0m\u001b[1;33m,\u001b[0m \u001b[0mcancellation_manager\u001b[0m\u001b[1;33m=\u001b[0m\u001b[1;32mNone\u001b[0m\u001b[1;33m)\u001b[0m\u001b[1;33m:\u001b[0m\u001b[1;33m\u001b[0m\u001b[1;33m\u001b[0m\u001b[0m\n",
      "\u001b[1;32mc:\\users\\david tonderski\\appdata\\local\\programs\\python\\python37\\lib\\site-packages\\tensorflow_core\\python\\eager\\function.py\u001b[0m in \u001b[0;36m_call_impl\u001b[1;34m(self, args, kwargs, cancellation_manager)\u001b[0m\n\u001b[0;32m   1589\u001b[0m       raise TypeError(\"Keyword arguments {} unknown. Expected {}.\".format(\n\u001b[0;32m   1590\u001b[0m           list(kwargs.keys()), list(self._arg_keywords)))\n\u001b[1;32m-> 1591\u001b[1;33m     \u001b[1;32mreturn\u001b[0m \u001b[0mself\u001b[0m\u001b[1;33m.\u001b[0m\u001b[0m_call_flat\u001b[0m\u001b[1;33m(\u001b[0m\u001b[0margs\u001b[0m\u001b[1;33m,\u001b[0m \u001b[0mself\u001b[0m\u001b[1;33m.\u001b[0m\u001b[0mcaptured_inputs\u001b[0m\u001b[1;33m,\u001b[0m \u001b[0mcancellation_manager\u001b[0m\u001b[1;33m)\u001b[0m\u001b[1;33m\u001b[0m\u001b[1;33m\u001b[0m\u001b[0m\n\u001b[0m\u001b[0;32m   1592\u001b[0m \u001b[1;33m\u001b[0m\u001b[0m\n\u001b[0;32m   1593\u001b[0m   \u001b[1;32mdef\u001b[0m \u001b[0m_filtered_call\u001b[0m\u001b[1;33m(\u001b[0m\u001b[0mself\u001b[0m\u001b[1;33m,\u001b[0m \u001b[0margs\u001b[0m\u001b[1;33m,\u001b[0m \u001b[0mkwargs\u001b[0m\u001b[1;33m)\u001b[0m\u001b[1;33m:\u001b[0m\u001b[1;33m\u001b[0m\u001b[1;33m\u001b[0m\u001b[0m\n",
      "\u001b[1;32mc:\\users\\david tonderski\\appdata\\local\\programs\\python\\python37\\lib\\site-packages\\tensorflow_core\\python\\eager\\function.py\u001b[0m in \u001b[0;36m_call_flat\u001b[1;34m(self, args, captured_inputs, cancellation_manager)\u001b[0m\n\u001b[0;32m   1690\u001b[0m       \u001b[1;31m# No tape is watching; skip to running the function.\u001b[0m\u001b[1;33m\u001b[0m\u001b[1;33m\u001b[0m\u001b[1;33m\u001b[0m\u001b[0m\n\u001b[0;32m   1691\u001b[0m       return self._build_call_outputs(self._inference_function.call(\n\u001b[1;32m-> 1692\u001b[1;33m           ctx, args, cancellation_manager=cancellation_manager))\n\u001b[0m\u001b[0;32m   1693\u001b[0m     forward_backward = self._select_forward_and_backward_functions(\n\u001b[0;32m   1694\u001b[0m         \u001b[0margs\u001b[0m\u001b[1;33m,\u001b[0m\u001b[1;33m\u001b[0m\u001b[1;33m\u001b[0m\u001b[0m\n",
      "\u001b[1;32mc:\\users\\david tonderski\\appdata\\local\\programs\\python\\python37\\lib\\site-packages\\tensorflow_core\\python\\eager\\function.py\u001b[0m in \u001b[0;36mcall\u001b[1;34m(self, ctx, args, cancellation_manager)\u001b[0m\n\u001b[0;32m    543\u001b[0m               \u001b[0minputs\u001b[0m\u001b[1;33m=\u001b[0m\u001b[0margs\u001b[0m\u001b[1;33m,\u001b[0m\u001b[1;33m\u001b[0m\u001b[1;33m\u001b[0m\u001b[0m\n\u001b[0;32m    544\u001b[0m               \u001b[0mattrs\u001b[0m\u001b[1;33m=\u001b[0m\u001b[1;33m(\u001b[0m\u001b[1;34m\"executor_type\"\u001b[0m\u001b[1;33m,\u001b[0m \u001b[0mexecutor_type\u001b[0m\u001b[1;33m,\u001b[0m \u001b[1;34m\"config_proto\"\u001b[0m\u001b[1;33m,\u001b[0m \u001b[0mconfig\u001b[0m\u001b[1;33m)\u001b[0m\u001b[1;33m,\u001b[0m\u001b[1;33m\u001b[0m\u001b[1;33m\u001b[0m\u001b[0m\n\u001b[1;32m--> 545\u001b[1;33m               ctx=ctx)\n\u001b[0m\u001b[0;32m    546\u001b[0m         \u001b[1;32melse\u001b[0m\u001b[1;33m:\u001b[0m\u001b[1;33m\u001b[0m\u001b[1;33m\u001b[0m\u001b[0m\n\u001b[0;32m    547\u001b[0m           outputs = execute.execute_with_cancellation(\n",
      "\u001b[1;32mc:\\users\\david tonderski\\appdata\\local\\programs\\python\\python37\\lib\\site-packages\\tensorflow_core\\python\\eager\\execute.py\u001b[0m in \u001b[0;36mquick_execute\u001b[1;34m(op_name, num_outputs, inputs, attrs, ctx, name)\u001b[0m\n\u001b[0;32m     65\u001b[0m     \u001b[1;32melse\u001b[0m\u001b[1;33m:\u001b[0m\u001b[1;33m\u001b[0m\u001b[1;33m\u001b[0m\u001b[0m\n\u001b[0;32m     66\u001b[0m       \u001b[0mmessage\u001b[0m \u001b[1;33m=\u001b[0m \u001b[0me\u001b[0m\u001b[1;33m.\u001b[0m\u001b[0mmessage\u001b[0m\u001b[1;33m\u001b[0m\u001b[1;33m\u001b[0m\u001b[0m\n\u001b[1;32m---> 67\u001b[1;33m     \u001b[0msix\u001b[0m\u001b[1;33m.\u001b[0m\u001b[0mraise_from\u001b[0m\u001b[1;33m(\u001b[0m\u001b[0mcore\u001b[0m\u001b[1;33m.\u001b[0m\u001b[0m_status_to_exception\u001b[0m\u001b[1;33m(\u001b[0m\u001b[0me\u001b[0m\u001b[1;33m.\u001b[0m\u001b[0mcode\u001b[0m\u001b[1;33m,\u001b[0m \u001b[0mmessage\u001b[0m\u001b[1;33m)\u001b[0m\u001b[1;33m,\u001b[0m \u001b[1;32mNone\u001b[0m\u001b[1;33m)\u001b[0m\u001b[1;33m\u001b[0m\u001b[1;33m\u001b[0m\u001b[0m\n\u001b[0m\u001b[0;32m     68\u001b[0m   \u001b[1;32mexcept\u001b[0m \u001b[0mTypeError\u001b[0m \u001b[1;32mas\u001b[0m \u001b[0me\u001b[0m\u001b[1;33m:\u001b[0m\u001b[1;33m\u001b[0m\u001b[1;33m\u001b[0m\u001b[0m\n\u001b[0;32m     69\u001b[0m     keras_symbolic_tensors = [\n",
      "\u001b[1;32mc:\\users\\david tonderski\\appdata\\local\\programs\\python\\python37\\lib\\site-packages\\six.py\u001b[0m in \u001b[0;36mraise_from\u001b[1;34m(value, from_value)\u001b[0m\n",
      "\u001b[1;31mInvalidArgumentError\u001b[0m:  Incompatible shapes: [2621440] vs. [524288]\n\t [[node loss/conv2d_23_loss/loss/mul_1 (defined at c:\\users\\david tonderski\\appdata\\local\\programs\\python\\python37\\lib\\site-packages\\keras\\backend\\tensorflow_backend.py:3009) ]] [Op:__inference_keras_scratch_graph_5585]\n\nFunction call stack:\nkeras_scratch_graph\n"
     ]
    }
   ],
   "source": [
    "xbatch,ybatch = imageGeneration.get_batch()\n",
    "model = unet.create_unet()\n",
    "\n",
    "#from keras.callbacks import ModelCheckpoint\n",
    "#model_checkpoint = ModelCheckpoint('unet_particle.hdf5', monitor='loss',verbose=1, save_best_only=True)\n",
    "\n",
    "ybatch = ybatch[:,:,:,0:1]\n",
    "print(xbatch.shape)\n",
    "print(ybatch.shape)\n",
    "#print(model.summary())\n",
    "\n",
    "model.fit(xbatch,ybatch, epochs = 100)\n",
    "\n"
   ]
  },
  {
   "cell_type": "markdown",
   "metadata": {},
   "source": [
    "## Fit using generator"
   ]
  },
  {
   "cell_type": "code",
   "execution_count": null,
   "metadata": {},
   "outputs": [
    {
     "name": "stdout",
     "output_type": "stream",
     "text": [
      "Epoch 1/100\n",
      "100/100 [==============================] - 19s 186ms/step - loss: 9.0762 - particle_loss: 3.6788 - x_loss: 1.1374 - y_loss: 1.5190 - r_loss: 2.2401 - i_loss: 1.5190 - particle_binary_accuracy: 0.9022\n",
      "\n",
      "Epoch 00001: loss improved from inf to 9.07621, saving model to unet_particle.hdf5\n",
      "Epoch 2/100\n",
      "100/100 [==============================] - 16s 163ms/step - loss: 5.8221 - particle_loss: 1.0739 - x_loss: 0.9438 - y_loss: 1.2253 - r_loss: 2.2757 - i_loss: 1.2253 - particle_binary_accuracy: 0.9943\n",
      "\n",
      "Epoch 00002: loss improved from 9.07621 to 5.82214, saving model to unet_particle.hdf5\n",
      "Epoch 3/100\n",
      "100/100 [==============================] - 16s 163ms/step - loss: 5.2454 - particle_loss: 0.8254 - x_loss: 0.7096 - y_loss: 1.1253 - r_loss: 2.2870 - i_loss: 1.1253 - particle_binary_accuracy: 0.9944\n",
      "\n",
      "Epoch 00003: loss improved from 5.82214 to 5.24537, saving model to unet_particle.hdf5\n",
      "Epoch 4/100\n",
      "100/100 [==============================] - 16s 162ms/step - loss: 4.7635 - particle_loss: 0.6692 - x_loss: 0.6123 - y_loss: 1.0508 - r_loss: 2.1630 - i_loss: 1.0508 - particle_binary_accuracy: 0.9946\n",
      "\n",
      "Epoch 00004: loss improved from 5.24537 to 4.76354, saving model to unet_particle.hdf5\n",
      "Epoch 5/100\n",
      "100/100 [==============================] - 16s 163ms/step - loss: 4.7144 - particle_loss: 0.7033 - x_loss: 0.5844 - y_loss: 1.0539 - r_loss: 2.1287 - i_loss: 1.0539 - particle_binary_accuracy: 0.9945\n",
      "\n",
      "Epoch 00005: loss improved from 4.76354 to 4.71442, saving model to unet_particle.hdf5\n",
      "Epoch 6/100\n",
      "100/100 [==============================] - 17s 167ms/step - loss: 4.5984 - particle_loss: 0.6679 - x_loss: 0.5944 - y_loss: 1.0481 - r_loss: 2.0464 - i_loss: 1.0481 - particle_binary_accuracy: 0.9944\n",
      "\n",
      "Epoch 00006: loss improved from 4.71442 to 4.59841, saving model to unet_particle.hdf5\n",
      "Epoch 7/100\n",
      "100/100 [==============================] - 16s 164ms/step - loss: 4.4864 - particle_loss: 0.6448 - x_loss: 0.5376 - y_loss: 1.0242 - r_loss: 2.0208 - i_loss: 1.0242 - particle_binary_accuracy: 0.9960\n",
      "\n",
      "Epoch 00007: loss improved from 4.59841 to 4.48640, saving model to unet_particle.hdf5\n",
      "Epoch 8/100\n",
      "100/100 [==============================] - 16s 165ms/step - loss: 4.2903 - particle_loss: 0.6776 - x_loss: 0.4901 - y_loss: 0.9253 - r_loss: 1.8872 - i_loss: 0.9253 - particle_binary_accuracy: 0.9962\n",
      "\n",
      "Epoch 00008: loss improved from 4.48640 to 4.29029, saving model to unet_particle.hdf5\n",
      "Epoch 9/100\n",
      "100/100 [==============================] - 16s 163ms/step - loss: 4.2332 - particle_loss: 0.6278 - x_loss: 0.5149 - y_loss: 0.9369 - r_loss: 1.8390 - i_loss: 0.9369 - particle_binary_accuracy: 0.9963\n",
      "\n",
      "Epoch 00009: loss improved from 4.29029 to 4.23317, saving model to unet_particle.hdf5\n",
      "Epoch 10/100\n",
      "100/100 [==============================] - 16s 163ms/step - loss: 4.0558 - particle_loss: 0.6209 - x_loss: 0.4687 - y_loss: 0.8891 - r_loss: 1.7234 - i_loss: 0.8891 - particle_binary_accuracy: 0.9963\n",
      "\n",
      "Epoch 00010: loss improved from 4.23317 to 4.05575, saving model to unet_particle.hdf5\n",
      "Epoch 11/100\n",
      "100/100 [==============================] - 16s 162ms/step - loss: 3.8064 - particle_loss: 0.5399 - x_loss: 0.4618 - y_loss: 0.8598 - r_loss: 1.5174 - i_loss: 0.8598 - particle_binary_accuracy: 0.9969\n",
      "\n",
      "Epoch 00011: loss improved from 4.05575 to 3.80636, saving model to unet_particle.hdf5\n",
      "Epoch 12/100\n",
      "100/100 [==============================] - 16s 161ms/step - loss: nan - particle_loss: nan - x_loss: 1.0400 - y_loss: 1.0713 - r_loss: 2.3535 - i_loss: 1.0713 - particle_binary_accuracy: 0.0795\n",
      "\n",
      "Epoch 00012: loss did not improve from 3.80636\n"
     ]
    },
    {
     "name": "stderr",
     "output_type": "stream",
     "text": [
      "c:\\users\\david tonderski\\appdata\\local\\programs\\python\\python37\\lib\\site-packages\\keras\\callbacks\\callbacks.py:709: RuntimeWarning: invalid value encountered in less\n",
      "  if self.monitor_op(current, self.best):\n"
     ]
    },
    {
     "name": "stdout",
     "output_type": "stream",
     "text": [
      "Epoch 13/100\n",
      "100/100 [==============================] - 16s 161ms/step - loss: nan - particle_loss: nan - x_loss: 1.0951 - y_loss: 1.0954 - r_loss: 2.4593 - i_loss: 1.0954 - particle_binary_accuracy: 0.0000e+00\n",
      "\n",
      "Epoch 00013: loss did not improve from 3.80636\n",
      "Epoch 14/100\n",
      "100/100 [==============================] - 16s 160ms/step - loss: nan - particle_loss: nan - x_loss: 1.0741 - y_loss: 1.0816 - r_loss: 2.4043 - i_loss: 1.0816 - particle_binary_accuracy: 0.0000e+00\n",
      "\n",
      "Epoch 00014: loss did not improve from 3.80636\n",
      "Epoch 15/100\n",
      "100/100 [==============================] - 16s 161ms/step - loss: nan - particle_loss: nan - x_loss: 1.0895 - y_loss: 1.0924 - r_loss: 2.4134 - i_loss: 1.0924 - particle_binary_accuracy: 0.0000e+00s - loss: nan - particle_loss: nan - x_loss: 1.0895 - y_loss: 1.0925 - r_loss: 2.\n",
      "\n",
      "Epoch 00015: loss did not improve from 3.80636\n",
      "Epoch 16/100\n",
      "100/100 [==============================] - 16s 161ms/step - loss: nan - particle_loss: nan - x_loss: 1.0882 - y_loss: 1.0984 - r_loss: 2.4129 - i_loss: 1.0984 - particle_binary_accuracy: 0.0000e+00\n",
      "\n",
      "Epoch 00016: loss did not improve from 3.80636\n",
      "Epoch 17/100\n",
      "100/100 [==============================] - 16s 158ms/step - loss: nan - particle_loss: nan - x_loss: 1.0952 - y_loss: 1.0962 - r_loss: 2.4069 - i_loss: 1.0962 - particle_binary_accuracy: 0.0000e+00\n",
      "\n",
      "Epoch 00017: loss did not improve from 3.80636\n",
      "Epoch 18/100\n",
      "100/100 [==============================] - 16s 157ms/step - loss: nan - particle_loss: nan - x_loss: 1.1144 - y_loss: 1.0994 - r_loss: 2.4375 - i_loss: 1.0994 - particle_binary_accuracy: 0.0000e+00\n",
      "\n",
      "Epoch 00018: loss did not improve from 3.80636\n",
      "Epoch 19/100\n",
      " 77/100 [======================>.......] - ETA: 3s - loss: nan - particle_loss: nan - x_loss: 1.0871 - y_loss: 1.0937 - r_loss: 2.3920 - i_loss: 1.0937 - particle_binary_accuracy: 0.0000e+00"
     ]
    }
   ],
   "source": [
    "from keras.callbacks import ModelCheckpoint\n",
    "model_checkpoint = ModelCheckpoint('unet_particle.hdf5', monitor='loss',verbose=1, save_best_only=True)\n",
    "\n",
    "generator = imageGeneration.DataGenerator(get_image_parameters = lambda: imageGeneration.get_image_parameters_preconfig(),\n",
    "                                          batch_size = 32,\n",
    "                                          use_GPU = False,\n",
    "                                          len = 100)\n",
    "model = unet.create_unet()\n",
    "\n",
    "model.fit_generator(generator, epochs = 200, callbacks = [model_checkpoint])\n"
   ]
  },
  {
   "cell_type": "code",
   "execution_count": null,
   "metadata": {},
   "outputs": [],
   "source": []
  }
 ],
 "metadata": {
  "kernelspec": {
   "display_name": "Python 3",
   "language": "python",
   "name": "python3"
  },
  "language_info": {
   "codemirror_mode": {
    "name": "ipython",
    "version": 3
   },
   "file_extension": ".py",
   "mimetype": "text/x-python",
   "name": "python",
   "nbconvert_exporter": "python",
   "pygments_lexer": "ipython3",
   "version": "3.7.6"
  }
 },
 "nbformat": 4,
 "nbformat_minor": 4
}
