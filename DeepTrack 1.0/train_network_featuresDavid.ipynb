{
 "cells": [
  {
   "cell_type": "markdown",
   "metadata": {},
   "source": [
    "## Initialization"
   ]
  },
  {
   "cell_type": "code",
   "execution_count": 2,
   "metadata": {
    "scrolled": false
   },
   "outputs": [],
   "source": [
    "import unet, imageGeneration"
   ]
  },
  {
   "cell_type": "markdown",
   "metadata": {},
   "source": [
    "## Define image parameters function"
   ]
  },
  {
   "cell_type": "code",
   "execution_count": null,
   "metadata": {
    "scrolled": false
   },
   "outputs": [],
   "source": [
    "def image_parameters_function(lower_limit_SNR, higher_limit_SNR, image_size = 256):\n",
    "    from numpy.random import uniform, randint\n",
    "    from numpy import ones\n",
    "    from math import pi\n",
    "    \n",
    "    particle_number = randint(20, 30)\n",
    "    particle_radius_list = uniform(0.5, 2, particle_number)\n",
    "    (particle_center_x_list, particle_center_y_list) = imageGeneration.get_particle_positions(particle_radius_list, image_size)\n",
    "\n",
    "    particle_bessel_orders_list = []\n",
    "    particle_intensities_list = []\n",
    "\n",
    "    for i in range(particle_number):\n",
    "        particle_bessel_orders_list.append([1, ])\n",
    "        particle_intensities_list.append([uniform(0.05, 0.13, 1), ])\n",
    "\n",
    "    image_parameters = imageGeneration.get_image_parameters(\n",
    "        particle_center_x_list=lambda: particle_center_x_list,\n",
    "        particle_center_y_list=lambda: particle_center_y_list,\n",
    "        particle_radius_list=lambda: particle_radius_list,\n",
    "        particle_bessel_orders_list=lambda: particle_bessel_orders_list,\n",
    "        particle_intensities_list=lambda: particle_intensities_list,\n",
    "        image_size=lambda: image_size,\n",
    "        image_background_level=lambda: uniform(.3, .5),\n",
    "        signal_to_noise_ratio=lambda: uniform(lower_limit_SNR, higher_limit_SNR),\n",
    "        gradient_intensity=lambda: uniform(0, 0),\n",
    "        gradient_direction=lambda: uniform(-pi, pi),\n",
    "        ellipsoidal_orientation=lambda: uniform(-pi, pi, particle_number),\n",
    "        ellipticity=lambda: 1)\n",
    "\n",
    "    return image_parameters"
   ]
  },
  {
   "cell_type": "markdown",
   "metadata": {},
   "source": [
    "## Fit using generator"
   ]
  },
  {
   "cell_type": "code",
   "execution_count": null,
   "metadata": {},
   "outputs": [],
   "source": [
    "import time\n",
    "t = time.time()\n",
    "from keras.callbacks import ModelCheckpoint\n",
    "\n",
    "model = unet.create_unet(\"unet_particle.hdf5\")\n",
    "\n",
    "lower_SNR = [20, 18, 16, 14, 12, 12, 12, 12, 12]\n",
    "higher_SNR = [30, 28, 26, 24, 22, 24, 26, 28, 30]\n",
    "\n",
    "for i in range(9):\n",
    "    print(\"lower SNR is \" + str(lower_SNR[i]) + \"; higher SNR is \" + str(higher_SNR[i]))\n",
    "    generator = imageGeneration.create_data_generator(get_image_parameters = lambda: image_parameters_function(lower_SNR[i], higher_SNR[i]),\n",
    "                                          epoch_batch_size = 1000,\n",
    "                                          batch_size = 32,\n",
    "                                          len = 100)\n",
    "    \n",
    "    model_checkpoint = ModelCheckpoint('unet_particle.hdf5', monitor='loss',verbose=1, save_best_only=True)\n",
    "\n",
    "\n",
    "    model.fit_generator(generator, epochs = 50, callbacks = [model_checkpoint])\n",
    "    time_taken = time.time() - t\n",
    "    print(\"Time taken for training: \" + str(time_taken) + \" s.\")\n",
    "    "
   ]
  },
  {
   "cell_type": "markdown",
   "metadata": {},
   "source": [
    "## Loads network, predicts movie, saves batch and then loads it."
   ]
  },
  {
   "cell_type": "code",
   "execution_count": null,
   "metadata": {
    "scrolled": false
   },
   "outputs": [],
   "source": [
    "import numpy as np\n",
    "from nd2reader import ND2Reader\n",
    "\n",
    "number_of_frames = 100\n",
    "\n",
    "batch_images = np.zeros((number_of_frames,512,512,1))\n",
    "with ND2Reader('20190313_400um_stch_nocholEV17_Q40_TIRF_002.nd2') as images:\n",
    "    for i in range(number_of_frames):\n",
    "        batch_images[i,:,:,0] = np.asarray(images[i])/255\n",
    "\n",
    "model = unet.create_unet(pretrained_weights = \"unet_particle.hdf5\")\n",
    "batch_predictions = model.predict(batch_images)\n",
    "\n",
    "batch = (batch_images, None, batch_predictions)\n",
    "imageGeneration.save_batch(batch, image_path = 'data/videos/video2/images', prediction_path = 'data/videos/video2/predictions')\n",
    "\n",
    "batch = imageGeneration.load_batch(number_of_frames, image_path = 'data/videos/video2/images', prediction_path = 'data/videos/video2/predictions')\n",
    "(batch_images, batch_labels, batch_predictions) = batch"
   ]
  },
  {
   "cell_type": "markdown",
   "metadata": {},
   "source": [
    "## Visualises batch and saves the generated images"
   ]
  },
  {
   "cell_type": "code",
   "execution_count": null,
   "metadata": {},
   "outputs": [],
   "source": [
    "from matplotlib import pyplot as plt\n",
    "number_of_images_to_show = 50\n",
    "for j in range(number_of_images_to_show):\n",
    "    cutoff_value = 0.9\n",
    "    imageGeneration.visualise_batch(batch, apply_cutoff = True, apply_sigmoid = True, index_of_image_to_show = j, cutoff_value = cutoff_value)\n",
    "    fig = plt.gcf()\n",
    "    fig.savefig('video/prediction/test' + str(j) +'.png', dpi = 500)\n",
    "    #Show the last image\n",
    "    if(j!=number_of_images_to_show-1):\n",
    "        plt.clf()"
   ]
  },
  {
   "cell_type": "code",
   "execution_count": null,
   "metadata": {
    "scrolled": true
   },
   "outputs": [],
   "source": [
    "from matplotlib import pyplot as plt\n",
    "import numpy as np\n",
    "import cv2\n",
    "\n",
    "lower_limit_SNR = 37\n",
    "higher_limit_SNR = 37\n",
    "batch_size = 10\n",
    "batch = imageGeneration.get_batch(lambda: image_parameters_function(lower_limit_SNR, higher_limit_SNR), batch_size = batch_size)\n",
    "(batch_images, batch_labels, batch_predictions) = batch\n",
    "\n",
    "model = unet.create_unet(pretrained_weights = 'unet_particle.hdf5')\n",
    "batch_predictions = model.predict(batch_images)\n",
    "print(batch_labels.shape)\n",
    "\n",
    "batch_new = (batch_images, batch_labels, batch_predictions)\n",
    "\n",
    "example_image = batch_images[0,:,:,0]\n",
    "first_feature_first_label = batch_labels[0,:,:,0]\n",
    "first_feature_first_prediction = batch_predictions[0,:,:,0]\n",
    "cv2.imwrite(\"Bild1.png\", first_feature_first_prediction*255)\n",
    "cv2.imwrite(\"Bild2.png\", first_feature_first_label*255)\n",
    "\n",
    "\n",
    "print(np.mean(example_image) ** (1/2) / np.std(example_image))\n",
    "\n",
    "\n",
    "imageGeneration.visualise_batch(batch_new, apply_cutoff = True, apply_sigmoid = True, use_predictions = True, cutoff_value = 0.5)\n",
    "plt.show()\n",
    "imageGeneration.visualise_batch(batch_new, apply_cutoff = True, apply_sigmoid = False, use_predictions = False, cutoff_value = 0.5)\n"
   ]
  },
  {
   "cell_type": "code",
   "execution_count": 62,
   "metadata": {},
   "outputs": [
    {
     "name": "stdout",
     "output_type": "stream",
     "text": [
      "Time taken for batch generation of size 100: 1.239689588546753 s.\n",
      "Mean is 0.4002, STD is 0.0173, SNR is 36.4860\n"
     ]
    },
    {
     "data": {
      "image/png": "[encoded data removed]",
      "text/plain": [
       "<Figure size 432x288 with 1 Axes>"
      ]
     },
     "metadata": {
      "needs_background": "light"
     },
     "output_type": "display_data"
    },
    {
     "name": "stdout",
     "output_type": "stream",
     "text": [
      "Mean is 0.4070, STD is 0.0171, SNR is 37.2701\n"
     ]
    },
    {
     "data": {
      "image/png": "[encoded data removed]",
      "text/plain": [
       "<Figure size 432x288 with 1 Axes>"
      ]
     },
     "metadata": {
      "needs_background": "light"
     },
     "output_type": "display_data"
    },
    {
     "name": "stdout",
     "output_type": "stream",
     "text": [
      "26214400\n"
     ]
    }
   ],
   "source": [
    "import numpy as np\n",
    "from nd2reader import ND2Reader\n",
    "from matplotlib import pyplot as plt\n",
    "import cv2\n",
    "\n",
    "def image_parameters_function(lower_limit_SNR, higher_limit_SNR, image_size = 256):\n",
    "    from numpy.random import uniform, randint\n",
    "    from numpy import ones\n",
    "    from math import pi\n",
    "    \n",
    "    particle_number = randint(20, 30)\n",
    "    particle_radius_list = uniform(0.5, 2, particle_number)\n",
    "    (particle_center_x_list, particle_center_y_list) = imageGeneration.get_particle_positions(particle_radius_list, image_size)\n",
    "\n",
    "    particle_bessel_orders_list = []\n",
    "    particle_intensities_list = []\n",
    "\n",
    "    for i in range(particle_number):\n",
    "        particle_bessel_orders_list.append([1, ])\n",
    "        particle_intensities_list.append([uniform(0.05, 0.13, 1), ])\n",
    "\n",
    "    image_parameters = imageGeneration.get_image_parameters(\n",
    "        particle_center_x_list=lambda: particle_center_x_list,\n",
    "        particle_center_y_list=lambda: particle_center_y_list,\n",
    "        particle_radius_list=lambda: particle_radius_list,\n",
    "        particle_bessel_orders_list=lambda: particle_bessel_orders_list,\n",
    "        particle_intensities_list=lambda: particle_intensities_list,\n",
    "        image_size=lambda: image_size,\n",
    "        image_background_level=lambda: uniform(.4, .4),\n",
    "        signal_to_noise_ratio=lambda: uniform(lower_limit_SNR, higher_limit_SNR),\n",
    "        gradient_intensity=lambda: uniform(0, 0),\n",
    "        gradient_direction=lambda: uniform(-pi, pi),\n",
    "        ellipsoidal_orientation=lambda: uniform(-pi, pi, particle_number),\n",
    "        ellipticity=lambda: 1)\n",
    "\n",
    "    return image_parameters\n",
    "\n",
    "number_of_frames = 100\n",
    "\n",
    "batch_images = np.zeros((number_of_frames,512,512,1))\n",
    "with ND2Reader('20190313_400um_stch_nocholEV17_Q40_TIRF_002.nd2') as images:\n",
    "    for i in range(number_of_frames):\n",
    "        batch_images[i,:,:,0] = np.asarray(images[i])/255\n",
    "\n",
    "(batch_generated_images, temp, temp) = imageGeneration.get_batch(lambda: image_parameters_function(37, 37), batch_size = number_of_frames)\n",
    "\n",
    "test_generated_image = batch_generated_images[0, :, :, 0]\n",
    "test_video_images = batch_images[0, :, :, 0]\n",
    "\n",
    "# plt.imshow(test_generated_image)\n",
    "# plt.colorbar()\n",
    "# plt.show()\n",
    "print(\"Mean is %.4f, STD is %.4f, SNR is %.4f\" % (np.mean(batch_generated_images), np.std(batch_generated_images),\n",
    "                                                 np.sqrt(np.mean(batch_generated_images))/np.std(batch_generated_images)))\n",
    "\n",
    "hist, bins = np.histogram(batch_generated_images, bins = 70)\n",
    "width = 0.7 * (bins[1] - bins[0])\n",
    "center = (bins[:-1] + bins[1:]) / 2\n",
    "plt.bar(center, hist, align='center', width=width)\n",
    "plt.xlim((0.3, 0.5))\n",
    "\n",
    "plt.show()\n",
    "\n",
    "\n",
    "# plt.imshow(test_video_images)\n",
    "# plt.colorbar()\n",
    "# plt.show()\n",
    "print(\"Mean is %.4f, STD is %.4f, SNR is %.4f\" % (np.mean(batch_images), np.std(batch_images),\n",
    "                                                 np.sqrt(np.mean(batch_images))/np.std(batch_images)))\n",
    "\n",
    "hist, bins = np.histogram(batch_images, bins = 100)\n",
    "width = 0.5 * (bins[1] - bins[0])\n",
    "center = (bins[:-1] + bins[1:]) / 2\n",
    "plt.bar(center, hist, align='center', width=width)\n",
    "plt.xlim((0.3, 0.5))\n",
    "plt.show()\n",
    "print(batch_images.size)\n",
    "\n",
    "        "
   ]
  },
  {
   "cell_type": "code",
   "execution_count": null,
   "metadata": {},
   "outputs": [],
   "source": []
  }
 ],
 "metadata": {
  "kernelspec": {
   "display_name": "Python 3",
   "language": "python",
   "name": "python3"
  },
  "language_info": {
   "codemirror_mode": {
    "name": "ipython",
    "version": 3
   },
   "file_extension": ".py",
   "mimetype": "text/x-python",
   "name": "python",
   "nbconvert_exporter": "python",
   "pygments_lexer": "ipython3",
   "version": "3.7.6"
  }
 },
 "nbformat": 4,
 "nbformat_minor": 4
}
