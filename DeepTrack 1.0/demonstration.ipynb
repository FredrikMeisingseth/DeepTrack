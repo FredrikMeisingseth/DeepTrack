{
 "cells": [
  {
   "cell_type": "code",
   "execution_count": 1,
   "metadata": {
    "scrolled": true
   },
   "outputs": [
    {
     "name": "stderr",
     "output_type": "stream",
     "text": [
      "Using TensorFlow backend.\n"
     ]
    }
   ],
   "source": [
    "from model import *\n",
    "from data import *\n",
    "import deeptrack as DT\n",
    "import DT_extension_dev as DT_dev"
   ]
  },
  {
   "cell_type": "markdown",
   "metadata": {},
   "source": [
    "## Train your Unet with membrane data\n",
    "membrane data is in folder membrane/, it is a binary classification task.\n",
    "\n",
    "The input shape of image and mask are the same :(batch_size,rows,cols,channel = 1)"
   ]
  },
  {
   "cell_type": "code",
   "execution_count": null,
   "metadata": {},
   "outputs": [],
   "source": []
  },
  {
   "cell_type": "markdown",
   "metadata": {},
   "source": [
    "### Train with data generator"
   ]
  },
  {
   "cell_type": "code",
   "execution_count": 2,
   "metadata": {
    "scrolled": false
   },
   "outputs": [
    {
     "name": "stderr",
     "output_type": "stream",
     "text": [
      "Lossy conversion from float64 to uint8. Range [0.0, 1.4586496529031303]. Convert image to uint8 prior to saving to suppress this warning.\n",
      "c:\\users\\adrian\\desktop\\kandidatarbete\\deeptrack\\lib\\site-packages\\ipykernel_launcher.py:11: UserWarning: data/particles/train/targets\\target_0.png is a low contrast image\n",
      "  # This is added back by InteractiveShellApp.init_path()\n",
      "Lossy conversion from float64 to uint8. Range [0, 1]. Convert image to uint8 prior to saving to suppress this warning.\n",
      "Lossy conversion from float64 to uint8. Range [0.0, 1.6174989260219803]. Convert image to uint8 prior to saving to suppress this warning.\n",
      "c:\\users\\adrian\\desktop\\kandidatarbete\\deeptrack\\lib\\site-packages\\ipykernel_launcher.py:11: UserWarning: data/particles/train/targets\\target_1.png is a low contrast image\n",
      "  # This is added back by InteractiveShellApp.init_path()\n",
      "Lossy conversion from float64 to uint8. Range [0, 1]. Convert image to uint8 prior to saving to suppress this warning.\n",
      "Lossy conversion from float64 to uint8. Range [0.0, 1.8939599288901177]. Convert image to uint8 prior to saving to suppress this warning.\n",
      "c:\\users\\adrian\\desktop\\kandidatarbete\\deeptrack\\lib\\site-packages\\ipykernel_launcher.py:11: UserWarning: data/particles/train/targets\\target_2.png is a low contrast image\n",
      "  # This is added back by InteractiveShellApp.init_path()\n",
      "Lossy conversion from float64 to uint8. Range [0, 1]. Convert image to uint8 prior to saving to suppress this warning.\n",
      "Lossy conversion from float64 to uint8. Range [0.0, 1.4955103301893904]. Convert image to uint8 prior to saving to suppress this warning.\n",
      "c:\\users\\adrian\\desktop\\kandidatarbete\\deeptrack\\lib\\site-packages\\ipykernel_launcher.py:11: UserWarning: data/particles/train/targets\\target_3.png is a low contrast image\n",
      "  # This is added back by InteractiveShellApp.init_path()\n",
      "Lossy conversion from float64 to uint8. Range [0, 1]. Convert image to uint8 prior to saving to suppress this warning.\n",
      "Lossy conversion from float64 to uint8. Range [0.0, 1.415617049175342]. Convert image to uint8 prior to saving to suppress this warning.\n",
      "c:\\users\\adrian\\desktop\\kandidatarbete\\deeptrack\\lib\\site-packages\\ipykernel_launcher.py:11: UserWarning: data/particles/train/targets\\target_4.png is a low contrast image\n",
      "  # This is added back by InteractiveShellApp.init_path()\n",
      "Lossy conversion from float64 to uint8. Range [0, 1]. Convert image to uint8 prior to saving to suppress this warning.\n",
      "Lossy conversion from float64 to uint8. Range [0.0, 1.6099126131428476]. Convert image to uint8 prior to saving to suppress this warning.\n",
      "Lossy conversion from float64 to uint8. Range [0, 1]. Convert image to uint8 prior to saving to suppress this warning.\n",
      "Lossy conversion from float64 to uint8. Range [0.0, 1.6768824036212389]. Convert image to uint8 prior to saving to suppress this warning.\n",
      "Lossy conversion from float64 to uint8. Range [0, 1]. Convert image to uint8 prior to saving to suppress this warning.\n",
      "Lossy conversion from float64 to uint8. Range [0.0, 1.7864253442544977]. Convert image to uint8 prior to saving to suppress this warning.\n",
      "c:\\users\\adrian\\desktop\\kandidatarbete\\deeptrack\\lib\\site-packages\\ipykernel_launcher.py:11: UserWarning: data/particles/train/targets\\target_7.png is a low contrast image\n",
      "  # This is added back by InteractiveShellApp.init_path()\n",
      "Lossy conversion from float64 to uint8. Range [0, 1]. Convert image to uint8 prior to saving to suppress this warning.\n",
      "Lossy conversion from float64 to uint8. Range [0.0, 1.740715632237295]. Convert image to uint8 prior to saving to suppress this warning.\n",
      "c:\\users\\adrian\\desktop\\kandidatarbete\\deeptrack\\lib\\site-packages\\ipykernel_launcher.py:11: UserWarning: data/particles/train/targets\\target_8.png is a low contrast image\n",
      "  # This is added back by InteractiveShellApp.init_path()\n",
      "Lossy conversion from float64 to uint8. Range [0, 1]. Convert image to uint8 prior to saving to suppress this warning.\n",
      "Lossy conversion from float64 to uint8. Range [0.0, 1.3610257171439641]. Convert image to uint8 prior to saving to suppress this warning.\n",
      "c:\\users\\adrian\\desktop\\kandidatarbete\\deeptrack\\lib\\site-packages\\ipykernel_launcher.py:11: UserWarning: data/particles/train/targets\\target_9.png is a low contrast image\n",
      "  # This is added back by InteractiveShellApp.init_path()\n",
      "Lossy conversion from float64 to uint8. Range [0, 1]. Convert image to uint8 prior to saving to suppress this warning.\n",
      "Lossy conversion from float64 to uint8. Range [0.0, 1.4180253912026828]. Convert image to uint8 prior to saving to suppress this warning.\n",
      "Lossy conversion from float64 to uint8. Range [0, 1]. Convert image to uint8 prior to saving to suppress this warning.\n",
      "Lossy conversion from float64 to uint8. Range [0.0, 1.6479753343699026]. Convert image to uint8 prior to saving to suppress this warning.\n",
      "c:\\users\\adrian\\desktop\\kandidatarbete\\deeptrack\\lib\\site-packages\\ipykernel_launcher.py:11: UserWarning: data/particles/train/targets\\target_11.png is a low contrast image\n",
      "  # This is added back by InteractiveShellApp.init_path()\n",
      "Lossy conversion from float64 to uint8. Range [0, 1]. Convert image to uint8 prior to saving to suppress this warning.\n",
      "Lossy conversion from float64 to uint8. Range [0.0, 1.5784365375827247]. Convert image to uint8 prior to saving to suppress this warning.\n",
      "c:\\users\\adrian\\desktop\\kandidatarbete\\deeptrack\\lib\\site-packages\\ipykernel_launcher.py:11: UserWarning: data/particles/train/targets\\target_12.png is a low contrast image\n",
      "  # This is added back by InteractiveShellApp.init_path()\n",
      "Lossy conversion from float64 to uint8. Range [0, 1]. Convert image to uint8 prior to saving to suppress this warning.\n",
      "Lossy conversion from float64 to uint8. Range [0.0, 1.9390335083062873]. Convert image to uint8 prior to saving to suppress this warning.\n",
      "c:\\users\\adrian\\desktop\\kandidatarbete\\deeptrack\\lib\\site-packages\\ipykernel_launcher.py:11: UserWarning: data/particles/train/targets\\target_13.png is a low contrast image\n",
      "  # This is added back by InteractiveShellApp.init_path()\n",
      "Lossy conversion from float64 to uint8. Range [0, 1]. Convert image to uint8 prior to saving to suppress this warning.\n",
      "Lossy conversion from float64 to uint8. Range [0.0, 1.6501590570478004]. Convert image to uint8 prior to saving to suppress this warning.\n",
      "c:\\users\\adrian\\desktop\\kandidatarbete\\deeptrack\\lib\\site-packages\\ipykernel_launcher.py:11: UserWarning: data/particles/train/targets\\target_14.png is a low contrast image\n",
      "  # This is added back by InteractiveShellApp.init_path()\n",
      "Lossy conversion from float64 to uint8. Range [0, 1]. Convert image to uint8 prior to saving to suppress this warning.\n",
      "Lossy conversion from float64 to uint8. Range [0.0, 1.5882057403362373]. Convert image to uint8 prior to saving to suppress this warning.\n",
      "c:\\users\\adrian\\desktop\\kandidatarbete\\deeptrack\\lib\\site-packages\\ipykernel_launcher.py:11: UserWarning: data/particles/train/targets\\target_15.png is a low contrast image\n",
      "  # This is added back by InteractiveShellApp.init_path()\n",
      "Lossy conversion from float64 to uint8. Range [0, 1]. Convert image to uint8 prior to saving to suppress this warning.\n",
      "Lossy conversion from float64 to uint8. Range [0.0, 1.676245978786352]. Convert image to uint8 prior to saving to suppress this warning.\n",
      "Lossy conversion from float64 to uint8. Range [0, 1]. Convert image to uint8 prior to saving to suppress this warning.\n",
      "Lossy conversion from float64 to uint8. Range [0.0, 1.9564967840180638]. Convert image to uint8 prior to saving to suppress this warning.\n",
      "Lossy conversion from float64 to uint8. Range [0, 1]. Convert image to uint8 prior to saving to suppress this warning.\n",
      "Lossy conversion from float64 to uint8. Range [0.0, 1.3825084972553243]. Convert image to uint8 prior to saving to suppress this warning.\n",
      "c:\\users\\adrian\\desktop\\kandidatarbete\\deeptrack\\lib\\site-packages\\ipykernel_launcher.py:11: UserWarning: data/particles/train/targets\\target_18.png is a low contrast image\n",
      "  # This is added back by InteractiveShellApp.init_path()\n",
      "Lossy conversion from float64 to uint8. Range [0, 1]. Convert image to uint8 prior to saving to suppress this warning.\n",
      "Lossy conversion from float64 to uint8. Range [0.0, 1.55708108879746]. Convert image to uint8 prior to saving to suppress this warning.\n"
     ]
    },
    {
     "name": "stderr",
     "output_type": "stream",
     "text": [
      "c:\\users\\adrian\\desktop\\kandidatarbete\\deeptrack\\lib\\site-packages\\ipykernel_launcher.py:11: UserWarning: data/particles/train/targets\\target_19.png is a low contrast image\n",
      "  # This is added back by InteractiveShellApp.init_path()\n",
      "Lossy conversion from float64 to uint8. Range [0, 1]. Convert image to uint8 prior to saving to suppress this warning.\n",
      "Lossy conversion from float64 to uint8. Range [0.0, 2.106347501989657]. Convert image to uint8 prior to saving to suppress this warning.\n",
      "c:\\users\\adrian\\desktop\\kandidatarbete\\deeptrack\\lib\\site-packages\\ipykernel_launcher.py:11: UserWarning: data/particles/train/targets\\target_20.png is a low contrast image\n",
      "  # This is added back by InteractiveShellApp.init_path()\n",
      "Lossy conversion from float64 to uint8. Range [0, 1]. Convert image to uint8 prior to saving to suppress this warning.\n",
      "Lossy conversion from float64 to uint8. Range [0.0, 1.3272125438749982]. Convert image to uint8 prior to saving to suppress this warning.\n",
      "c:\\users\\adrian\\desktop\\kandidatarbete\\deeptrack\\lib\\site-packages\\ipykernel_launcher.py:11: UserWarning: data/particles/train/targets\\target_21.png is a low contrast image\n",
      "  # This is added back by InteractiveShellApp.init_path()\n",
      "Lossy conversion from float64 to uint8. Range [0, 1]. Convert image to uint8 prior to saving to suppress this warning.\n",
      "Lossy conversion from float64 to uint8. Range [0.0, 1.9681085021321187]. Convert image to uint8 prior to saving to suppress this warning.\n",
      "c:\\users\\adrian\\desktop\\kandidatarbete\\deeptrack\\lib\\site-packages\\ipykernel_launcher.py:11: UserWarning: data/particles/train/targets\\target_22.png is a low contrast image\n",
      "  # This is added back by InteractiveShellApp.init_path()\n",
      "Lossy conversion from float64 to uint8. Range [0, 1]. Convert image to uint8 prior to saving to suppress this warning.\n",
      "Lossy conversion from float64 to uint8. Range [0.0, 1.598968963338458]. Convert image to uint8 prior to saving to suppress this warning.\n",
      "c:\\users\\adrian\\desktop\\kandidatarbete\\deeptrack\\lib\\site-packages\\ipykernel_launcher.py:11: UserWarning: data/particles/train/targets\\target_23.png is a low contrast image\n",
      "  # This is added back by InteractiveShellApp.init_path()\n",
      "Lossy conversion from float64 to uint8. Range [0, 1]. Convert image to uint8 prior to saving to suppress this warning.\n",
      "Lossy conversion from float64 to uint8. Range [0.0, 1.5322788500491034]. Convert image to uint8 prior to saving to suppress this warning.\n",
      "c:\\users\\adrian\\desktop\\kandidatarbete\\deeptrack\\lib\\site-packages\\ipykernel_launcher.py:11: UserWarning: data/particles/train/targets\\target_24.png is a low contrast image\n",
      "  # This is added back by InteractiveShellApp.init_path()\n",
      "Lossy conversion from float64 to uint8. Range [0, 1]. Convert image to uint8 prior to saving to suppress this warning.\n",
      "Lossy conversion from float64 to uint8. Range [0.0, 1.7407413815923283]. Convert image to uint8 prior to saving to suppress this warning.\n",
      "c:\\users\\adrian\\desktop\\kandidatarbete\\deeptrack\\lib\\site-packages\\ipykernel_launcher.py:11: UserWarning: data/particles/train/targets\\target_25.png is a low contrast image\n",
      "  # This is added back by InteractiveShellApp.init_path()\n",
      "Lossy conversion from float64 to uint8. Range [0, 1]. Convert image to uint8 prior to saving to suppress this warning.\n",
      "Lossy conversion from float64 to uint8. Range [0.0, 1.9809207984292208]. Convert image to uint8 prior to saving to suppress this warning.\n",
      "c:\\users\\adrian\\desktop\\kandidatarbete\\deeptrack\\lib\\site-packages\\ipykernel_launcher.py:11: UserWarning: data/particles/train/targets\\target_26.png is a low contrast image\n",
      "  # This is added back by InteractiveShellApp.init_path()\n",
      "Lossy conversion from float64 to uint8. Range [0, 1]. Convert image to uint8 prior to saving to suppress this warning.\n",
      "Lossy conversion from float64 to uint8. Range [0.0, 1.6657670017487236]. Convert image to uint8 prior to saving to suppress this warning.\n",
      "Lossy conversion from float64 to uint8. Range [0, 1]. Convert image to uint8 prior to saving to suppress this warning.\n",
      "Lossy conversion from float64 to uint8. Range [0.0, 1.7215258199654935]. Convert image to uint8 prior to saving to suppress this warning.\n",
      "c:\\users\\adrian\\desktop\\kandidatarbete\\deeptrack\\lib\\site-packages\\ipykernel_launcher.py:11: UserWarning: data/particles/train/targets\\target_28.png is a low contrast image\n",
      "  # This is added back by InteractiveShellApp.init_path()\n",
      "Lossy conversion from float64 to uint8. Range [0, 1]. Convert image to uint8 prior to saving to suppress this warning.\n",
      "Lossy conversion from float64 to uint8. Range [0.0, 1.9800493822855134]. Convert image to uint8 prior to saving to suppress this warning.\n",
      "c:\\users\\adrian\\desktop\\kandidatarbete\\deeptrack\\lib\\site-packages\\ipykernel_launcher.py:11: UserWarning: data/particles/train/targets\\target_29.png is a low contrast image\n",
      "  # This is added back by InteractiveShellApp.init_path()\n",
      "Lossy conversion from float64 to uint8. Range [0, 1]. Convert image to uint8 prior to saving to suppress this warning.\n",
      "Lossy conversion from float64 to uint8. Range [0.0, 1.9979392759252441]. Convert image to uint8 prior to saving to suppress this warning.\n",
      "Lossy conversion from float64 to uint8. Range [0, 1]. Convert image to uint8 prior to saving to suppress this warning.\n",
      "Lossy conversion from float64 to uint8. Range [0.0, 1.6734644745435026]. Convert image to uint8 prior to saving to suppress this warning.\n",
      "c:\\users\\adrian\\desktop\\kandidatarbete\\deeptrack\\lib\\site-packages\\ipykernel_launcher.py:11: UserWarning: data/particles/train/targets\\target_31.png is a low contrast image\n",
      "  # This is added back by InteractiveShellApp.init_path()\n",
      "Lossy conversion from float64 to uint8. Range [0, 1]. Convert image to uint8 prior to saving to suppress this warning.\n",
      "Lossy conversion from float64 to uint8. Range [0.0, 1.4898893480957631]. Convert image to uint8 prior to saving to suppress this warning.\n",
      "c:\\users\\adrian\\desktop\\kandidatarbete\\deeptrack\\lib\\site-packages\\ipykernel_launcher.py:11: UserWarning: data/particles/train/targets\\target_32.png is a low contrast image\n",
      "  # This is added back by InteractiveShellApp.init_path()\n",
      "Lossy conversion from float64 to uint8. Range [0, 1]. Convert image to uint8 prior to saving to suppress this warning.\n",
      "Lossy conversion from float64 to uint8. Range [0.0, 1.6382312384051747]. Convert image to uint8 prior to saving to suppress this warning.\n",
      "Lossy conversion from float64 to uint8. Range [0, 1]. Convert image to uint8 prior to saving to suppress this warning.\n",
      "Lossy conversion from float64 to uint8. Range [0.0, 1.6368289492751715]. Convert image to uint8 prior to saving to suppress this warning.\n",
      "c:\\users\\adrian\\desktop\\kandidatarbete\\deeptrack\\lib\\site-packages\\ipykernel_launcher.py:11: UserWarning: data/particles/train/targets\\target_34.png is a low contrast image\n",
      "  # This is added back by InteractiveShellApp.init_path()\n",
      "Lossy conversion from float64 to uint8. Range [0, 1]. Convert image to uint8 prior to saving to suppress this warning.\n",
      "Lossy conversion from float64 to uint8. Range [0.0, 1.9227688305416173]. Convert image to uint8 prior to saving to suppress this warning.\n",
      "c:\\users\\adrian\\desktop\\kandidatarbete\\deeptrack\\lib\\site-packages\\ipykernel_launcher.py:11: UserWarning: data/particles/train/targets\\target_35.png is a low contrast image\n",
      "  # This is added back by InteractiveShellApp.init_path()\n",
      "Lossy conversion from float64 to uint8. Range [0, 1]. Convert image to uint8 prior to saving to suppress this warning.\n",
      "Lossy conversion from float64 to uint8. Range [0.0, 2.191471739224483]. Convert image to uint8 prior to saving to suppress this warning.\n",
      "Lossy conversion from float64 to uint8. Range [0, 1]. Convert image to uint8 prior to saving to suppress this warning.\n",
      "Lossy conversion from float64 to uint8. Range [0.0, 2.063863634561307]. Convert image to uint8 prior to saving to suppress this warning.\n",
      "Lossy conversion from float64 to uint8. Range [0, 1]. Convert image to uint8 prior to saving to suppress this warning.\n",
      "Lossy conversion from float64 to uint8. Range [0.0, 1.7885398981270688]. Convert image to uint8 prior to saving to suppress this warning.\n",
      "c:\\users\\adrian\\desktop\\kandidatarbete\\deeptrack\\lib\\site-packages\\ipykernel_launcher.py:11: UserWarning: data/particles/train/targets\\target_38.png is a low contrast image\n",
      "  # This is added back by InteractiveShellApp.init_path()\n",
      "Lossy conversion from float64 to uint8. Range [0, 1]. Convert image to uint8 prior to saving to suppress this warning.\n"
     ]
    },
    {
     "name": "stderr",
     "output_type": "stream",
     "text": [
      "Lossy conversion from float64 to uint8. Range [0.0, 1.4743901103524377]. Convert image to uint8 prior to saving to suppress this warning.\n",
      "c:\\users\\adrian\\desktop\\kandidatarbete\\deeptrack\\lib\\site-packages\\ipykernel_launcher.py:11: UserWarning: data/particles/train/targets\\target_39.png is a low contrast image\n",
      "  # This is added back by InteractiveShellApp.init_path()\n",
      "Lossy conversion from float64 to uint8. Range [0, 1]. Convert image to uint8 prior to saving to suppress this warning.\n",
      "Lossy conversion from float64 to uint8. Range [0.0, 1.7632035360279408]. Convert image to uint8 prior to saving to suppress this warning.\n",
      "c:\\users\\adrian\\desktop\\kandidatarbete\\deeptrack\\lib\\site-packages\\ipykernel_launcher.py:11: UserWarning: data/particles/train/targets\\target_40.png is a low contrast image\n",
      "  # This is added back by InteractiveShellApp.init_path()\n",
      "Lossy conversion from float64 to uint8. Range [0, 1]. Convert image to uint8 prior to saving to suppress this warning.\n",
      "Lossy conversion from float64 to uint8. Range [0.0, 1.588639393191563]. Convert image to uint8 prior to saving to suppress this warning.\n",
      "Lossy conversion from float64 to uint8. Range [0, 1]. Convert image to uint8 prior to saving to suppress this warning.\n",
      "Lossy conversion from float64 to uint8. Range [0.0, 1.607875430790563]. Convert image to uint8 prior to saving to suppress this warning.\n",
      "c:\\users\\adrian\\desktop\\kandidatarbete\\deeptrack\\lib\\site-packages\\ipykernel_launcher.py:11: UserWarning: data/particles/train/targets\\target_42.png is a low contrast image\n",
      "  # This is added back by InteractiveShellApp.init_path()\n",
      "Lossy conversion from float64 to uint8. Range [0, 1]. Convert image to uint8 prior to saving to suppress this warning.\n",
      "Lossy conversion from float64 to uint8. Range [0.0, 1.351653540077314]. Convert image to uint8 prior to saving to suppress this warning.\n",
      "c:\\users\\adrian\\desktop\\kandidatarbete\\deeptrack\\lib\\site-packages\\ipykernel_launcher.py:11: UserWarning: data/particles/train/targets\\target_43.png is a low contrast image\n",
      "  # This is added back by InteractiveShellApp.init_path()\n",
      "Lossy conversion from float64 to uint8. Range [0, 1]. Convert image to uint8 prior to saving to suppress this warning.\n",
      "Lossy conversion from float64 to uint8. Range [0.0, 1.3638835560401776]. Convert image to uint8 prior to saving to suppress this warning.\n",
      "c:\\users\\adrian\\desktop\\kandidatarbete\\deeptrack\\lib\\site-packages\\ipykernel_launcher.py:11: UserWarning: data/particles/train/targets\\target_44.png is a low contrast image\n",
      "  # This is added back by InteractiveShellApp.init_path()\n",
      "Lossy conversion from float64 to uint8. Range [0, 1]. Convert image to uint8 prior to saving to suppress this warning.\n",
      "Lossy conversion from float64 to uint8. Range [0.0, 1.7845159602926854]. Convert image to uint8 prior to saving to suppress this warning.\n",
      "Lossy conversion from float64 to uint8. Range [0, 1]. Convert image to uint8 prior to saving to suppress this warning.\n",
      "Lossy conversion from float64 to uint8. Range [0.0, 1.7734099972732944]. Convert image to uint8 prior to saving to suppress this warning.\n",
      "Lossy conversion from float64 to uint8. Range [0, 1]. Convert image to uint8 prior to saving to suppress this warning.\n",
      "Lossy conversion from float64 to uint8. Range [0.0, 1.5640723006361215]. Convert image to uint8 prior to saving to suppress this warning.\n",
      "c:\\users\\adrian\\desktop\\kandidatarbete\\deeptrack\\lib\\site-packages\\ipykernel_launcher.py:11: UserWarning: data/particles/train/targets\\target_47.png is a low contrast image\n",
      "  # This is added back by InteractiveShellApp.init_path()\n",
      "Lossy conversion from float64 to uint8. Range [0, 1]. Convert image to uint8 prior to saving to suppress this warning.\n",
      "Lossy conversion from float64 to uint8. Range [0.0, 1.9193144517365437]. Convert image to uint8 prior to saving to suppress this warning.\n",
      "c:\\users\\adrian\\desktop\\kandidatarbete\\deeptrack\\lib\\site-packages\\ipykernel_launcher.py:11: UserWarning: data/particles/train/targets\\target_48.png is a low contrast image\n",
      "  # This is added back by InteractiveShellApp.init_path()\n",
      "Lossy conversion from float64 to uint8. Range [0, 1]. Convert image to uint8 prior to saving to suppress this warning.\n",
      "Lossy conversion from float64 to uint8. Range [0.0, 2.0814369586406203]. Convert image to uint8 prior to saving to suppress this warning.\n",
      "c:\\users\\adrian\\desktop\\kandidatarbete\\deeptrack\\lib\\site-packages\\ipykernel_launcher.py:11: UserWarning: data/particles/train/targets\\target_49.png is a low contrast image\n",
      "  # This is added back by InteractiveShellApp.init_path()\n",
      "Lossy conversion from float64 to uint8. Range [0, 1]. Convert image to uint8 prior to saving to suppress this warning.\n",
      "Lossy conversion from float64 to uint8. Range [0.0, 1.8729595567456259]. Convert image to uint8 prior to saving to suppress this warning.\n",
      "Lossy conversion from float64 to uint8. Range [0, 1]. Convert image to uint8 prior to saving to suppress this warning.\n",
      "Lossy conversion from float64 to uint8. Range [0.0, 1.6398344063259935]. Convert image to uint8 prior to saving to suppress this warning.\n",
      "c:\\users\\adrian\\desktop\\kandidatarbete\\deeptrack\\lib\\site-packages\\ipykernel_launcher.py:11: UserWarning: data/particles/train/targets\\target_51.png is a low contrast image\n",
      "  # This is added back by InteractiveShellApp.init_path()\n",
      "Lossy conversion from float64 to uint8. Range [0, 1]. Convert image to uint8 prior to saving to suppress this warning.\n",
      "Lossy conversion from float64 to uint8. Range [0.0, 1.2981971671596242]. Convert image to uint8 prior to saving to suppress this warning.\n",
      "c:\\users\\adrian\\desktop\\kandidatarbete\\deeptrack\\lib\\site-packages\\ipykernel_launcher.py:11: UserWarning: data/particles/train/targets\\target_52.png is a low contrast image\n",
      "  # This is added back by InteractiveShellApp.init_path()\n",
      "Lossy conversion from float64 to uint8. Range [0, 1]. Convert image to uint8 prior to saving to suppress this warning.\n",
      "Lossy conversion from float64 to uint8. Range [0.0, 1.320411820171587]. Convert image to uint8 prior to saving to suppress this warning.\n",
      "c:\\users\\adrian\\desktop\\kandidatarbete\\deeptrack\\lib\\site-packages\\ipykernel_launcher.py:11: UserWarning: data/particles/train/targets\\target_53.png is a low contrast image\n",
      "  # This is added back by InteractiveShellApp.init_path()\n",
      "Lossy conversion from float64 to uint8. Range [0, 1]. Convert image to uint8 prior to saving to suppress this warning.\n",
      "Lossy conversion from float64 to uint8. Range [0.0, 2.110977345921461]. Convert image to uint8 prior to saving to suppress this warning.\n",
      "c:\\users\\adrian\\desktop\\kandidatarbete\\deeptrack\\lib\\site-packages\\ipykernel_launcher.py:11: UserWarning: data/particles/train/targets\\target_54.png is a low contrast image\n",
      "  # This is added back by InteractiveShellApp.init_path()\n",
      "Lossy conversion from float64 to uint8. Range [0, 1]. Convert image to uint8 prior to saving to suppress this warning.\n",
      "Lossy conversion from float64 to uint8. Range [0.0, 1.7924088826487647]. Convert image to uint8 prior to saving to suppress this warning.\n",
      "c:\\users\\adrian\\desktop\\kandidatarbete\\deeptrack\\lib\\site-packages\\ipykernel_launcher.py:11: UserWarning: data/particles/train/targets\\target_55.png is a low contrast image\n",
      "  # This is added back by InteractiveShellApp.init_path()\n",
      "Lossy conversion from float64 to uint8. Range [0, 1]. Convert image to uint8 prior to saving to suppress this warning.\n",
      "Lossy conversion from float64 to uint8. Range [0.0, 2.027495109551615]. Convert image to uint8 prior to saving to suppress this warning.\n",
      "c:\\users\\adrian\\desktop\\kandidatarbete\\deeptrack\\lib\\site-packages\\ipykernel_launcher.py:11: UserWarning: data/particles/train/targets\\target_56.png is a low contrast image\n",
      "  # This is added back by InteractiveShellApp.init_path()\n",
      "Lossy conversion from float64 to uint8. Range [0, 1]. Convert image to uint8 prior to saving to suppress this warning.\n",
      "Lossy conversion from float64 to uint8. Range [0.0, 1.7212028476744725]. Convert image to uint8 prior to saving to suppress this warning.\n",
      "c:\\users\\adrian\\desktop\\kandidatarbete\\deeptrack\\lib\\site-packages\\ipykernel_launcher.py:11: UserWarning: data/particles/train/targets\\target_57.png is a low contrast image\n",
      "  # This is added back by InteractiveShellApp.init_path()\n",
      "Lossy conversion from float64 to uint8. Range [0, 1]. Convert image to uint8 prior to saving to suppress this warning.\n"
     ]
    },
    {
     "name": "stderr",
     "output_type": "stream",
     "text": [
      "Lossy conversion from float64 to uint8. Range [0.029481388623133462, 1.7688833173880076]. Convert image to uint8 prior to saving to suppress this warning.\n",
      "Lossy conversion from float64 to uint8. Range [0, 1]. Convert image to uint8 prior to saving to suppress this warning.\n",
      "Lossy conversion from float64 to uint8. Range [0.0, 1.2734286923042961]. Convert image to uint8 prior to saving to suppress this warning.\n",
      "c:\\users\\adrian\\desktop\\kandidatarbete\\deeptrack\\lib\\site-packages\\ipykernel_launcher.py:11: UserWarning: data/particles/train/targets\\target_59.png is a low contrast image\n",
      "  # This is added back by InteractiveShellApp.init_path()\n",
      "Lossy conversion from float64 to uint8. Range [0, 1]. Convert image to uint8 prior to saving to suppress this warning.\n",
      "Lossy conversion from float64 to uint8. Range [0.0, 1.6568530436155282]. Convert image to uint8 prior to saving to suppress this warning.\n",
      "c:\\users\\adrian\\desktop\\kandidatarbete\\deeptrack\\lib\\site-packages\\ipykernel_launcher.py:11: UserWarning: data/particles/train/targets\\target_60.png is a low contrast image\n",
      "  # This is added back by InteractiveShellApp.init_path()\n",
      "Lossy conversion from float64 to uint8. Range [0, 1]. Convert image to uint8 prior to saving to suppress this warning.\n",
      "Lossy conversion from float64 to uint8. Range [0.0, 1.6915632134657683]. Convert image to uint8 prior to saving to suppress this warning.\n",
      "c:\\users\\adrian\\desktop\\kandidatarbete\\deeptrack\\lib\\site-packages\\ipykernel_launcher.py:11: UserWarning: data/particles/train/targets\\target_61.png is a low contrast image\n",
      "  # This is added back by InteractiveShellApp.init_path()\n",
      "Lossy conversion from float64 to uint8. Range [0, 1]. Convert image to uint8 prior to saving to suppress this warning.\n",
      "Lossy conversion from float64 to uint8. Range [0.0, 1.656018059658192]. Convert image to uint8 prior to saving to suppress this warning.\n",
      "Lossy conversion from float64 to uint8. Range [0, 1]. Convert image to uint8 prior to saving to suppress this warning.\n",
      "Lossy conversion from float64 to uint8. Range [0.0, 1.6210336530065643]. Convert image to uint8 prior to saving to suppress this warning.\n",
      "c:\\users\\adrian\\desktop\\kandidatarbete\\deeptrack\\lib\\site-packages\\ipykernel_launcher.py:11: UserWarning: data/particles/train/targets\\target_63.png is a low contrast image\n",
      "  # This is added back by InteractiveShellApp.init_path()\n",
      "Lossy conversion from float64 to uint8. Range [0, 1]. Convert image to uint8 prior to saving to suppress this warning.\n",
      "Lossy conversion from float64 to uint8. Range [0.0, 1.7533796759574845]. Convert image to uint8 prior to saving to suppress this warning.\n",
      "Lossy conversion from float64 to uint8. Range [0, 1]. Convert image to uint8 prior to saving to suppress this warning.\n",
      "Lossy conversion from float64 to uint8. Range [0.0, 1.5465828547554348]. Convert image to uint8 prior to saving to suppress this warning.\n",
      "c:\\users\\adrian\\desktop\\kandidatarbete\\deeptrack\\lib\\site-packages\\ipykernel_launcher.py:11: UserWarning: data/particles/train/targets\\target_65.png is a low contrast image\n",
      "  # This is added back by InteractiveShellApp.init_path()\n",
      "Lossy conversion from float64 to uint8. Range [0, 1]. Convert image to uint8 prior to saving to suppress this warning.\n",
      "Lossy conversion from float64 to uint8. Range [0.0, 1.7424074419511764]. Convert image to uint8 prior to saving to suppress this warning.\n",
      "c:\\users\\adrian\\desktop\\kandidatarbete\\deeptrack\\lib\\site-packages\\ipykernel_launcher.py:11: UserWarning: data/particles/train/targets\\target_66.png is a low contrast image\n",
      "  # This is added back by InteractiveShellApp.init_path()\n",
      "Lossy conversion from float64 to uint8. Range [0, 1]. Convert image to uint8 prior to saving to suppress this warning.\n",
      "Lossy conversion from float64 to uint8. Range [0.0, 1.4194947881858735]. Convert image to uint8 prior to saving to suppress this warning.\n",
      "c:\\users\\adrian\\desktop\\kandidatarbete\\deeptrack\\lib\\site-packages\\ipykernel_launcher.py:11: UserWarning: data/particles/train/targets\\target_67.png is a low contrast image\n",
      "  # This is added back by InteractiveShellApp.init_path()\n",
      "Lossy conversion from float64 to uint8. Range [0, 1]. Convert image to uint8 prior to saving to suppress this warning.\n",
      "Lossy conversion from float64 to uint8. Range [0.0, 1.995736566379225]. Convert image to uint8 prior to saving to suppress this warning.\n",
      "c:\\users\\adrian\\desktop\\kandidatarbete\\deeptrack\\lib\\site-packages\\ipykernel_launcher.py:11: UserWarning: data/particles/train/targets\\target_68.png is a low contrast image\n",
      "  # This is added back by InteractiveShellApp.init_path()\n",
      "Lossy conversion from float64 to uint8. Range [0, 1]. Convert image to uint8 prior to saving to suppress this warning.\n",
      "Lossy conversion from float64 to uint8. Range [0.0, 1.804426298774623]. Convert image to uint8 prior to saving to suppress this warning.\n",
      "Lossy conversion from float64 to uint8. Range [0, 1]. Convert image to uint8 prior to saving to suppress this warning.\n",
      "Lossy conversion from float64 to uint8. Range [0.0, 2.0464180167265846]. Convert image to uint8 prior to saving to suppress this warning.\n",
      "c:\\users\\adrian\\desktop\\kandidatarbete\\deeptrack\\lib\\site-packages\\ipykernel_launcher.py:11: UserWarning: data/particles/train/targets\\target_70.png is a low contrast image\n",
      "  # This is added back by InteractiveShellApp.init_path()\n",
      "Lossy conversion from float64 to uint8. Range [0, 1]. Convert image to uint8 prior to saving to suppress this warning.\n",
      "Lossy conversion from float64 to uint8. Range [0.0, 1.5780013272410438]. Convert image to uint8 prior to saving to suppress this warning.\n",
      "c:\\users\\adrian\\desktop\\kandidatarbete\\deeptrack\\lib\\site-packages\\ipykernel_launcher.py:11: UserWarning: data/particles/train/targets\\target_71.png is a low contrast image\n",
      "  # This is added back by InteractiveShellApp.init_path()\n",
      "Lossy conversion from float64 to uint8. Range [0, 1]. Convert image to uint8 prior to saving to suppress this warning.\n",
      "Lossy conversion from float64 to uint8. Range [0.0, 1.5393928974673259]. Convert image to uint8 prior to saving to suppress this warning.\n",
      "Lossy conversion from float64 to uint8. Range [0, 1]. Convert image to uint8 prior to saving to suppress this warning.\n",
      "Lossy conversion from float64 to uint8. Range [0.0, 1.8400173924905414]. Convert image to uint8 prior to saving to suppress this warning.\n",
      "Lossy conversion from float64 to uint8. Range [0, 1]. Convert image to uint8 prior to saving to suppress this warning.\n",
      "Lossy conversion from float64 to uint8. Range [0.0, 1.3609922949549667]. Convert image to uint8 prior to saving to suppress this warning.\n",
      "c:\\users\\adrian\\desktop\\kandidatarbete\\deeptrack\\lib\\site-packages\\ipykernel_launcher.py:11: UserWarning: data/particles/train/targets\\target_74.png is a low contrast image\n",
      "  # This is added back by InteractiveShellApp.init_path()\n",
      "Lossy conversion from float64 to uint8. Range [0, 1]. Convert image to uint8 prior to saving to suppress this warning.\n",
      "Lossy conversion from float64 to uint8. Range [0.0, 1.5919631948822537]. Convert image to uint8 prior to saving to suppress this warning.\n",
      "c:\\users\\adrian\\desktop\\kandidatarbete\\deeptrack\\lib\\site-packages\\ipykernel_launcher.py:11: UserWarning: data/particles/train/targets\\target_75.png is a low contrast image\n",
      "  # This is added back by InteractiveShellApp.init_path()\n",
      "Lossy conversion from float64 to uint8. Range [0, 1]. Convert image to uint8 prior to saving to suppress this warning.\n",
      "Lossy conversion from float64 to uint8. Range [0.0, 1.7549424125611326]. Convert image to uint8 prior to saving to suppress this warning.\n",
      "c:\\users\\adrian\\desktop\\kandidatarbete\\deeptrack\\lib\\site-packages\\ipykernel_launcher.py:11: UserWarning: data/particles/train/targets\\target_76.png is a low contrast image\n",
      "  # This is added back by InteractiveShellApp.init_path()\n",
      "Lossy conversion from float64 to uint8. Range [0, 1]. Convert image to uint8 prior to saving to suppress this warning.\n",
      "Lossy conversion from float64 to uint8. Range [0.0, 2.0289884750397875]. Convert image to uint8 prior to saving to suppress this warning.\n",
      "Lossy conversion from float64 to uint8. Range [0, 1]. Convert image to uint8 prior to saving to suppress this warning.\n",
      "Lossy conversion from float64 to uint8. Range [0.0, 1.5393304003450756]. Convert image to uint8 prior to saving to suppress this warning.\n"
     ]
    },
    {
     "name": "stderr",
     "output_type": "stream",
     "text": [
      "c:\\users\\adrian\\desktop\\kandidatarbete\\deeptrack\\lib\\site-packages\\ipykernel_launcher.py:11: UserWarning: data/particles/train/targets\\target_78.png is a low contrast image\n",
      "  # This is added back by InteractiveShellApp.init_path()\n",
      "Lossy conversion from float64 to uint8. Range [0, 1]. Convert image to uint8 prior to saving to suppress this warning.\n",
      "Lossy conversion from float64 to uint8. Range [0.0, 1.7518677832983744]. Convert image to uint8 prior to saving to suppress this warning.\n",
      "c:\\users\\adrian\\desktop\\kandidatarbete\\deeptrack\\lib\\site-packages\\ipykernel_launcher.py:11: UserWarning: data/particles/train/targets\\target_79.png is a low contrast image\n",
      "  # This is added back by InteractiveShellApp.init_path()\n",
      "Lossy conversion from float64 to uint8. Range [0, 1]. Convert image to uint8 prior to saving to suppress this warning.\n",
      "Lossy conversion from float64 to uint8. Range [0.0, 1.7851762913335525]. Convert image to uint8 prior to saving to suppress this warning.\n",
      "c:\\users\\adrian\\desktop\\kandidatarbete\\deeptrack\\lib\\site-packages\\ipykernel_launcher.py:11: UserWarning: data/particles/train/targets\\target_80.png is a low contrast image\n",
      "  # This is added back by InteractiveShellApp.init_path()\n",
      "Lossy conversion from float64 to uint8. Range [0, 1]. Convert image to uint8 prior to saving to suppress this warning.\n",
      "Lossy conversion from float64 to uint8. Range [0.0, 1.721094186514936]. Convert image to uint8 prior to saving to suppress this warning.\n",
      "c:\\users\\adrian\\desktop\\kandidatarbete\\deeptrack\\lib\\site-packages\\ipykernel_launcher.py:11: UserWarning: data/particles/train/targets\\target_81.png is a low contrast image\n",
      "  # This is added back by InteractiveShellApp.init_path()\n",
      "Lossy conversion from float64 to uint8. Range [0, 1]. Convert image to uint8 prior to saving to suppress this warning.\n",
      "Lossy conversion from float64 to uint8. Range [0.0, 1.5929978867603685]. Convert image to uint8 prior to saving to suppress this warning.\n",
      "c:\\users\\adrian\\desktop\\kandidatarbete\\deeptrack\\lib\\site-packages\\ipykernel_launcher.py:11: UserWarning: data/particles/train/targets\\target_82.png is a low contrast image\n",
      "  # This is added back by InteractiveShellApp.init_path()\n",
      "Lossy conversion from float64 to uint8. Range [0, 1]. Convert image to uint8 prior to saving to suppress this warning.\n",
      "Lossy conversion from float64 to uint8. Range [0.0, 1.4246147239751108]. Convert image to uint8 prior to saving to suppress this warning.\n",
      "c:\\users\\adrian\\desktop\\kandidatarbete\\deeptrack\\lib\\site-packages\\ipykernel_launcher.py:11: UserWarning: data/particles/train/targets\\target_83.png is a low contrast image\n",
      "  # This is added back by InteractiveShellApp.init_path()\n",
      "Lossy conversion from float64 to uint8. Range [0, 1]. Convert image to uint8 prior to saving to suppress this warning.\n",
      "Lossy conversion from float64 to uint8. Range [0.0, 1.5592456942712134]. Convert image to uint8 prior to saving to suppress this warning.\n",
      "c:\\users\\adrian\\desktop\\kandidatarbete\\deeptrack\\lib\\site-packages\\ipykernel_launcher.py:11: UserWarning: data/particles/train/targets\\target_84.png is a low contrast image\n",
      "  # This is added back by InteractiveShellApp.init_path()\n",
      "Lossy conversion from float64 to uint8. Range [0, 1]. Convert image to uint8 prior to saving to suppress this warning.\n",
      "Lossy conversion from float64 to uint8. Range [0.0, 1.7112628145772766]. Convert image to uint8 prior to saving to suppress this warning.\n",
      "c:\\users\\adrian\\desktop\\kandidatarbete\\deeptrack\\lib\\site-packages\\ipykernel_launcher.py:11: UserWarning: data/particles/train/targets\\target_85.png is a low contrast image\n",
      "  # This is added back by InteractiveShellApp.init_path()\n",
      "Lossy conversion from float64 to uint8. Range [0, 1]. Convert image to uint8 prior to saving to suppress this warning.\n",
      "Lossy conversion from float64 to uint8. Range [0.0, 1.95621838668951]. Convert image to uint8 prior to saving to suppress this warning.\n",
      "c:\\users\\adrian\\desktop\\kandidatarbete\\deeptrack\\lib\\site-packages\\ipykernel_launcher.py:11: UserWarning: data/particles/train/targets\\target_86.png is a low contrast image\n",
      "  # This is added back by InteractiveShellApp.init_path()\n",
      "Lossy conversion from float64 to uint8. Range [0, 1]. Convert image to uint8 prior to saving to suppress this warning.\n",
      "Lossy conversion from float64 to uint8. Range [0.0, 1.9471742167533372]. Convert image to uint8 prior to saving to suppress this warning.\n",
      "c:\\users\\adrian\\desktop\\kandidatarbete\\deeptrack\\lib\\site-packages\\ipykernel_launcher.py:11: UserWarning: data/particles/train/targets\\target_87.png is a low contrast image\n",
      "  # This is added back by InteractiveShellApp.init_path()\n",
      "Lossy conversion from float64 to uint8. Range [0, 1]. Convert image to uint8 prior to saving to suppress this warning.\n",
      "Lossy conversion from float64 to uint8. Range [0.0, 1.549052808010052]. Convert image to uint8 prior to saving to suppress this warning.\n",
      "c:\\users\\adrian\\desktop\\kandidatarbete\\deeptrack\\lib\\site-packages\\ipykernel_launcher.py:11: UserWarning: data/particles/train/targets\\target_88.png is a low contrast image\n",
      "  # This is added back by InteractiveShellApp.init_path()\n",
      "Lossy conversion from float64 to uint8. Range [0, 1]. Convert image to uint8 prior to saving to suppress this warning.\n",
      "Lossy conversion from float64 to uint8. Range [0.0, 1.9862840800133923]. Convert image to uint8 prior to saving to suppress this warning.\n",
      "Lossy conversion from float64 to uint8. Range [0, 1]. Convert image to uint8 prior to saving to suppress this warning.\n",
      "Lossy conversion from float64 to uint8. Range [0.0, 1.5996623002120538]. Convert image to uint8 prior to saving to suppress this warning.\n",
      "Lossy conversion from float64 to uint8. Range [0, 1]. Convert image to uint8 prior to saving to suppress this warning.\n",
      "Lossy conversion from float64 to uint8. Range [0.0, 1.8501167943742345]. Convert image to uint8 prior to saving to suppress this warning.\n",
      "c:\\users\\adrian\\desktop\\kandidatarbete\\deeptrack\\lib\\site-packages\\ipykernel_launcher.py:11: UserWarning: data/particles/train/targets\\target_91.png is a low contrast image\n",
      "  # This is added back by InteractiveShellApp.init_path()\n",
      "Lossy conversion from float64 to uint8. Range [0, 1]. Convert image to uint8 prior to saving to suppress this warning.\n",
      "Lossy conversion from float64 to uint8. Range [0.0, 1.939404868314007]. Convert image to uint8 prior to saving to suppress this warning.\n",
      "c:\\users\\adrian\\desktop\\kandidatarbete\\deeptrack\\lib\\site-packages\\ipykernel_launcher.py:11: UserWarning: data/particles/train/targets\\target_92.png is a low contrast image\n",
      "  # This is added back by InteractiveShellApp.init_path()\n",
      "Lossy conversion from float64 to uint8. Range [0, 1]. Convert image to uint8 prior to saving to suppress this warning.\n",
      "Lossy conversion from float64 to uint8. Range [0.0, 1.2983917612129428]. Convert image to uint8 prior to saving to suppress this warning.\n",
      "c:\\users\\adrian\\desktop\\kandidatarbete\\deeptrack\\lib\\site-packages\\ipykernel_launcher.py:11: UserWarning: data/particles/train/targets\\target_93.png is a low contrast image\n",
      "  # This is added back by InteractiveShellApp.init_path()\n",
      "Lossy conversion from float64 to uint8. Range [0, 1]. Convert image to uint8 prior to saving to suppress this warning.\n",
      "Lossy conversion from float64 to uint8. Range [0.0, 1.600088400316371]. Convert image to uint8 prior to saving to suppress this warning.\n",
      "c:\\users\\adrian\\desktop\\kandidatarbete\\deeptrack\\lib\\site-packages\\ipykernel_launcher.py:11: UserWarning: data/particles/train/targets\\target_94.png is a low contrast image\n",
      "  # This is added back by InteractiveShellApp.init_path()\n",
      "Lossy conversion from float64 to uint8. Range [0, 1]. Convert image to uint8 prior to saving to suppress this warning.\n",
      "Lossy conversion from float64 to uint8. Range [0.0, 1.4732046891578319]. Convert image to uint8 prior to saving to suppress this warning.\n",
      "c:\\users\\adrian\\desktop\\kandidatarbete\\deeptrack\\lib\\site-packages\\ipykernel_launcher.py:11: UserWarning: data/particles/train/targets\\target_95.png is a low contrast image\n",
      "  # This is added back by InteractiveShellApp.init_path()\n",
      "Lossy conversion from float64 to uint8. Range [0, 1]. Convert image to uint8 prior to saving to suppress this warning.\n",
      "Lossy conversion from float64 to uint8. Range [0.0, 1.57799213149213]. Convert image to uint8 prior to saving to suppress this warning.\n"
     ]
    },
    {
     "name": "stderr",
     "output_type": "stream",
     "text": [
      "c:\\users\\adrian\\desktop\\kandidatarbete\\deeptrack\\lib\\site-packages\\ipykernel_launcher.py:11: UserWarning: data/particles/train/targets\\target_96.png is a low contrast image\n",
      "  # This is added back by InteractiveShellApp.init_path()\n",
      "Lossy conversion from float64 to uint8. Range [0, 1]. Convert image to uint8 prior to saving to suppress this warning.\n",
      "Lossy conversion from float64 to uint8. Range [0.0, 1.7108845365856113]. Convert image to uint8 prior to saving to suppress this warning.\n",
      "c:\\users\\adrian\\desktop\\kandidatarbete\\deeptrack\\lib\\site-packages\\ipykernel_launcher.py:11: UserWarning: data/particles/train/targets\\target_97.png is a low contrast image\n",
      "  # This is added back by InteractiveShellApp.init_path()\n",
      "Lossy conversion from float64 to uint8. Range [0, 1]. Convert image to uint8 prior to saving to suppress this warning.\n",
      "Lossy conversion from float64 to uint8. Range [0.0, 1.9253086866376103]. Convert image to uint8 prior to saving to suppress this warning.\n",
      "c:\\users\\adrian\\desktop\\kandidatarbete\\deeptrack\\lib\\site-packages\\ipykernel_launcher.py:11: UserWarning: data/particles/train/targets\\target_98.png is a low contrast image\n",
      "  # This is added back by InteractiveShellApp.init_path()\n",
      "Lossy conversion from float64 to uint8. Range [0, 1]. Convert image to uint8 prior to saving to suppress this warning.\n",
      "Lossy conversion from float64 to uint8. Range [0.0, 1.590789332485493]. Convert image to uint8 prior to saving to suppress this warning.\n",
      "c:\\users\\adrian\\desktop\\kandidatarbete\\deeptrack\\lib\\site-packages\\ipykernel_launcher.py:11: UserWarning: data/particles/train/targets\\target_99.png is a low contrast image\n",
      "  # This is added back by InteractiveShellApp.init_path()\n",
      "Lossy conversion from float64 to uint8. Range [0, 1]. Convert image to uint8 prior to saving to suppress this warning.\n"
     ]
    }
   ],
   "source": [
    "#Generate sample images\n",
    "from numpy import reshape\n",
    "\n",
    "image_parameters = lambda : DT_dev.get_image_parameters_optimized()\n",
    "img_generator = lambda : DT_dev.get_image_generator(image_parameters)\n",
    "            \n",
    "for image_number, image, image_parameters, target in img_generator():\n",
    "    if image_number>99:\n",
    "        break        \n",
    "    io.imsave(os.path.join('data/particles/train/images',\"particle_%d.png\"%image_number),image[0:512,0:512])\n",
    "    io.imsave(os.path.join('data/particles/train/targets',\"target_%d.png\"%image_number),target[0:512,0:512])\n",
    " "
   ]
  },
  {
   "cell_type": "code",
   "execution_count": 24,
   "metadata": {
    "scrolled": true
   },
   "outputs": [
    {
     "name": "stdout",
     "output_type": "stream",
     "text": [
      "Found 30 images belonging to 1 classes.\n",
      "Found 30 images belonging to 1 classes.\n"
     ]
    },
    {
     "name": "stderr",
     "output_type": "stream",
     "text": [
      "Lossy conversion from float32 to uint8. Range [0, 1]. Convert image to uint8 prior to saving to suppress this warning.\n",
      "c:\\users\\adrian\\desktop\\kandidatarbete\\deeptrack\\lib\\site-packages\\ipykernel_launcher.py:18: UserWarning: data/particles/train/aug\\target_aug_0.png is a low contrast image\n",
      "Lossy conversion from float32 to uint8. Range [0, 1]. Convert image to uint8 prior to saving to suppress this warning.\n",
      "Lossy conversion from float32 to uint8. Range [0, 1]. Convert image to uint8 prior to saving to suppress this warning.\n",
      "c:\\users\\adrian\\desktop\\kandidatarbete\\deeptrack\\lib\\site-packages\\ipykernel_launcher.py:18: UserWarning: data/particles/train/aug\\target_aug_1.png is a low contrast image\n",
      "Lossy conversion from float32 to uint8. Range [0, 1]. Convert image to uint8 prior to saving to suppress this warning.\n",
      "Lossy conversion from float32 to uint8. Range [0, 1]. Convert image to uint8 prior to saving to suppress this warning.\n",
      "c:\\users\\adrian\\desktop\\kandidatarbete\\deeptrack\\lib\\site-packages\\ipykernel_launcher.py:18: UserWarning: data/particles/train/aug\\target_aug_2.png is a low contrast image\n",
      "Lossy conversion from float32 to uint8. Range [0, 1]. Convert image to uint8 prior to saving to suppress this warning.\n",
      "Lossy conversion from float32 to uint8. Range [0, 1]. Convert image to uint8 prior to saving to suppress this warning.\n",
      "c:\\users\\adrian\\desktop\\kandidatarbete\\deeptrack\\lib\\site-packages\\ipykernel_launcher.py:18: UserWarning: data/particles/train/aug\\target_aug_3.png is a low contrast image\n",
      "Lossy conversion from float32 to uint8. Range [0, 1]. Convert image to uint8 prior to saving to suppress this warning.\n",
      "Lossy conversion from float32 to uint8. Range [0, 1]. Convert image to uint8 prior to saving to suppress this warning.\n",
      "c:\\users\\adrian\\desktop\\kandidatarbete\\deeptrack\\lib\\site-packages\\ipykernel_launcher.py:18: UserWarning: data/particles/train/aug\\target_aug_4.png is a low contrast image\n",
      "Lossy conversion from float32 to uint8. Range [0, 1]. Convert image to uint8 prior to saving to suppress this warning.\n"
     ]
    },
    {
     "name": "stdout",
     "output_type": "stream",
     "text": [
      "(256, 256)\n",
      "(256, 256)\n",
      "(256, 256)\n",
      "(256, 256)\n",
      "(256, 256)\n"
     ]
    },
    {
     "name": "stderr",
     "output_type": "stream",
     "text": [
      "Lossy conversion from float32 to uint8. Range [0, 1]. Convert image to uint8 prior to saving to suppress this warning.\n",
      "c:\\users\\adrian\\desktop\\kandidatarbete\\deeptrack\\lib\\site-packages\\ipykernel_launcher.py:18: UserWarning: data/particles/train/aug\\target_aug_5.png is a low contrast image\n",
      "Lossy conversion from float32 to uint8. Range [0, 1]. Convert image to uint8 prior to saving to suppress this warning.\n"
     ]
    },
    {
     "name": "stdout",
     "output_type": "stream",
     "text": [
      "(256, 256)\n"
     ]
    }
   ],
   "source": [
    "data_gen_args = dict(rotation_range=0.2,\n",
    "                    width_shift_range=0.05,\n",
    "                    height_shift_range=0.05,\n",
    "                    shear_range=0.05,\n",
    "                    zoom_range=0.05,\n",
    "                    horizontal_flip=True,\n",
    "                    fill_mode='nearest')\n",
    "myGene = trainGenerator(2,'data/particles/train','images','targets',data_gen_args)\n",
    "\n",
    "#For svaing augmented images\n",
    "#i=0\n",
    "#for (img, mask) in myGene:\n",
    "#    if i>5:\n",
    "#        break        \n",
    "#    img = img.reshape((256,256))\n",
    "#    mask = mask.reshape((256,256))\n",
    "#    print(img.shape)\n",
    "#    io.imsave(os.path.join('data/particles/train/aug',\"particle_aug_%d.png\"%i),img)\n",
    "#    io.imsave(os.path.join('data/particles/train/aug',\"target_aug_%d.png\"%i),mask)  \n",
    "#    i=i+1\n",
    "    \n",
    "model = unet()\n",
    "model_checkpoint = ModelCheckpoint('unet_particle.hdf5', monitor='loss',verbose=1, save_best_only=True)\n",
    "model.fit_generator(myGene,steps_per_epoch=2000,epochs=1,callbacks=[model_checkpoint])"
   ]
  },
  {
   "cell_type": "markdown",
   "metadata": {},
   "source": [
    "### Train with npy file"
   ]
  },
  {
   "cell_type": "code",
   "execution_count": null,
   "metadata": {},
   "outputs": [],
   "source": [
    "#imgs_train,imgs_mask_train = geneTrainNpy(\"data/membrane/train/aug/\",\"data/membrane/train/aug/\")\n",
    "#model.fit(imgs_train, imgs_mask_train, batch_size=2, nb_epoch=10, verbose=1,validation_split=0.2, shuffle=True, callbacks=[model_checkpoint])\n"
   ]
  },
  {
   "cell_type": "markdown",
   "metadata": {},
   "source": [
    "### test your model and save predicted results"
   ]
  },
  {
   "cell_type": "code",
   "execution_count": 9,
   "metadata": {},
   "outputs": [
    {
     "name": "stderr",
     "output_type": "stream",
     "text": [
      "Lossy conversion from float64 to uint8. Range [0.0, 2.1213340994787018]. Convert image to uint8 prior to saving to suppress this warning.\n",
      "c:\\users\\adrian\\desktop\\kandidatarbete\\deeptrack\\lib\\site-packages\\ipykernel_launcher.py:13: UserWarning: data/particles/predict\\target_0.png is a low contrast image\n",
      "  del sys.path[0]\n",
      "Lossy conversion from float64 to uint8. Range [0, 1]. Convert image to uint8 prior to saving to suppress this warning.\n"
     ]
    },
    {
     "name": "stdout",
     "output_type": "stream",
     "text": [
      "\r",
      " 1/30 [>.............................] - ETA: 2:43"
     ]
    },
    {
     "name": "stderr",
     "output_type": "stream",
     "text": [
      "Lossy conversion from float64 to uint8. Range [0.0, 1.6508898754724384]. Convert image to uint8 prior to saving to suppress this warning.\n",
      "c:\\users\\adrian\\desktop\\kandidatarbete\\deeptrack\\lib\\site-packages\\ipykernel_launcher.py:13: UserWarning: data/particles/predict\\target_1.png is a low contrast image\n",
      "  del sys.path[0]\n",
      "Lossy conversion from float64 to uint8. Range [0, 1]. Convert image to uint8 prior to saving to suppress this warning.\n"
     ]
    },
    {
     "name": "stdout",
     "output_type": "stream",
     "text": [
      "\b\b\b\b\b\b\b\b\b\b\b\b\b\b\b\b\b\b\b\b\b\b\b\b\b\b\b\b\b\b\b\b\b\b\b\b\b\b\b\b\b\b\b\b\b\b\b\b\b\b\r",
      " 2/30 [=>............................] - ETA: 2:08"
     ]
    },
    {
     "name": "stderr",
     "output_type": "stream",
     "text": [
      "Lossy conversion from float64 to uint8. Range [0.0, 1.4458935217162907]. Convert image to uint8 prior to saving to suppress this warning.\n",
      "c:\\users\\adrian\\desktop\\kandidatarbete\\deeptrack\\lib\\site-packages\\ipykernel_launcher.py:13: UserWarning: data/particles/predict\\target_2.png is a low contrast image\n",
      "  del sys.path[0]\n",
      "Lossy conversion from float64 to uint8. Range [0, 1]. Convert image to uint8 prior to saving to suppress this warning.\n"
     ]
    },
    {
     "name": "stdout",
     "output_type": "stream",
     "text": [
      "\b\b\b\b\b\b\b\b\b\b\b\b\b\b\b\b\b\b\b\b\b\b\b\b\b\b\b\b\b\b\b\b\b\b\b\b\b\b\b\b\b\b\b\b\b\b\b\b\b\b\r",
      " 3/30 [==>...........................] - ETA: 1:52"
     ]
    },
    {
     "name": "stderr",
     "output_type": "stream",
     "text": [
      "Lossy conversion from float64 to uint8. Range [0.0, 1.8244125210740534]. Convert image to uint8 prior to saving to suppress this warning.\n",
      "c:\\users\\adrian\\desktop\\kandidatarbete\\deeptrack\\lib\\site-packages\\ipykernel_launcher.py:13: UserWarning: data/particles/predict\\target_3.png is a low contrast image\n",
      "  del sys.path[0]\n",
      "Lossy conversion from float64 to uint8. Range [0, 1]. Convert image to uint8 prior to saving to suppress this warning.\n"
     ]
    },
    {
     "name": "stdout",
     "output_type": "stream",
     "text": [
      "\b\b\b\b\b\b\b\b\b\b\b\b\b\b\b\b\b\b\b\b\b\b\b\b\b\b\b\b\b\b\b\b\b\b\b\b\b\b\b\b\b\b\b\b\b\b\b\b\b\b\r",
      " 4/30 [===>..........................] - ETA: 2:00"
     ]
    },
    {
     "name": "stderr",
     "output_type": "stream",
     "text": [
      "Lossy conversion from float64 to uint8. Range [0.0, 1.6938946550521365]. Convert image to uint8 prior to saving to suppress this warning.\n",
      "c:\\users\\adrian\\desktop\\kandidatarbete\\deeptrack\\lib\\site-packages\\ipykernel_launcher.py:13: UserWarning: data/particles/predict\\target_4.png is a low contrast image\n",
      "  del sys.path[0]\n",
      "Lossy conversion from float64 to uint8. Range [0, 1]. Convert image to uint8 prior to saving to suppress this warning.\n"
     ]
    },
    {
     "name": "stdout",
     "output_type": "stream",
     "text": [
      "\b\b\b\b\b\b\b\b\b\b\b\b\b\b\b\b\b\b\b\b\b\b\b\b\b\b\b\b\b\b\b\b\b\b\b\b\b\b\b\b\b\b\b\b\b\b\b\b\b\b\r",
      " 5/30 [====>.........................] - ETA: 1:55"
     ]
    },
    {
     "name": "stderr",
     "output_type": "stream",
     "text": [
      "Lossy conversion from float64 to uint8. Range [0.0, 1.6110391786867795]. Convert image to uint8 prior to saving to suppress this warning.\n",
      "c:\\users\\adrian\\desktop\\kandidatarbete\\deeptrack\\lib\\site-packages\\ipykernel_launcher.py:13: UserWarning: data/particles/predict\\target_5.png is a low contrast image\n",
      "  del sys.path[0]\n",
      "Lossy conversion from float64 to uint8. Range [0, 1]. Convert image to uint8 prior to saving to suppress this warning.\n"
     ]
    },
    {
     "name": "stdout",
     "output_type": "stream",
     "text": [
      "\b\b\b\b\b\b\b\b\b\b\b\b\b\b\b\b\b\b\b\b\b\b\b\b\b\b\b\b\b\b\b\b\b\b\b\b\b\b\b\b\b\b\b\b\b\b\b\b\b\b\r",
      " 6/30 [=====>........................] - ETA: 1:45"
     ]
    },
    {
     "name": "stderr",
     "output_type": "stream",
     "text": [
      "Lossy conversion from float64 to uint8. Range [0.0, 1.8307476822116526]. Convert image to uint8 prior to saving to suppress this warning.\n",
      "c:\\users\\adrian\\desktop\\kandidatarbete\\deeptrack\\lib\\site-packages\\ipykernel_launcher.py:13: UserWarning: data/particles/predict\\target_6.png is a low contrast image\n",
      "  del sys.path[0]\n",
      "Lossy conversion from float64 to uint8. Range [0, 1]. Convert image to uint8 prior to saving to suppress this warning.\n"
     ]
    },
    {
     "name": "stdout",
     "output_type": "stream",
     "text": [
      "\b\b\b\b\b\b\b\b\b\b\b\b\b\b\b\b\b\b\b\b\b\b\b\b\b\b\b\b\b\b\b\b\b\b\b\b\b\b\b\b\b\b\b\b\b\b\b\b\b\b\r",
      " 7/30 [======>.......................] - ETA: 1:34"
     ]
    },
    {
     "name": "stderr",
     "output_type": "stream",
     "text": [
      "Lossy conversion from float64 to uint8. Range [0.0, 1.556721038094668]. Convert image to uint8 prior to saving to suppress this warning.\n",
      "c:\\users\\adrian\\desktop\\kandidatarbete\\deeptrack\\lib\\site-packages\\ipykernel_launcher.py:13: UserWarning: data/particles/predict\\target_7.png is a low contrast image\n",
      "  del sys.path[0]\n",
      "Lossy conversion from float64 to uint8. Range [0, 1]. Convert image to uint8 prior to saving to suppress this warning.\n"
     ]
    },
    {
     "name": "stdout",
     "output_type": "stream",
     "text": [
      "\b\b\b\b\b\b\b\b\b\b\b\b\b\b\b\b\b\b\b\b\b\b\b\b\b\b\b\b\b\b\b\b\b\b\b\b\b\b\b\b\b\b\b\b\b\b\b\b\b\b\r",
      " 8/30 [=======>......................] - ETA: 1:27"
     ]
    },
    {
     "name": "stderr",
     "output_type": "stream",
     "text": [
      "Lossy conversion from float64 to uint8. Range [0.0, 1.171960752000984]. Convert image to uint8 prior to saving to suppress this warning.\n",
      "c:\\users\\adrian\\desktop\\kandidatarbete\\deeptrack\\lib\\site-packages\\ipykernel_launcher.py:13: UserWarning: data/particles/predict\\target_8.png is a low contrast image\n",
      "  del sys.path[0]\n",
      "Lossy conversion from float64 to uint8. Range [0, 1]. Convert image to uint8 prior to saving to suppress this warning.\n"
     ]
    },
    {
     "name": "stdout",
     "output_type": "stream",
     "text": [
      "\b\b\b\b\b\b\b\b\b\b\b\b\b\b\b\b\b\b\b\b\b\b\b\b\b\b\b\b\b\b\b\b\b\b\b\b\b\b\b\b\b\b\b\b\b\b\b\b\b\b\r",
      " 9/30 [========>.....................] - ETA: 1:16"
     ]
    },
    {
     "name": "stderr",
     "output_type": "stream",
     "text": [
      "Lossy conversion from float64 to uint8. Range [0.0, 1.559201259682879]. Convert image to uint8 prior to saving to suppress this warning.\n",
      "c:\\users\\adrian\\desktop\\kandidatarbete\\deeptrack\\lib\\site-packages\\ipykernel_launcher.py:13: UserWarning: data/particles/predict\\target_9.png is a low contrast image\n",
      "  del sys.path[0]\n",
      "Lossy conversion from float64 to uint8. Range [0, 1]. Convert image to uint8 prior to saving to suppress this warning.\n"
     ]
    },
    {
     "name": "stdout",
     "output_type": "stream",
     "text": [
      "\b\b\b\b\b\b\b\b\b\b\b\b\b\b\b\b\b\b\b\b\b\b\b\b\b\b\b\b\b\b\b\b\b\b\b\b\b\b\b\b\b\b\b\b\b\b\b\b\b\b\r",
      "10/30 [=========>....................] - ETA: 1:11"
     ]
    },
    {
     "name": "stderr",
     "output_type": "stream",
     "text": [
      "Lossy conversion from float64 to uint8. Range [0.0, 1.2497895885452308]. Convert image to uint8 prior to saving to suppress this warning.\n",
      "c:\\users\\adrian\\desktop\\kandidatarbete\\deeptrack\\lib\\site-packages\\ipykernel_launcher.py:13: UserWarning: data/particles/predict\\target_10.png is a low contrast image\n",
      "  del sys.path[0]\n",
      "Lossy conversion from float64 to uint8. Range [0, 1]. Convert image to uint8 prior to saving to suppress this warning.\n"
     ]
    },
    {
     "name": "stdout",
     "output_type": "stream",
     "text": [
      "\b\b\b\b\b\b\b\b\b\b\b\b\b\b\b\b\b\b\b\b\b\b\b\b\b\b\b\b\b\b\b\b\b\b\b\b\b\b\b\b\b\b\b\b\b\b\b\b\b\b\r",
      "11/30 [==========>...................] - ETA: 1:03"
     ]
    },
    {
     "name": "stderr",
     "output_type": "stream",
     "text": [
      "Lossy conversion from float64 to uint8. Range [0.0, 1.3835260606579638]. Convert image to uint8 prior to saving to suppress this warning.\n",
      "c:\\users\\adrian\\desktop\\kandidatarbete\\deeptrack\\lib\\site-packages\\ipykernel_launcher.py:13: UserWarning: data/particles/predict\\target_11.png is a low contrast image\n",
      "  del sys.path[0]\n",
      "Lossy conversion from float64 to uint8. Range [0, 1]. Convert image to uint8 prior to saving to suppress this warning.\n"
     ]
    },
    {
     "name": "stdout",
     "output_type": "stream",
     "text": [
      "\b\b\b\b\b\b\b\b\b\b\b\b\b\b\b\b\b\b\b\b\b\b\b\b\b\b\b\b\b\b\b\b\b\b\b\b\b\b\b\b\b\b\b\b\b\b\b\b\b\b\r",
      "12/30 [===========>..................] - ETA: 57s "
     ]
    },
    {
     "name": "stderr",
     "output_type": "stream",
     "text": [
      "Lossy conversion from float64 to uint8. Range [0.0, 1.1787192194743308]. Convert image to uint8 prior to saving to suppress this warning.\n",
      "c:\\users\\adrian\\desktop\\kandidatarbete\\deeptrack\\lib\\site-packages\\ipykernel_launcher.py:13: UserWarning: data/particles/predict\\target_12.png is a low contrast image\n",
      "  del sys.path[0]\n",
      "Lossy conversion from float64 to uint8. Range [0, 1]. Convert image to uint8 prior to saving to suppress this warning.\n"
     ]
    },
    {
     "name": "stdout",
     "output_type": "stream",
     "text": [
      "\b\b\b\b\b\b\b\b\b\b\b\b\b\b\b\b\b\b\b\b\b\b\b\b\b\b\b\b\b\b\b\b\b\b\b\b\b\b\b\b\b\b\b\b\b\b\b\b\b\r",
      "13/30 [============>.................] - ETA: 52s"
     ]
    },
    {
     "name": "stderr",
     "output_type": "stream",
     "text": [
      "Lossy conversion from float64 to uint8. Range [0.0, 1.452137791538331]. Convert image to uint8 prior to saving to suppress this warning.\n",
      "c:\\users\\adrian\\desktop\\kandidatarbete\\deeptrack\\lib\\site-packages\\ipykernel_launcher.py:13: UserWarning: data/particles/predict\\target_13.png is a low contrast image\n",
      "  del sys.path[0]\n",
      "Lossy conversion from float64 to uint8. Range [0, 1]. Convert image to uint8 prior to saving to suppress this warning.\n"
     ]
    },
    {
     "name": "stdout",
     "output_type": "stream",
     "text": [
      "\b\b\b\b\b\b\b\b\b\b\b\b\b\b\b\b\b\b\b\b\b\b\b\b\b\b\b\b\b\b\b\b\b\b\b\b\b\b\b\b\b\b\b\b\b\b\b\b\b\r",
      "14/30 [=============>................] - ETA: 49s"
     ]
    },
    {
     "name": "stderr",
     "output_type": "stream",
     "text": [
      "Lossy conversion from float64 to uint8. Range [0.0, 1.5021544102901352]. Convert image to uint8 prior to saving to suppress this warning.\n",
      "c:\\users\\adrian\\desktop\\kandidatarbete\\deeptrack\\lib\\site-packages\\ipykernel_launcher.py:13: UserWarning: data/particles/predict\\target_14.png is a low contrast image\n",
      "  del sys.path[0]\n",
      "Lossy conversion from float64 to uint8. Range [0, 1]. Convert image to uint8 prior to saving to suppress this warning.\n"
     ]
    },
    {
     "name": "stdout",
     "output_type": "stream",
     "text": [
      "\b\b\b\b\b\b\b\b\b\b\b\b\b\b\b\b\b\b\b\b\b\b\b\b\b\b\b\b\b\b\b\b\b\b\b\b\b\b\b\b\b\b\b\b\b\b\b\b\b\r",
      "15/30 [==============>...............] - ETA: 46s"
     ]
    },
    {
     "name": "stderr",
     "output_type": "stream",
     "text": [
      "Lossy conversion from float64 to uint8. Range [0.0, 1.5301621906635026]. Convert image to uint8 prior to saving to suppress this warning.\n",
      "c:\\users\\adrian\\desktop\\kandidatarbete\\deeptrack\\lib\\site-packages\\ipykernel_launcher.py:13: UserWarning: data/particles/predict\\target_15.png is a low contrast image\n",
      "  del sys.path[0]\n",
      "Lossy conversion from float64 to uint8. Range [0, 1]. Convert image to uint8 prior to saving to suppress this warning.\n"
     ]
    },
    {
     "name": "stdout",
     "output_type": "stream",
     "text": [
      "\b\b\b\b\b\b\b\b\b\b\b\b\b\b\b\b\b\b\b\b\b\b\b\b\b\b\b\b\b\b\b\b\b\b\b\b\b\b\b\b\b\b\b\b\b\b\b\b\b\r",
      "16/30 [===============>..............] - ETA: 44s"
     ]
    },
    {
     "name": "stderr",
     "output_type": "stream",
     "text": [
      "Lossy conversion from float64 to uint8. Range [0.0, 1.6238831918047383]. Convert image to uint8 prior to saving to suppress this warning.\n",
      "c:\\users\\adrian\\desktop\\kandidatarbete\\deeptrack\\lib\\site-packages\\ipykernel_launcher.py:13: UserWarning: data/particles/predict\\target_16.png is a low contrast image\n",
      "  del sys.path[0]\n",
      "Lossy conversion from float64 to uint8. Range [0, 1]. Convert image to uint8 prior to saving to suppress this warning.\n"
     ]
    },
    {
     "name": "stdout",
     "output_type": "stream",
     "text": [
      "\b\b\b\b\b\b\b\b\b\b\b\b\b\b\b\b\b\b\b\b\b\b\b\b\b\b\b\b\b\b\b\b\b\b\b\b\b\b\b\b\b\b\b\b\b\b\b\b\b\r",
      "17/30 [================>.............] - ETA: 42s"
     ]
    },
    {
     "name": "stderr",
     "output_type": "stream",
     "text": [
      "Lossy conversion from float64 to uint8. Range [0.0, 1.759007367215171]. Convert image to uint8 prior to saving to suppress this warning.\n",
      "c:\\users\\adrian\\desktop\\kandidatarbete\\deeptrack\\lib\\site-packages\\ipykernel_launcher.py:13: UserWarning: data/particles/predict\\target_17.png is a low contrast image\n",
      "  del sys.path[0]\n",
      "Lossy conversion from float64 to uint8. Range [0, 1]. Convert image to uint8 prior to saving to suppress this warning.\n"
     ]
    },
    {
     "name": "stdout",
     "output_type": "stream",
     "text": [
      "\b\b\b\b\b\b\b\b\b\b\b\b\b\b\b\b\b\b\b\b\b\b\b\b\b\b\b\b\b\b\b\b\b\b\b\b\b\b\b\b\b\b\b\b\b\b\b\b\b\r",
      "18/30 [=================>............] - ETA: 39s"
     ]
    },
    {
     "name": "stderr",
     "output_type": "stream",
     "text": [
      "Lossy conversion from float64 to uint8. Range [0.03152511125165966, 1.5132053400796637]. Convert image to uint8 prior to saving to suppress this warning.\n",
      "c:\\users\\adrian\\desktop\\kandidatarbete\\deeptrack\\lib\\site-packages\\ipykernel_launcher.py:13: UserWarning: data/particles/predict\\target_18.png is a low contrast image\n",
      "  del sys.path[0]\n",
      "Lossy conversion from float64 to uint8. Range [0, 1]. Convert image to uint8 prior to saving to suppress this warning.\n"
     ]
    },
    {
     "name": "stdout",
     "output_type": "stream",
     "text": [
      "\b\b\b\b\b\b\b\b\b\b\b\b\b\b\b\b\b\b\b\b\b\b\b\b\b\b\b\b\b\b\b\b\b\b\b\b\b\b\b\b\b\b\b\b\b\b\b\b\b\r",
      "19/30 [==================>...........] - ETA: 36s"
     ]
    },
    {
     "name": "stderr",
     "output_type": "stream",
     "text": [
      "Lossy conversion from float64 to uint8. Range [0.0, 1.4504026274097965]. Convert image to uint8 prior to saving to suppress this warning.\n",
      "c:\\users\\adrian\\desktop\\kandidatarbete\\deeptrack\\lib\\site-packages\\ipykernel_launcher.py:13: UserWarning: data/particles/predict\\target_19.png is a low contrast image\n",
      "  del sys.path[0]\n",
      "Lossy conversion from float64 to uint8. Range [0, 1]. Convert image to uint8 prior to saving to suppress this warning.\n"
     ]
    },
    {
     "name": "stdout",
     "output_type": "stream",
     "text": [
      "\b\b\b\b\b\b\b\b\b\b\b\b\b\b\b\b\b\b\b\b\b\b\b\b\b\b\b\b\b\b\b\b\b\b\b\b\b\b\b\b\b\b\b\b\b\b\b\b\b\r",
      "20/30 [===================>..........] - ETA: 33s"
     ]
    },
    {
     "name": "stderr",
     "output_type": "stream",
     "text": [
      "Lossy conversion from float64 to uint8. Range [0.0, 1.4770624595175683]. Convert image to uint8 prior to saving to suppress this warning.\n",
      "c:\\users\\adrian\\desktop\\kandidatarbete\\deeptrack\\lib\\site-packages\\ipykernel_launcher.py:13: UserWarning: data/particles/predict\\target_20.png is a low contrast image\n",
      "  del sys.path[0]\n",
      "Lossy conversion from float64 to uint8. Range [0, 1]. Convert image to uint8 prior to saving to suppress this warning.\n"
     ]
    },
    {
     "name": "stdout",
     "output_type": "stream",
     "text": [
      "\b\b\b\b\b\b\b\b\b\b\b\b\b\b\b\b\b\b\b\b\b\b\b\b\b\b\b\b\b\b\b\b\b\b\b\b\b\b\b\b\b\b\b\b\b\b\b\b\b\r",
      "21/30 [====================>.........] - ETA: 30s"
     ]
    },
    {
     "name": "stderr",
     "output_type": "stream",
     "text": [
      "Lossy conversion from float64 to uint8. Range [0.0, 1.4533135718264403]. Convert image to uint8 prior to saving to suppress this warning.\n",
      "c:\\users\\adrian\\desktop\\kandidatarbete\\deeptrack\\lib\\site-packages\\ipykernel_launcher.py:13: UserWarning: data/particles/predict\\target_21.png is a low contrast image\n",
      "  del sys.path[0]\n",
      "Lossy conversion from float64 to uint8. Range [0, 1]. Convert image to uint8 prior to saving to suppress this warning.\n"
     ]
    },
    {
     "name": "stdout",
     "output_type": "stream",
     "text": [
      "\b\b\b\b\b\b\b\b\b\b\b\b\b\b\b\b\b\b\b\b\b\b\b\b\b\b\b\b\b\b\b\b\b\b\b\b\b\b\b\b\b\b\b\b\b\b\b\b\b\r",
      "22/30 [=====================>........] - ETA: 27s"
     ]
    },
    {
     "name": "stderr",
     "output_type": "stream",
     "text": [
      "Lossy conversion from float64 to uint8. Range [0.0, 1.5086699428412362]. Convert image to uint8 prior to saving to suppress this warning.\n",
      "c:\\users\\adrian\\desktop\\kandidatarbete\\deeptrack\\lib\\site-packages\\ipykernel_launcher.py:13: UserWarning: data/particles/predict\\target_22.png is a low contrast image\n",
      "  del sys.path[0]\n",
      "Lossy conversion from float64 to uint8. Range [0, 1]. Convert image to uint8 prior to saving to suppress this warning.\n"
     ]
    },
    {
     "name": "stdout",
     "output_type": "stream",
     "text": [
      "\b\b\b\b\b\b\b\b\b\b\b\b\b\b\b\b\b\b\b\b\b\b\b\b\b\b\b\b\b\b\b\b\b\b\b\b\b\b\b\b\b\b\b\b\b\b\b\b\b\r",
      "23/30 [======================>.......] - ETA: 24s"
     ]
    },
    {
     "name": "stderr",
     "output_type": "stream",
     "text": [
      "Lossy conversion from float64 to uint8. Range [0.0, 1.363298857081206]. Convert image to uint8 prior to saving to suppress this warning.\n",
      "c:\\users\\adrian\\desktop\\kandidatarbete\\deeptrack\\lib\\site-packages\\ipykernel_launcher.py:13: UserWarning: data/particles/predict\\target_23.png is a low contrast image\n",
      "  del sys.path[0]\n",
      "Lossy conversion from float64 to uint8. Range [0, 1]. Convert image to uint8 prior to saving to suppress this warning.\n"
     ]
    },
    {
     "name": "stdout",
     "output_type": "stream",
     "text": [
      "\b\b\b\b\b\b\b\b\b\b\b\b\b\b\b\b\b\b\b\b\b\b\b\b\b\b\b\b\b\b\b\b\b\b\b\b\b\b\b\b\b\b\b\b\b\b\b\b\b\r",
      "24/30 [=======================>......] - ETA: 20s"
     ]
    },
    {
     "name": "stderr",
     "output_type": "stream",
     "text": [
      "Lossy conversion from float64 to uint8. Range [0.0, 1.5603286098417153]. Convert image to uint8 prior to saving to suppress this warning.\n",
      "c:\\users\\adrian\\desktop\\kandidatarbete\\deeptrack\\lib\\site-packages\\ipykernel_launcher.py:13: UserWarning: data/particles/predict\\target_24.png is a low contrast image\n",
      "  del sys.path[0]\n",
      "Lossy conversion from float64 to uint8. Range [0, 1]. Convert image to uint8 prior to saving to suppress this warning.\n"
     ]
    },
    {
     "name": "stdout",
     "output_type": "stream",
     "text": [
      "\b\b\b\b\b\b\b\b\b\b\b\b\b\b\b\b\b\b\b\b\b\b\b\b\b\b\b\b\b\b\b\b\b\b\b\b\b\b\b\b\b\b\b\b\b\b\b\b\b\r",
      "25/30 [========================>.....] - ETA: 16s"
     ]
    },
    {
     "name": "stderr",
     "output_type": "stream",
     "text": [
      "Lossy conversion from float64 to uint8. Range [0.0, 1.7722872075516967]. Convert image to uint8 prior to saving to suppress this warning.\n",
      "c:\\users\\adrian\\desktop\\kandidatarbete\\deeptrack\\lib\\site-packages\\ipykernel_launcher.py:13: UserWarning: data/particles/predict\\target_25.png is a low contrast image\n",
      "  del sys.path[0]\n",
      "Lossy conversion from float64 to uint8. Range [0, 1]. Convert image to uint8 prior to saving to suppress this warning.\n"
     ]
    },
    {
     "name": "stdout",
     "output_type": "stream",
     "text": [
      "\b\b\b\b\b\b\b\b\b\b\b\b\b\b\b\b\b\b\b\b\b\b\b\b\b\b\b\b\b\b\b\b\b\b\b\b\b\b\b\b\b\b\b\b\b\b\b\b\b\r",
      "26/30 [=========================>....] - ETA: 13s"
     ]
    },
    {
     "name": "stderr",
     "output_type": "stream",
     "text": [
      "Lossy conversion from float64 to uint8. Range [0.0, 1.122700853195674]. Convert image to uint8 prior to saving to suppress this warning.\n",
      "c:\\users\\adrian\\desktop\\kandidatarbete\\deeptrack\\lib\\site-packages\\ipykernel_launcher.py:13: UserWarning: data/particles/predict\\target_26.png is a low contrast image\n",
      "  del sys.path[0]\n",
      "Lossy conversion from float64 to uint8. Range [0, 1]. Convert image to uint8 prior to saving to suppress this warning.\n"
     ]
    },
    {
     "name": "stdout",
     "output_type": "stream",
     "text": [
      "\b\b\b\b\b\b\b\b\b\b\b\b\b\b\b\b\b\b\b\b\b\b\b\b\b\b\b\b\b\b\b\b\b\b\b\b\b\b\b\b\b\b\b\b\b\b\b\b\b\r",
      "27/30 [==========================>...] - ETA: 9s "
     ]
    },
    {
     "name": "stderr",
     "output_type": "stream",
     "text": [
      "Lossy conversion from float64 to uint8. Range [0.0, 1.635444894319766]. Convert image to uint8 prior to saving to suppress this warning.\n",
      "c:\\users\\adrian\\desktop\\kandidatarbete\\deeptrack\\lib\\site-packages\\ipykernel_launcher.py:13: UserWarning: data/particles/predict\\target_27.png is a low contrast image\n",
      "  del sys.path[0]\n",
      "Lossy conversion from float64 to uint8. Range [0, 1]. Convert image to uint8 prior to saving to suppress this warning.\n"
     ]
    },
    {
     "name": "stdout",
     "output_type": "stream",
     "text": [
      "\b\b\b\b\b\b\b\b\b\b\b\b\b\b\b\b\b\b\b\b\b\b\b\b\b\b\b\b\b\b\b\b\b\b\b\b\b\b\b\b\b\b\b\b\b\b\b\b\r",
      "28/30 [===========================>..] - ETA: 6s"
     ]
    },
    {
     "name": "stderr",
     "output_type": "stream",
     "text": [
      "Lossy conversion from float64 to uint8. Range [0.0, 1.539208153819656]. Convert image to uint8 prior to saving to suppress this warning.\n",
      "c:\\users\\adrian\\desktop\\kandidatarbete\\deeptrack\\lib\\site-packages\\ipykernel_launcher.py:13: UserWarning: data/particles/predict\\target_28.png is a low contrast image\n",
      "  del sys.path[0]\n",
      "Lossy conversion from float64 to uint8. Range [0, 1]. Convert image to uint8 prior to saving to suppress this warning.\n"
     ]
    },
    {
     "name": "stdout",
     "output_type": "stream",
     "text": [
      "\b\b\b\b\b\b\b\b\b\b\b\b\b\b\b\b\b\b\b\b\b\b\b\b\b\b\b\b\b\b\b\b\b\b\b\b\b\b\b\b\b\b\b\b\b\b\b\b\r",
      "29/30 [============================>.] - ETA: 3s"
     ]
    },
    {
     "name": "stderr",
     "output_type": "stream",
     "text": [
      "Lossy conversion from float64 to uint8. Range [0.0, 1.6301536554475076]. Convert image to uint8 prior to saving to suppress this warning.\n",
      "c:\\users\\adrian\\desktop\\kandidatarbete\\deeptrack\\lib\\site-packages\\ipykernel_launcher.py:13: UserWarning: data/particles/predict\\target_29.png is a low contrast image\n",
      "  del sys.path[0]\n",
      "Lossy conversion from float64 to uint8. Range [0, 1]. Convert image to uint8 prior to saving to suppress this warning.\n"
     ]
    },
    {
     "name": "stdout",
     "output_type": "stream",
     "text": [
      "\b\b\b\b\b\b\b\b\b\b\b\b\b\b\b\b\b\b\b\b\b\b\b\b\b\b\b\b\b\b\b\b\b\b\b\b\b\b\b\b\b\b\b\b\b\b\b\b\r",
      "30/30 [==============================] - 98s 3s/step\n"
     ]
    },
    {
     "name": "stderr",
     "output_type": "stream",
     "text": [
      "C:\\Users\\Adrian\\Desktop\\Kandidatarbete\\UnetTrack\\unet-master\\data.py:124: UserWarning: data/particle/predict\\0_predict.png is a low contrast image\n",
      "  io.imsave(os.path.join(save_path,\"%d_predict.png\"%i),img)\n"
     ]
    },
    {
     "ename": "FileNotFoundError",
     "evalue": "The directory 'C:\\\\Users\\\\Adrian\\\\Desktop\\\\Kandidatarbete\\\\UnetTrack\\\\unet-master\\\\data\\\\particle\\\\predict' does not exist",
     "output_type": "error",
     "traceback": [
      "\u001b[1;31m---------------------------------------------------------------------------\u001b[0m",
      "\u001b[1;31mFileNotFoundError\u001b[0m                         Traceback (most recent call last)",
      "\u001b[1;32m<ipython-input-9-3aaff9a0253c>\u001b[0m in \u001b[0;36m<module>\u001b[1;34m\u001b[0m\n\u001b[0;32m     18\u001b[0m \u001b[0mmodel\u001b[0m\u001b[1;33m.\u001b[0m\u001b[0mload_weights\u001b[0m\u001b[1;33m(\u001b[0m\u001b[1;34m\"unet_particle.hdf5\"\u001b[0m\u001b[1;33m)\u001b[0m\u001b[1;33m\u001b[0m\u001b[1;33m\u001b[0m\u001b[0m\n\u001b[0;32m     19\u001b[0m \u001b[0mresults\u001b[0m \u001b[1;33m=\u001b[0m \u001b[0mmodel\u001b[0m\u001b[1;33m.\u001b[0m\u001b[0mpredict_generator\u001b[0m\u001b[1;33m(\u001b[0m\u001b[0mtestGene\u001b[0m\u001b[1;33m,\u001b[0m\u001b[1;36m30\u001b[0m\u001b[1;33m,\u001b[0m\u001b[0mverbose\u001b[0m\u001b[1;33m=\u001b[0m\u001b[1;36m1\u001b[0m\u001b[1;33m)\u001b[0m\u001b[1;33m\u001b[0m\u001b[1;33m\u001b[0m\u001b[0m\n\u001b[1;32m---> 20\u001b[1;33m \u001b[0msaveResult\u001b[0m\u001b[1;33m(\u001b[0m\u001b[1;34m\"data/particle/predict\"\u001b[0m\u001b[1;33m,\u001b[0m\u001b[0mresults\u001b[0m\u001b[1;33m)\u001b[0m\u001b[1;33m\u001b[0m\u001b[1;33m\u001b[0m\u001b[0m\n\u001b[0m",
      "\u001b[1;32m~\\Desktop\\Kandidatarbete\\UnetTrack\\unet-master\\data.py\u001b[0m in \u001b[0;36msaveResult\u001b[1;34m(save_path, npyfile, flag_multi_class, num_class)\u001b[0m\n\u001b[0;32m    122\u001b[0m     \u001b[1;32mfor\u001b[0m \u001b[0mi\u001b[0m\u001b[1;33m,\u001b[0m\u001b[0mitem\u001b[0m \u001b[1;32min\u001b[0m \u001b[0menumerate\u001b[0m\u001b[1;33m(\u001b[0m\u001b[0mnpyfile\u001b[0m\u001b[1;33m)\u001b[0m\u001b[1;33m:\u001b[0m\u001b[1;33m\u001b[0m\u001b[1;33m\u001b[0m\u001b[0m\n\u001b[0;32m    123\u001b[0m         \u001b[0mimg\u001b[0m \u001b[1;33m=\u001b[0m \u001b[0mlabelVisualize\u001b[0m\u001b[1;33m(\u001b[0m\u001b[0mnum_class\u001b[0m\u001b[1;33m,\u001b[0m\u001b[0mCOLOR_DICT\u001b[0m\u001b[1;33m,\u001b[0m\u001b[0mitem\u001b[0m\u001b[1;33m)\u001b[0m \u001b[1;32mif\u001b[0m \u001b[0mflag_multi_class\u001b[0m \u001b[1;32melse\u001b[0m \u001b[0mitem\u001b[0m\u001b[1;33m[\u001b[0m\u001b[1;33m:\u001b[0m\u001b[1;33m,\u001b[0m\u001b[1;33m:\u001b[0m\u001b[1;33m,\u001b[0m\u001b[1;36m0\u001b[0m\u001b[1;33m]\u001b[0m\u001b[1;33m\u001b[0m\u001b[1;33m\u001b[0m\u001b[0m\n\u001b[1;32m--> 124\u001b[1;33m         \u001b[0mio\u001b[0m\u001b[1;33m.\u001b[0m\u001b[0mimsave\u001b[0m\u001b[1;33m(\u001b[0m\u001b[0mos\u001b[0m\u001b[1;33m.\u001b[0m\u001b[0mpath\u001b[0m\u001b[1;33m.\u001b[0m\u001b[0mjoin\u001b[0m\u001b[1;33m(\u001b[0m\u001b[0msave_path\u001b[0m\u001b[1;33m,\u001b[0m\u001b[1;34m\"%d_predict.png\"\u001b[0m\u001b[1;33m%\u001b[0m\u001b[0mi\u001b[0m\u001b[1;33m)\u001b[0m\u001b[1;33m,\u001b[0m\u001b[0mimg\u001b[0m\u001b[1;33m)\u001b[0m\u001b[1;33m\u001b[0m\u001b[1;33m\u001b[0m\u001b[0m\n\u001b[0m",
      "\u001b[1;32mc:\\users\\adrian\\desktop\\kandidatarbete\\deeptrack\\lib\\site-packages\\skimage\\io\\_io.py\u001b[0m in \u001b[0;36mimsave\u001b[1;34m(fname, arr, plugin, check_contrast, **plugin_args)\u001b[0m\n\u001b[0;32m    129\u001b[0m     \u001b[1;32mif\u001b[0m \u001b[0marr\u001b[0m\u001b[1;33m.\u001b[0m\u001b[0mdtype\u001b[0m \u001b[1;33m==\u001b[0m \u001b[0mbool\u001b[0m\u001b[1;33m:\u001b[0m\u001b[1;33m\u001b[0m\u001b[1;33m\u001b[0m\u001b[0m\n\u001b[0;32m    130\u001b[0m         \u001b[0mwarn\u001b[0m\u001b[1;33m(\u001b[0m\u001b[1;34m'%s is a boolean image: setting True to 1 and False to 0'\u001b[0m \u001b[1;33m%\u001b[0m \u001b[0mfname\u001b[0m\u001b[1;33m)\u001b[0m\u001b[1;33m\u001b[0m\u001b[1;33m\u001b[0m\u001b[0m\n\u001b[1;32m--> 131\u001b[1;33m     \u001b[1;32mreturn\u001b[0m \u001b[0mcall_plugin\u001b[0m\u001b[1;33m(\u001b[0m\u001b[1;34m'imsave'\u001b[0m\u001b[1;33m,\u001b[0m \u001b[0mfname\u001b[0m\u001b[1;33m,\u001b[0m \u001b[0marr\u001b[0m\u001b[1;33m,\u001b[0m \u001b[0mplugin\u001b[0m\u001b[1;33m=\u001b[0m\u001b[0mplugin\u001b[0m\u001b[1;33m,\u001b[0m \u001b[1;33m**\u001b[0m\u001b[0mplugin_args\u001b[0m\u001b[1;33m)\u001b[0m\u001b[1;33m\u001b[0m\u001b[1;33m\u001b[0m\u001b[0m\n\u001b[0m\u001b[0;32m    132\u001b[0m \u001b[1;33m\u001b[0m\u001b[0m\n\u001b[0;32m    133\u001b[0m \u001b[1;33m\u001b[0m\u001b[0m\n",
      "\u001b[1;32mc:\\users\\adrian\\desktop\\kandidatarbete\\deeptrack\\lib\\site-packages\\skimage\\io\\manage_plugins.py\u001b[0m in \u001b[0;36mcall_plugin\u001b[1;34m(kind, *args, **kwargs)\u001b[0m\n\u001b[0;32m    208\u001b[0m                                (plugin, kind))\n\u001b[0;32m    209\u001b[0m \u001b[1;33m\u001b[0m\u001b[0m\n\u001b[1;32m--> 210\u001b[1;33m     \u001b[1;32mreturn\u001b[0m \u001b[0mfunc\u001b[0m\u001b[1;33m(\u001b[0m\u001b[1;33m*\u001b[0m\u001b[0margs\u001b[0m\u001b[1;33m,\u001b[0m \u001b[1;33m**\u001b[0m\u001b[0mkwargs\u001b[0m\u001b[1;33m)\u001b[0m\u001b[1;33m\u001b[0m\u001b[1;33m\u001b[0m\u001b[0m\n\u001b[0m\u001b[0;32m    211\u001b[0m \u001b[1;33m\u001b[0m\u001b[0m\n\u001b[0;32m    212\u001b[0m \u001b[1;33m\u001b[0m\u001b[0m\n",
      "\u001b[1;32mc:\\users\\adrian\\desktop\\kandidatarbete\\deeptrack\\lib\\site-packages\\imageio\\core\\functions.py\u001b[0m in \u001b[0;36mimwrite\u001b[1;34m(uri, im, format, **kwargs)\u001b[0m\n\u001b[0;32m    300\u001b[0m \u001b[1;33m\u001b[0m\u001b[0m\n\u001b[0;32m    301\u001b[0m     \u001b[1;31m# Get writer and write first\u001b[0m\u001b[1;33m\u001b[0m\u001b[1;33m\u001b[0m\u001b[1;33m\u001b[0m\u001b[0m\n\u001b[1;32m--> 302\u001b[1;33m     \u001b[0mwriter\u001b[0m \u001b[1;33m=\u001b[0m \u001b[0mget_writer\u001b[0m\u001b[1;33m(\u001b[0m\u001b[0muri\u001b[0m\u001b[1;33m,\u001b[0m \u001b[0mformat\u001b[0m\u001b[1;33m,\u001b[0m \u001b[1;34m\"i\"\u001b[0m\u001b[1;33m,\u001b[0m \u001b[1;33m**\u001b[0m\u001b[0mkwargs\u001b[0m\u001b[1;33m)\u001b[0m\u001b[1;33m\u001b[0m\u001b[1;33m\u001b[0m\u001b[0m\n\u001b[0m\u001b[0;32m    303\u001b[0m     \u001b[1;32mwith\u001b[0m \u001b[0mwriter\u001b[0m\u001b[1;33m:\u001b[0m\u001b[1;33m\u001b[0m\u001b[1;33m\u001b[0m\u001b[0m\n\u001b[0;32m    304\u001b[0m         \u001b[0mwriter\u001b[0m\u001b[1;33m.\u001b[0m\u001b[0mappend_data\u001b[0m\u001b[1;33m(\u001b[0m\u001b[0mim\u001b[0m\u001b[1;33m)\u001b[0m\u001b[1;33m\u001b[0m\u001b[1;33m\u001b[0m\u001b[0m\n",
      "\u001b[1;32mc:\\users\\adrian\\desktop\\kandidatarbete\\deeptrack\\lib\\site-packages\\imageio\\core\\functions.py\u001b[0m in \u001b[0;36mget_writer\u001b[1;34m(uri, format, mode, **kwargs)\u001b[0m\n\u001b[0;32m    215\u001b[0m \u001b[1;33m\u001b[0m\u001b[0m\n\u001b[0;32m    216\u001b[0m     \u001b[1;31m# Create request object\u001b[0m\u001b[1;33m\u001b[0m\u001b[1;33m\u001b[0m\u001b[1;33m\u001b[0m\u001b[0m\n\u001b[1;32m--> 217\u001b[1;33m     \u001b[0mrequest\u001b[0m \u001b[1;33m=\u001b[0m \u001b[0mRequest\u001b[0m\u001b[1;33m(\u001b[0m\u001b[0muri\u001b[0m\u001b[1;33m,\u001b[0m \u001b[1;34m\"w\"\u001b[0m \u001b[1;33m+\u001b[0m \u001b[0mmode\u001b[0m\u001b[1;33m,\u001b[0m \u001b[1;33m**\u001b[0m\u001b[0mkwargs\u001b[0m\u001b[1;33m)\u001b[0m\u001b[1;33m\u001b[0m\u001b[1;33m\u001b[0m\u001b[0m\n\u001b[0m\u001b[0;32m    218\u001b[0m \u001b[1;33m\u001b[0m\u001b[0m\n\u001b[0;32m    219\u001b[0m     \u001b[1;31m# Get format\u001b[0m\u001b[1;33m\u001b[0m\u001b[1;33m\u001b[0m\u001b[1;33m\u001b[0m\u001b[0m\n",
      "\u001b[1;32mc:\\users\\adrian\\desktop\\kandidatarbete\\deeptrack\\lib\\site-packages\\imageio\\core\\request.py\u001b[0m in \u001b[0;36m__init__\u001b[1;34m(self, uri, mode, **kwargs)\u001b[0m\n\u001b[0;32m    124\u001b[0m \u001b[1;33m\u001b[0m\u001b[0m\n\u001b[0;32m    125\u001b[0m         \u001b[1;31m# Parse what was given\u001b[0m\u001b[1;33m\u001b[0m\u001b[1;33m\u001b[0m\u001b[1;33m\u001b[0m\u001b[0m\n\u001b[1;32m--> 126\u001b[1;33m         \u001b[0mself\u001b[0m\u001b[1;33m.\u001b[0m\u001b[0m_parse_uri\u001b[0m\u001b[1;33m(\u001b[0m\u001b[0muri\u001b[0m\u001b[1;33m)\u001b[0m\u001b[1;33m\u001b[0m\u001b[1;33m\u001b[0m\u001b[0m\n\u001b[0m\u001b[0;32m    127\u001b[0m \u001b[1;33m\u001b[0m\u001b[0m\n\u001b[0;32m    128\u001b[0m         \u001b[1;31m# Set extension\u001b[0m\u001b[1;33m\u001b[0m\u001b[1;33m\u001b[0m\u001b[1;33m\u001b[0m\u001b[0m\n",
      "\u001b[1;32mc:\\users\\adrian\\desktop\\kandidatarbete\\deeptrack\\lib\\site-packages\\imageio\\core\\request.py\u001b[0m in \u001b[0;36m_parse_uri\u001b[1;34m(self, uri)\u001b[0m\n\u001b[0;32m    281\u001b[0m                 \u001b[0mdn\u001b[0m \u001b[1;33m=\u001b[0m \u001b[0mos\u001b[0m\u001b[1;33m.\u001b[0m\u001b[0mpath\u001b[0m\u001b[1;33m.\u001b[0m\u001b[0mdirname\u001b[0m\u001b[1;33m(\u001b[0m\u001b[0mfn\u001b[0m\u001b[1;33m)\u001b[0m\u001b[1;33m\u001b[0m\u001b[1;33m\u001b[0m\u001b[0m\n\u001b[0;32m    282\u001b[0m                 \u001b[1;32mif\u001b[0m \u001b[1;32mnot\u001b[0m \u001b[0mos\u001b[0m\u001b[1;33m.\u001b[0m\u001b[0mpath\u001b[0m\u001b[1;33m.\u001b[0m\u001b[0mexists\u001b[0m\u001b[1;33m(\u001b[0m\u001b[0mdn\u001b[0m\u001b[1;33m)\u001b[0m\u001b[1;33m:\u001b[0m\u001b[1;33m\u001b[0m\u001b[1;33m\u001b[0m\u001b[0m\n\u001b[1;32m--> 283\u001b[1;33m                     \u001b[1;32mraise\u001b[0m \u001b[0mFileNotFoundError\u001b[0m\u001b[1;33m(\u001b[0m\u001b[1;34m\"The directory %r does not exist\"\u001b[0m \u001b[1;33m%\u001b[0m \u001b[0mdn\u001b[0m\u001b[1;33m)\u001b[0m\u001b[1;33m\u001b[0m\u001b[1;33m\u001b[0m\u001b[0m\n\u001b[0m\u001b[0;32m    284\u001b[0m \u001b[1;33m\u001b[0m\u001b[0m\n\u001b[0;32m    285\u001b[0m     \u001b[1;33m@\u001b[0m\u001b[0mproperty\u001b[0m\u001b[1;33m\u001b[0m\u001b[1;33m\u001b[0m\u001b[0m\n",
      "\u001b[1;31mFileNotFoundError\u001b[0m: The directory 'C:\\\\Users\\\\Adrian\\\\Desktop\\\\Kandidatarbete\\\\UnetTrack\\\\unet-master\\\\data\\\\particle\\\\predict' does not exist"
     ]
    },
    {
     "name": "stderr",
     "output_type": "stream",
     "text": [
      "Lossy conversion from float64 to uint8. Range [0.0, 1.6749419634442317]. Convert image to uint8 prior to saving to suppress this warning.\n",
      "c:\\users\\adrian\\desktop\\kandidatarbete\\deeptrack\\lib\\site-packages\\ipykernel_launcher.py:13: UserWarning: data/particles/predict\\target_30.png is a low contrast image\n",
      "  del sys.path[0]\n",
      "Lossy conversion from float64 to uint8. Range [0, 1]. Convert image to uint8 prior to saving to suppress this warning.\n"
     ]
    }
   ],
   "source": [
    "def particleTestGenerator(test_path,num_image = 30,target_size = (256,256),flag_multi_class = False,as_gray = True): \n",
    "    image_parameters = lambda : DT_dev.get_image_parameters_optimized()   \n",
    "    img_generator = lambda : DT_dev.get_image_generator(image_parameters)\n",
    "    \n",
    "    for image_number, image, image_parameters, target in img_generator():\n",
    "        img = image\n",
    "        img = img / 255\n",
    "        img = trans.resize(img,target_size)\n",
    "        img = np.reshape(img,img.shape+(1,)) if (not flag_multi_class) else img\n",
    "        img = np.reshape(img,(1,)+img.shape)\n",
    "        \n",
    "        io.imsave(os.path.join('data/particles/predict',\"particle_%d.png\"%image_number),image[0:512,0:512])\n",
    "        io.imsave(os.path.join('data/particles/predict',\"target_%d.png\"%image_number),target[0:512,0:512])   \n",
    "        yield img\n",
    "\n",
    "testGene = particleTestGenerator(img_generator, \"data/particles/predict\")\n",
    "model = unet()\n",
    "model.load_weights(\"unet_particle.hdf5\")\n",
    "results = model.predict_generator(testGene,30,verbose=1)\n",
    "saveResult(\"data/particles/predict\",results)"
   ]
  },
  {
   "cell_type": "code",
   "execution_count": null,
   "metadata": {},
   "outputs": [],
   "source": []
  },
  {
   "cell_type": "code",
   "execution_count": null,
   "metadata": {},
   "outputs": [],
   "source": []
  }
 ],
 "metadata": {
  "kernelspec": {
   "display_name": "Python 3",
   "language": "python",
   "name": "python3"
  },
  "language_info": {
   "codemirror_mode": {
    "name": "ipython",
    "version": 3
   },
   "file_extension": ".py",
   "mimetype": "text/x-python",
   "name": "python",
   "nbconvert_exporter": "python",
   "pygments_lexer": "ipython3",
   "version": "3.7.6"
  }
 },
 "nbformat": 4,
 "nbformat_minor": 2
}
