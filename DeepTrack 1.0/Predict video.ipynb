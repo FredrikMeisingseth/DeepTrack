{
 "cells": [
  {
   "cell_type": "markdown",
   "metadata": {},
   "source": [
    "## Initialization"
   ]
  },
  {
   "cell_type": "code",
   "execution_count": 1,
   "metadata": {
    "scrolled": false
   },
   "outputs": [],
   "source": [
    "import unet, imageGeneration"
   ]
  },
  {
   "cell_type": "markdown",
   "metadata": {},
   "source": [
    "## Loads network, predicts movie, saves batch"
   ]
  },
  {
   "cell_type": "code",
   "execution_count": 2,
   "metadata": {
    "scrolled": false
   },
   "outputs": [
    {
     "name": "stderr",
     "output_type": "stream",
     "text": [
      "Using TensorFlow backend.\n"
     ]
    }
   ],
   "source": [
    "from nd2reader import ND2Reader\n",
    "import numpy as np\n",
    "\n",
    "number_of_frames = 5\n",
    "\n",
    "#Loads video\n",
    "batch_images = np.zeros((number_of_frames,512,512,1))\n",
    "video_path = '20190313_400um_stch_nocholEV17_Q40_TIRF_002.nd2'\n",
    "with ND2Reader(video_path) as images:\n",
    "    for i in range(number_of_frames):\n",
    "        batch_images[i,:,:,0] = np.asarray(images[i])/255\n",
    "\n",
    "#Predicts video\n",
    "network_path = \"NewNetwork/2020-03-29_1/unet_particle.hdf5\"\n",
    "model = unet.create_unet(pretrained_weights = network_path)\n",
    "batch_predictions = model.predict(batch_images)\n",
    "\n",
    "#Saves batch\n",
    "batch = (batch_images, None, batch_predictions)\n",
    "imageGeneration.save_batch(batch, image_path = 'data/videos/video2/images', prediction_path = 'data/videos/video2/predictions', \n",
    "                           save_images = False, save_labels = False)"
   ]
  },
  {
   "cell_type": "code",
   "execution_count": null,
   "metadata": {},
   "outputs": [],
   "source": []
  }
 ],
 "metadata": {
  "kernelspec": {
   "display_name": "Python 3",
   "language": "python",
   "name": "python3"
  },
  "language_info": {
   "codemirror_mode": {
    "name": "ipython",
    "version": 3
   },
   "file_extension": ".py",
   "mimetype": "text/x-python",
   "name": "python",
   "nbconvert_exporter": "python",
   "pygments_lexer": "ipython3",
   "version": "3.7.6"
  }
 },
 "nbformat": 4,
 "nbformat_minor": 4
}
